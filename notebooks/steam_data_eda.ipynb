{
 "metadata": {
  "language_info": {
   "codemirror_mode": {
    "name": "ipython",
    "version": 3
   },
   "file_extension": ".py",
   "mimetype": "text/x-python",
   "name": "python",
   "nbconvert_exporter": "python",
   "pygments_lexer": "ipython3",
   "version": "3.8.6"
  },
  "orig_nbformat": 2,
  "kernelspec": {
   "name": "pythonjvsc74a57bd0ad516e87f2bc7c4df4a02affd8606061aa29ba892847ba64989b0b9bc6aeaef8",
   "display_name": "Python 3.8.6  ('.venv_sas_rec': venv)"
  },
  "metadata": {
   "interpreter": {
    "hash": "ad516e87f2bc7c4df4a02affd8606061aa29ba892847ba64989b0b9bc6aeaef8"
   }
  }
 },
 "nbformat": 4,
 "nbformat_minor": 2,
 "cells": [
  {
   "cell_type": "code",
   "execution_count": 131,
   "metadata": {},
   "outputs": [],
   "source": [
    "import os\n",
    "import json\n",
    "import ast\n",
    "import math\n",
    "import pandas as pd\n",
    "import gzip\n",
    "import pickle as pkl\n",
    "from collections import defaultdict\n",
    "from datetime import datetime"
   ]
  },
  {
   "cell_type": "code",
   "execution_count": 120,
   "metadata": {},
   "outputs": [
    {
     "output_type": "execute_result",
     "data": {
      "text/plain": [
       "'e:\\\\Workspaces\\\\SASRec.pytorch\\\\notebooks'"
      ]
     },
     "metadata": {},
     "execution_count": 120
    }
   ],
   "source": [
    "os.getcwd()"
   ]
  },
  {
   "cell_type": "code",
   "execution_count": 121,
   "metadata": {},
   "outputs": [],
   "source": [
    "ROOT_DIR = os.path.join(os.getcwd(), \"..\", \"data\", \"Steam\")"
   ]
  },
  {
   "cell_type": "code",
   "execution_count": 122,
   "metadata": {},
   "outputs": [
    {
     "output_type": "execute_result",
     "data": {
      "text/plain": [
       "'e:\\\\Workspaces\\\\SASRec.pytorch\\\\notebooks\\\\..\\\\data\\\\Steam'"
      ]
     },
     "metadata": {},
     "execution_count": 122
    }
   ],
   "source": [
    "ROOT_DIR"
   ]
  },
  {
   "cell_type": "code",
   "execution_count": 123,
   "metadata": {},
   "outputs": [],
   "source": [
    "# def parse(g):\n",
    "#     for l in g:\n",
    "#         yield eval(l)\n",
    "\n",
    "\n",
    "# countU = defaultdict(lambda: 0)\n",
    "# countP = defaultdict(lambda: 0)\n",
    "# line = 0\n",
    "\n",
    "# dataset_name = \"Steam\"\n",
    "# json_file_path = os.path.join(ROOT_DIR, f\"reviews_{dataset_name}.json.gz\")\n",
    "\n",
    "# with gzip.open(json_file_path, \"r\") as g:\n",
    "#     line = 0\n",
    "#     for l in parse(g):\n",
    "#         line += 1\n",
    "#         if line % 100000 == 0:\n",
    "#             print(line)\n",
    "\n",
    "#         product_id = int(l[\"product_id\"])\n",
    "#         username = l[\"username\"]\n",
    "#         time = datetime.strptime(l[\"date\"], \"%Y-%m-%d\")\n",
    "#         countU[username] += 1\n",
    "#         countP[product_id] += 1"
   ]
  },
  {
   "cell_type": "code",
   "execution_count": 124,
   "metadata": {},
   "outputs": [],
   "source": [
    "# keys = set(countP.keys())\n",
    "# ids = set(df['id'].unique())"
   ]
  },
  {
   "cell_type": "code",
   "execution_count": 125,
   "metadata": {},
   "outputs": [],
   "source": [
    "# df[df['id']==340]"
   ]
  },
  {
   "cell_type": "code",
   "execution_count": 126,
   "metadata": {},
   "outputs": [],
   "source": [
    "# keys - ids"
   ]
  },
  {
   "cell_type": "code",
   "execution_count": 127,
   "metadata": {},
   "outputs": [],
   "source": [
    "with open(os.path.join(ROOT_DIR, \"steam_games.json\")) as json_file:\n",
    "    lines = json_file.read().splitlines()\n",
    "records = [ast.literal_eval(line) for line in lines]\n",
    "\n",
    "raw_df = pd.DataFrame(records)"
   ]
  },
  {
   "cell_type": "code",
   "execution_count": 128,
   "metadata": {},
   "outputs": [
    {
     "output_type": "stream",
     "name": "stdout",
     "text": [
      "<class 'pandas.core.frame.DataFrame'>\nRangeIndex: 32135 entries, 0 to 32134\nData columns (total 16 columns):\n #   Column          Non-Null Count  Dtype  \n---  ------          --------------  -----  \n 0   publisher       24083 non-null  object \n 1   genres          28852 non-null  object \n 2   app_name        32133 non-null  object \n 3   title           30085 non-null  object \n 4   url             32135 non-null  object \n 5   release_date    30068 non-null  object \n 6   tags            31972 non-null  object \n 7   discount_price  225 non-null    float64\n 8   reviews_url     32133 non-null  object \n 9   specs           31465 non-null  object \n 10  price           30758 non-null  object \n 11  early_access    32135 non-null  bool   \n 12  id              32133 non-null  object \n 13  developer       28836 non-null  object \n 14  sentiment       24953 non-null  object \n 15  metascore       2677 non-null   object \ndtypes: bool(1), float64(1), object(14)\nmemory usage: 3.7+ MB\n"
     ]
    }
   ],
   "source": [
    "raw_df.info()"
   ]
  },
  {
   "cell_type": "code",
   "execution_count": 154,
   "metadata": {},
   "outputs": [],
   "source": [
    "df = raw_df[['id', 'sentiment', 'genres', 'specs', 'price', 'early_access']]"
   ]
  },
  {
   "cell_type": "code",
   "execution_count": 155,
   "metadata": {},
   "outputs": [
    {
     "output_type": "stream",
     "name": "stdout",
     "text": [
      "13048\n",
      "<ipython-input-155-97ddd31a8a19>:2: SettingWithCopyWarning: \n",
      "A value is trying to be set on a copy of a slice from a DataFrame\n",
      "\n",
      "See the caveats in the documentation: https://pandas.pydata.org/pandas-docs/stable/user_guide/indexing.html#returning-a-view-versus-a-copy\n",
      "  df.dropna(subset = ['id'], inplace=True)\n",
      "<ipython-input-155-97ddd31a8a19>:3: SettingWithCopyWarning: \n",
      "A value is trying to be set on a copy of a slice from a DataFrame.\n",
      "Try using .loc[row_indexer,col_indexer] = value instead\n",
      "\n",
      "See the caveats in the documentation: https://pandas.pydata.org/pandas-docs/stable/user_guide/indexing.html#returning-a-view-versus-a-copy\n",
      "  df['id'] = df['id'].astype(int)\n",
      "<ipython-input-155-97ddd31a8a19>:8: SettingWithCopyWarning: \n",
      "A value is trying to be set on a copy of a slice from a DataFrame.\n",
      "Try using .loc[row_indexer,col_indexer] = value instead\n",
      "\n",
      "See the caveats in the documentation: https://pandas.pydata.org/pandas-docs/stable/user_guide/indexing.html#returning-a-view-versus-a-copy\n",
      "  df['id'] = df['id'].apply(lambda x: itemmap[x] if x in  itemmap else None)\n",
      "<ipython-input-155-97ddd31a8a19>:9: SettingWithCopyWarning: \n",
      "A value is trying to be set on a copy of a slice from a DataFrame\n",
      "\n",
      "See the caveats in the documentation: https://pandas.pydata.org/pandas-docs/stable/user_guide/indexing.html#returning-a-view-versus-a-copy\n",
      "  df.dropna(subset = ['id'], inplace=True)\n"
     ]
    }
   ],
   "source": [
    "#fix id\n",
    "df.dropna(subset = ['id'], inplace=True)\n",
    "df['id'] = df['id'].astype(int)\n",
    "\n",
    "itemmap = {}\n",
    "with open(os.path.join(ROOT_DIR, \"itemmap.pkl\"), 'rb') as f:\n",
    "    itemmap = pkl.load(f)\n",
    "df['id'] = df['id'].apply(lambda x: itemmap[x] if x in  itemmap else None)\n",
    "df.dropna(subset = ['id'], inplace=True)\n",
    "print(len(df))"
   ]
  },
  {
   "cell_type": "code",
   "execution_count": 156,
   "metadata": {},
   "outputs": [
    {
     "output_type": "stream",
     "name": "stderr",
     "text": [
      "<ipython-input-156-261ac1949ad6>:15: SettingWithCopyWarning: \nA value is trying to be set on a copy of a slice from a DataFrame.\nTry using .loc[row_indexer,col_indexer] = value instead\n\nSee the caveats in the documentation: https://pandas.pydata.org/pandas-docs/stable/user_guide/indexing.html#returning-a-view-versus-a-copy\n  df['sentiment'] = df['sentiment'].fillna('Unknown')\n<ipython-input-156-261ac1949ad6>:16: SettingWithCopyWarning: \nA value is trying to be set on a copy of a slice from a DataFrame.\nTry using .loc[row_indexer,col_indexer] = value instead\n\nSee the caveats in the documentation: https://pandas.pydata.org/pandas-docs/stable/user_guide/indexing.html#returning-a-view-versus-a-copy\n  df['sentiment'] = df['sentiment'].apply(lambda x: x if x in sentiments else 'Unknown')\n<ipython-input-156-261ac1949ad6>:17: SettingWithCopyWarning: \nA value is trying to be set on a copy of a slice from a DataFrame.\nTry using .loc[row_indexer,col_indexer] = value instead\n\nSee the caveats in the documentation: https://pandas.pydata.org/pandas-docs/stable/user_guide/indexing.html#returning-a-view-versus-a-copy\n  df['sentiment'] = df['sentiment'].apply(lambda x: sentiments_dict[x])\n<ipython-input-156-261ac1949ad6>:18: SettingWithCopyWarning: \nA value is trying to be set on a copy of a slice from a DataFrame.\nTry using .loc[row_indexer,col_indexer] = value instead\n\nSee the caveats in the documentation: https://pandas.pydata.org/pandas-docs/stable/user_guide/indexing.html#returning-a-view-versus-a-copy\n  df['sentiment'] = df['sentiment'].astype(int)\n"
     ]
    }
   ],
   "source": [
    "#fix sentiment\n",
    "sentiments = ['Unknown', 'Overwhelmingly Negative', \"Very Negative\", \"Negative\", \"Mostly Negative\", \"Mixed\", \"Mostly Positive\", \"Positive\" , \"Very Positive\" ,\"Overwhelmingly Positive\"]\n",
    "sentiments_dict = {\n",
    "    'Unknown': -1,\n",
    "    'Overwhelmingly Negative': 0,\n",
    "    'Very Negative': 1,\n",
    "    'Negative': 2,\n",
    "    'Mostly Negative': 3,\n",
    "    'Mixed': 4,\n",
    "    'Mostly Positive': 5,\n",
    "    'Positive': 6,\n",
    "    'Very Positive': 7,\n",
    "    'Overwhelmingly Positive': 8,\n",
    "}\n",
    "df['sentiment'] = df['sentiment'].fillna('Unknown')\n",
    "df['sentiment'] = df['sentiment'].apply(lambda x: x if x in sentiments else 'Unknown')\n",
    "df['sentiment'] = df['sentiment'].apply(lambda x: sentiments_dict[x])\n",
    "df['sentiment'] = df['sentiment'].astype(int)"
   ]
  },
  {
   "cell_type": "code",
   "execution_count": 157,
   "metadata": {},
   "outputs": [
    {
     "output_type": "stream",
     "name": "stdout",
     "text": [
      "22\n",
      "<ipython-input-157-d9d1c6b5298e>:14: SettingWithCopyWarning: \n",
      "A value is trying to be set on a copy of a slice from a DataFrame.\n",
      "Try using .loc[row_indexer,col_indexer] = value instead\n",
      "\n",
      "See the caveats in the documentation: https://pandas.pydata.org/pandas-docs/stable/user_guide/indexing.html#returning-a-view-versus-a-copy\n",
      "  df[f'genre_{genre}'] = df['genres'].apply(lambda x: is_in_genere(genre=genre, x=x))\n",
      "e:\\Workspaces\\SASRec.pytorch\\.venv_sas_rec\\lib\\site-packages\\pandas\\core\\frame.py:4308: SettingWithCopyWarning: \n",
      "A value is trying to be set on a copy of a slice from a DataFrame\n",
      "\n",
      "See the caveats in the documentation: https://pandas.pydata.org/pandas-docs/stable/user_guide/indexing.html#returning-a-view-versus-a-copy\n",
      "  return super().drop(\n"
     ]
    }
   ],
   "source": [
    "#fix genres\n",
    "genres = set()\n",
    "for item in list(raw_df[\"genres\"].dropna()):        \n",
    "    genres = genres | set(item)\n",
    "print(len(genres))\n",
    "\n",
    "def is_in_genere(genre, x):\n",
    "    try:\n",
    "        return 1 if genre in x else 0\n",
    "    except:\n",
    "        return 0\n",
    "\n",
    "for genre in genres:\n",
    "    df[f'genre_{genre}'] = df['genres'].apply(lambda x: is_in_genere(genre=genre, x=x))\n",
    "\n",
    "df.drop(columns=['genres'],inplace=True)"
   ]
  },
  {
   "cell_type": "code",
   "execution_count": 158,
   "metadata": {},
   "outputs": [
    {
     "output_type": "stream",
     "name": "stdout",
     "text": [
      "40\n",
      "<ipython-input-158-c31250a17a95>:14: SettingWithCopyWarning: \n",
      "A value is trying to be set on a copy of a slice from a DataFrame.\n",
      "Try using .loc[row_indexer,col_indexer] = value instead\n",
      "\n",
      "See the caveats in the documentation: https://pandas.pydata.org/pandas-docs/stable/user_guide/indexing.html#returning-a-view-versus-a-copy\n",
      "  df[f'spec_{spec}'] = df['specs'].apply(lambda x: is_in_spec(spec, x))\n"
     ]
    }
   ],
   "source": [
    "#fix specs\n",
    "specs = set()\n",
    "for item in list(raw_df[\"specs\"].dropna()):        \n",
    "    specs = specs | set(item)\n",
    "print(len(specs))\n",
    "\n",
    "def is_in_spec(spec, x):\n",
    "    try:\n",
    "        return 1 if spec in x else 0\n",
    "    except:\n",
    "        return 0\n",
    "\n",
    "for spec in specs:\n",
    "    df[f'spec_{spec}'] = df['specs'].apply(lambda x: is_in_spec(spec, x))\n",
    "\n",
    "df.drop(columns=['specs'],inplace=True)"
   ]
  },
  {
   "cell_type": "code",
   "execution_count": 159,
   "metadata": {},
   "outputs": [
    {
     "output_type": "execute_result",
     "data": {
      "text/plain": [
       "            id  sentiment         price  early_access  genre_Web Publishing  \\\n",
       "1       3061.0          5  Free To Play         False                     0   \n",
       "2       2019.0          5  Free to Play         False                     0   \n",
       "5      10834.0          4          3.99         False                     0   \n",
       "27      6827.0          7          9.99         False                     0   \n",
       "28      3583.0          8          9.99         False                     0   \n",
       "...        ...        ...           ...           ...                   ...   \n",
       "32116   6392.0          8         14.99         False                     0   \n",
       "32117   2950.0          7          9.99         False                     0   \n",
       "32124  10483.0         -1          0.99         False                     0   \n",
       "32129   9334.0         -1          1.99         False                     0   \n",
       "32133   2839.0         -1          4.99         False                     0   \n",
       "\n",
       "       genre_Accounting  genre_Photo Editing  genre_Video Production  \\\n",
       "1                     0                    0                       0   \n",
       "2                     0                    0                       0   \n",
       "5                     0                    0                       0   \n",
       "27                    0                    0                       0   \n",
       "28                    0                    0                       0   \n",
       "...                 ...                  ...                     ...   \n",
       "32116                 0                    0                       0   \n",
       "32117                 0                    0                       0   \n",
       "32124                 0                    0                       0   \n",
       "32129                 0                    0                       0   \n",
       "32133                 0                    0                       0   \n",
       "\n",
       "       genre_Sports  genre_Early Access  ...  spec_Co-op  \\\n",
       "1                 0                   0  ...           0   \n",
       "2                 1                   0  ...           0   \n",
       "5                 0                   0  ...           0   \n",
       "27                0                   0  ...           0   \n",
       "28                0                   0  ...           0   \n",
       "...             ...                 ...  ...         ...   \n",
       "32116             0                   0  ...           0   \n",
       "32117             0                   0  ...           0   \n",
       "32124             0                   0  ...           0   \n",
       "32129             0                   0  ...           0   \n",
       "32133             0                   0  ...           0   \n",
       "\n",
       "       spec_Cross-Platform Multiplayer  spec_Keyboard / Mouse  \\\n",
       "1                                    1                      0   \n",
       "2                                    0                      0   \n",
       "5                                    0                      0   \n",
       "27                                   0                      0   \n",
       "28                                   0                      0   \n",
       "...                                ...                    ...   \n",
       "32116                                0                      0   \n",
       "32117                                0                      0   \n",
       "32124                                0                      0   \n",
       "32129                                0                      0   \n",
       "32133                                0                      0   \n",
       "\n",
       "       spec_Commentary available  spec_Tracked Motion Controllers  \\\n",
       "1                              0                                0   \n",
       "2                              0                                0   \n",
       "5                              0                                0   \n",
       "27                             0                                0   \n",
       "28                             0                                0   \n",
       "...                          ...                              ...   \n",
       "32116                          0                                0   \n",
       "32117                          0                                0   \n",
       "32124                          0                                0   \n",
       "32129                          0                                0   \n",
       "32133                          0                                0   \n",
       "\n",
       "       spec_Standing  spec_Full controller support  spec_MMO  \\\n",
       "1                  0                             0         0   \n",
       "2                  0                             0         0   \n",
       "5                  0                             0         0   \n",
       "27                 0                             0         0   \n",
       "28                 0                             0         0   \n",
       "...              ...                           ...       ...   \n",
       "32116              0                             0         0   \n",
       "32117              0                             0         0   \n",
       "32124              0                             0         0   \n",
       "32129              0                             0         0   \n",
       "32133              0                             0         0   \n",
       "\n",
       "       spec_In-App Purchases  spec_Game demo  \n",
       "1                          1               0  \n",
       "2                          1               0  \n",
       "5                          0               0  \n",
       "27                         0               0  \n",
       "28                         0               0  \n",
       "...                      ...             ...  \n",
       "32116                      0               0  \n",
       "32117                      0               0  \n",
       "32124                      0               0  \n",
       "32129                      0               0  \n",
       "32133                      0               0  \n",
       "\n",
       "[13048 rows x 66 columns]"
      ],
      "text/html": "<div>\n<style scoped>\n    .dataframe tbody tr th:only-of-type {\n        vertical-align: middle;\n    }\n\n    .dataframe tbody tr th {\n        vertical-align: top;\n    }\n\n    .dataframe thead th {\n        text-align: right;\n    }\n</style>\n<table border=\"1\" class=\"dataframe\">\n  <thead>\n    <tr style=\"text-align: right;\">\n      <th></th>\n      <th>id</th>\n      <th>sentiment</th>\n      <th>price</th>\n      <th>early_access</th>\n      <th>genre_Web Publishing</th>\n      <th>genre_Accounting</th>\n      <th>genre_Photo Editing</th>\n      <th>genre_Video Production</th>\n      <th>genre_Sports</th>\n      <th>genre_Early Access</th>\n      <th>...</th>\n      <th>spec_Co-op</th>\n      <th>spec_Cross-Platform Multiplayer</th>\n      <th>spec_Keyboard / Mouse</th>\n      <th>spec_Commentary available</th>\n      <th>spec_Tracked Motion Controllers</th>\n      <th>spec_Standing</th>\n      <th>spec_Full controller support</th>\n      <th>spec_MMO</th>\n      <th>spec_In-App Purchases</th>\n      <th>spec_Game demo</th>\n    </tr>\n  </thead>\n  <tbody>\n    <tr>\n      <th>1</th>\n      <td>3061.0</td>\n      <td>5</td>\n      <td>Free To Play</td>\n      <td>False</td>\n      <td>0</td>\n      <td>0</td>\n      <td>0</td>\n      <td>0</td>\n      <td>0</td>\n      <td>0</td>\n      <td>...</td>\n      <td>0</td>\n      <td>1</td>\n      <td>0</td>\n      <td>0</td>\n      <td>0</td>\n      <td>0</td>\n      <td>0</td>\n      <td>0</td>\n      <td>1</td>\n      <td>0</td>\n    </tr>\n    <tr>\n      <th>2</th>\n      <td>2019.0</td>\n      <td>5</td>\n      <td>Free to Play</td>\n      <td>False</td>\n      <td>0</td>\n      <td>0</td>\n      <td>0</td>\n      <td>0</td>\n      <td>1</td>\n      <td>0</td>\n      <td>...</td>\n      <td>0</td>\n      <td>0</td>\n      <td>0</td>\n      <td>0</td>\n      <td>0</td>\n      <td>0</td>\n      <td>0</td>\n      <td>0</td>\n      <td>1</td>\n      <td>0</td>\n    </tr>\n    <tr>\n      <th>5</th>\n      <td>10834.0</td>\n      <td>4</td>\n      <td>3.99</td>\n      <td>False</td>\n      <td>0</td>\n      <td>0</td>\n      <td>0</td>\n      <td>0</td>\n      <td>0</td>\n      <td>0</td>\n      <td>...</td>\n      <td>0</td>\n      <td>0</td>\n      <td>0</td>\n      <td>0</td>\n      <td>0</td>\n      <td>0</td>\n      <td>0</td>\n      <td>0</td>\n      <td>0</td>\n      <td>0</td>\n    </tr>\n    <tr>\n      <th>27</th>\n      <td>6827.0</td>\n      <td>7</td>\n      <td>9.99</td>\n      <td>False</td>\n      <td>0</td>\n      <td>0</td>\n      <td>0</td>\n      <td>0</td>\n      <td>0</td>\n      <td>0</td>\n      <td>...</td>\n      <td>0</td>\n      <td>0</td>\n      <td>0</td>\n      <td>0</td>\n      <td>0</td>\n      <td>0</td>\n      <td>0</td>\n      <td>0</td>\n      <td>0</td>\n      <td>0</td>\n    </tr>\n    <tr>\n      <th>28</th>\n      <td>3583.0</td>\n      <td>8</td>\n      <td>9.99</td>\n      <td>False</td>\n      <td>0</td>\n      <td>0</td>\n      <td>0</td>\n      <td>0</td>\n      <td>0</td>\n      <td>0</td>\n      <td>...</td>\n      <td>0</td>\n      <td>0</td>\n      <td>0</td>\n      <td>0</td>\n      <td>0</td>\n      <td>0</td>\n      <td>0</td>\n      <td>0</td>\n      <td>0</td>\n      <td>0</td>\n    </tr>\n    <tr>\n      <th>...</th>\n      <td>...</td>\n      <td>...</td>\n      <td>...</td>\n      <td>...</td>\n      <td>...</td>\n      <td>...</td>\n      <td>...</td>\n      <td>...</td>\n      <td>...</td>\n      <td>...</td>\n      <td>...</td>\n      <td>...</td>\n      <td>...</td>\n      <td>...</td>\n      <td>...</td>\n      <td>...</td>\n      <td>...</td>\n      <td>...</td>\n      <td>...</td>\n      <td>...</td>\n      <td>...</td>\n    </tr>\n    <tr>\n      <th>32116</th>\n      <td>6392.0</td>\n      <td>8</td>\n      <td>14.99</td>\n      <td>False</td>\n      <td>0</td>\n      <td>0</td>\n      <td>0</td>\n      <td>0</td>\n      <td>0</td>\n      <td>0</td>\n      <td>...</td>\n      <td>0</td>\n      <td>0</td>\n      <td>0</td>\n      <td>0</td>\n      <td>0</td>\n      <td>0</td>\n      <td>0</td>\n      <td>0</td>\n      <td>0</td>\n      <td>0</td>\n    </tr>\n    <tr>\n      <th>32117</th>\n      <td>2950.0</td>\n      <td>7</td>\n      <td>9.99</td>\n      <td>False</td>\n      <td>0</td>\n      <td>0</td>\n      <td>0</td>\n      <td>0</td>\n      <td>0</td>\n      <td>0</td>\n      <td>...</td>\n      <td>0</td>\n      <td>0</td>\n      <td>0</td>\n      <td>0</td>\n      <td>0</td>\n      <td>0</td>\n      <td>0</td>\n      <td>0</td>\n      <td>0</td>\n      <td>0</td>\n    </tr>\n    <tr>\n      <th>32124</th>\n      <td>10483.0</td>\n      <td>-1</td>\n      <td>0.99</td>\n      <td>False</td>\n      <td>0</td>\n      <td>0</td>\n      <td>0</td>\n      <td>0</td>\n      <td>0</td>\n      <td>0</td>\n      <td>...</td>\n      <td>0</td>\n      <td>0</td>\n      <td>0</td>\n      <td>0</td>\n      <td>0</td>\n      <td>0</td>\n      <td>0</td>\n      <td>0</td>\n      <td>0</td>\n      <td>0</td>\n    </tr>\n    <tr>\n      <th>32129</th>\n      <td>9334.0</td>\n      <td>-1</td>\n      <td>1.99</td>\n      <td>False</td>\n      <td>0</td>\n      <td>0</td>\n      <td>0</td>\n      <td>0</td>\n      <td>0</td>\n      <td>0</td>\n      <td>...</td>\n      <td>0</td>\n      <td>0</td>\n      <td>0</td>\n      <td>0</td>\n      <td>0</td>\n      <td>0</td>\n      <td>0</td>\n      <td>0</td>\n      <td>0</td>\n      <td>0</td>\n    </tr>\n    <tr>\n      <th>32133</th>\n      <td>2839.0</td>\n      <td>-1</td>\n      <td>4.99</td>\n      <td>False</td>\n      <td>0</td>\n      <td>0</td>\n      <td>0</td>\n      <td>0</td>\n      <td>0</td>\n      <td>0</td>\n      <td>...</td>\n      <td>0</td>\n      <td>0</td>\n      <td>0</td>\n      <td>0</td>\n      <td>0</td>\n      <td>0</td>\n      <td>0</td>\n      <td>0</td>\n      <td>0</td>\n      <td>0</td>\n    </tr>\n  </tbody>\n</table>\n<p>13048 rows × 66 columns</p>\n</div>"
     },
     "metadata": {},
     "execution_count": 159
    }
   ],
   "source": [
    "df"
   ]
  },
  {
   "cell_type": "code",
   "execution_count": 160,
   "metadata": {},
   "outputs": [
    {
     "output_type": "stream",
     "name": "stderr",
     "text": [
      "<ipython-input-160-21546650a4c6>:5: SettingWithCopyWarning: \nA value is trying to be set on a copy of a slice from a DataFrame.\nTry using .loc[row_indexer,col_indexer] = value instead\n\nSee the caveats in the documentation: https://pandas.pydata.org/pandas-docs/stable/user_guide/indexing.html#returning-a-view-versus-a-copy\n  df['price'] = df['price'].apply(lambda x: 0 if x in free_prices else x)\n<ipython-input-160-21546650a4c6>:6: SettingWithCopyWarning: \nA value is trying to be set on a copy of a slice from a DataFrame.\nTry using .loc[row_indexer,col_indexer] = value instead\n\nSee the caveats in the documentation: https://pandas.pydata.org/pandas-docs/stable/user_guide/indexing.html#returning-a-view-versus-a-copy\n  df['price'] = df['price'].apply(lambda x: 0 if x == 'Third-party' else x)\n<ipython-input-160-21546650a4c6>:7: SettingWithCopyWarning: \nA value is trying to be set on a copy of a slice from a DataFrame.\nTry using .loc[row_indexer,col_indexer] = value instead\n\nSee the caveats in the documentation: https://pandas.pydata.org/pandas-docs/stable/user_guide/indexing.html#returning-a-view-versus-a-copy\n  df['price'] = df['price'].apply(lambda x: 499.0 if x == 'Starting at $499.00' else x)\n<ipython-input-160-21546650a4c6>:8: SettingWithCopyWarning: \nA value is trying to be set on a copy of a slice from a DataFrame.\nTry using .loc[row_indexer,col_indexer] = value instead\n\nSee the caveats in the documentation: https://pandas.pydata.org/pandas-docs/stable/user_guide/indexing.html#returning-a-view-versus-a-copy\n  df['price'] = df['price'].apply(lambda x: 449.0 if x == 'Starting at $449.00' else x)\n<ipython-input-160-21546650a4c6>:9: SettingWithCopyWarning: \nA value is trying to be set on a copy of a slice from a DataFrame.\nTry using .loc[row_indexer,col_indexer] = value instead\n\nSee the caveats in the documentation: https://pandas.pydata.org/pandas-docs/stable/user_guide/indexing.html#returning-a-view-versus-a-copy\n  df['price'] = df['price'].fillna(-1)\n"
     ]
    }
   ],
   "source": [
    "#fix price\n",
    "# strange_prices = ['Free to Play', 'nan','Free','Free Demo', 'Play for Free!', 'Install Now', 'Play WARMACHINE: Tactics Demo', 'Free Mod', 'Install Theme', 'Third-party', 'Play Now', 'Free HITMAN™ Holiday Pack', 'Play the Demo', 'Starting at $499.00', 'Starting at $449.00', 'Free to Try', 'Free Movie', 'Free to Use']\n",
    "free_prices = ['Free to Play', 'Free', 'Free Demo', 'Play for Free!', 'Install Now', 'Play WARMACHINE: Tactics Demo', 'Free Mod', 'Install Theme', 'Play Now', 'Free HITMAN™ Holiday Pack', 'Play the Demo', 'Free to Try', 'Free Movie', 'Free to Use', 'Free To Play\t', \"'Free To Play'\", 'Free To Play']\n",
    "free_prices = free_prices + [df.iloc[1]['price']]\n",
    "df['price'] = df['price'].apply(lambda x: 0 if x in free_prices else x)\n",
    "df['price'] = df['price'].apply(lambda x: 0 if x == 'Third-party' else x)\n",
    "df['price'] = df['price'].apply(lambda x: 499.0 if x == 'Starting at $499.00' else x)\n",
    "df['price'] = df['price'].apply(lambda x: 449.0 if x == 'Starting at $449.00' else x)\n",
    "df['price'] = df['price'].fillna(-1)\n",
    "# df['price'].iloc[0] = 0\n",
    "# df.dropna(subset = ['price'], inplace=True)\n",
    "\n",
    "# df['price']=df['price'].apply(lambda x:round(x,2))"
   ]
  },
  {
   "cell_type": "code",
   "execution_count": 161,
   "metadata": {},
   "outputs": [
    {
     "output_type": "execute_result",
     "data": {
      "text/plain": [
       "Empty DataFrame\n",
       "Columns: [id, sentiment, price, early_access, genre_Web Publishing, genre_Accounting, genre_Photo Editing, genre_Video Production, genre_Sports, genre_Early Access, genre_Adventure, genre_Free to Play, genre_Action, genre_Software Training, genre_Audio Production, genre_Animation &amp; Modeling, genre_Simulation, genre_Casual, genre_Indie, genre_Massively Multiplayer, genre_Design &amp; Illustration, genre_Education, genre_RPG, genre_Strategy, genre_Utilities, genre_Racing, spec_Mods, spec_Includes Source SDK, spec_Online Multi-Player, spec_Includes level editor, spec_Steam Cloud, spec_Steam Workshop, spec_Downloadable Content, spec_Mods (require HL1), spec_Captions available, spec_Steam Trading Cards, spec_Valve Anti-Cheat enabled, spec_Stats, spec_Shared/Split Screen, spec_Local Multi-Player, spec_Partial Controller Support, spec_Multi-player, spec_SteamVR Collectibles, spec_Single-player, spec_Seated, spec_Mods (require HL2), spec_Room-Scale, spec_Windows Mixed Reality, spec_Steam Achievements, spec_Steam Turn Notifications, spec_Oculus Rift, spec_HTC Vive, spec_Online Co-op, spec_Gamepad, spec_Steam Leaderboards, spec_Local Co-op, spec_Co-op, spec_Cross-Platform Multiplayer, spec_Keyboard / Mouse, spec_Commentary available, spec_Tracked Motion Controllers, spec_Standing, spec_Full controller support, spec_MMO, spec_In-App Purchases, spec_Game demo]\n",
       "Index: []\n",
       "\n",
       "[0 rows x 66 columns]"
      ],
      "text/html": "<div>\n<style scoped>\n    .dataframe tbody tr th:only-of-type {\n        vertical-align: middle;\n    }\n\n    .dataframe tbody tr th {\n        vertical-align: top;\n    }\n\n    .dataframe thead th {\n        text-align: right;\n    }\n</style>\n<table border=\"1\" class=\"dataframe\">\n  <thead>\n    <tr style=\"text-align: right;\">\n      <th></th>\n      <th>id</th>\n      <th>sentiment</th>\n      <th>price</th>\n      <th>early_access</th>\n      <th>genre_Web Publishing</th>\n      <th>genre_Accounting</th>\n      <th>genre_Photo Editing</th>\n      <th>genre_Video Production</th>\n      <th>genre_Sports</th>\n      <th>genre_Early Access</th>\n      <th>...</th>\n      <th>spec_Co-op</th>\n      <th>spec_Cross-Platform Multiplayer</th>\n      <th>spec_Keyboard / Mouse</th>\n      <th>spec_Commentary available</th>\n      <th>spec_Tracked Motion Controllers</th>\n      <th>spec_Standing</th>\n      <th>spec_Full controller support</th>\n      <th>spec_MMO</th>\n      <th>spec_In-App Purchases</th>\n      <th>spec_Game demo</th>\n    </tr>\n  </thead>\n  <tbody>\n  </tbody>\n</table>\n<p>0 rows × 66 columns</p>\n</div>"
     },
     "metadata": {},
     "execution_count": 161
    }
   ],
   "source": [
    "df[df['price'] == \"Free To Play\"]"
   ]
  },
  {
   "cell_type": "code",
   "execution_count": 162,
   "metadata": {},
   "outputs": [
    {
     "output_type": "stream",
     "name": "stderr",
     "text": [
      "<ipython-input-162-08b71fb7b30e>:2: SettingWithCopyWarning: \nA value is trying to be set on a copy of a slice from a DataFrame.\nTry using .loc[row_indexer,col_indexer] = value instead\n\nSee the caveats in the documentation: https://pandas.pydata.org/pandas-docs/stable/user_guide/indexing.html#returning-a-view-versus-a-copy\n  df['early_access'] = df['early_access'].apply(lambda x: 1 if x else 0)\n"
     ]
    }
   ],
   "source": [
    "# fix early_access\n",
    "df['early_access'] = df['early_access'].apply(lambda x: 1 if x else 0)"
   ]
  },
  {
   "cell_type": "code",
   "execution_count": 163,
   "metadata": {},
   "outputs": [
    {
     "output_type": "execute_result",
     "data": {
      "text/plain": [
       "Empty DataFrame\n",
       "Columns: [id, sentiment, price, early_access, genre_Web Publishing, genre_Accounting, genre_Photo Editing, genre_Video Production, genre_Sports, genre_Early Access, genre_Adventure, genre_Free to Play, genre_Action, genre_Software Training, genre_Audio Production, genre_Animation &amp; Modeling, genre_Simulation, genre_Casual, genre_Indie, genre_Massively Multiplayer, genre_Design &amp; Illustration, genre_Education, genre_RPG, genre_Strategy, genre_Utilities, genre_Racing, spec_Mods, spec_Includes Source SDK, spec_Online Multi-Player, spec_Includes level editor, spec_Steam Cloud, spec_Steam Workshop, spec_Downloadable Content, spec_Mods (require HL1), spec_Captions available, spec_Steam Trading Cards, spec_Valve Anti-Cheat enabled, spec_Stats, spec_Shared/Split Screen, spec_Local Multi-Player, spec_Partial Controller Support, spec_Multi-player, spec_SteamVR Collectibles, spec_Single-player, spec_Seated, spec_Mods (require HL2), spec_Room-Scale, spec_Windows Mixed Reality, spec_Steam Achievements, spec_Steam Turn Notifications, spec_Oculus Rift, spec_HTC Vive, spec_Online Co-op, spec_Gamepad, spec_Steam Leaderboards, spec_Local Co-op, spec_Co-op, spec_Cross-Platform Multiplayer, spec_Keyboard / Mouse, spec_Commentary available, spec_Tracked Motion Controllers, spec_Standing, spec_Full controller support, spec_MMO, spec_In-App Purchases, spec_Game demo]\n",
       "Index: []\n",
       "\n",
       "[0 rows x 66 columns]"
      ],
      "text/html": "<div>\n<style scoped>\n    .dataframe tbody tr th:only-of-type {\n        vertical-align: middle;\n    }\n\n    .dataframe tbody tr th {\n        vertical-align: top;\n    }\n\n    .dataframe thead th {\n        text-align: right;\n    }\n</style>\n<table border=\"1\" class=\"dataframe\">\n  <thead>\n    <tr style=\"text-align: right;\">\n      <th></th>\n      <th>id</th>\n      <th>sentiment</th>\n      <th>price</th>\n      <th>early_access</th>\n      <th>genre_Web Publishing</th>\n      <th>genre_Accounting</th>\n      <th>genre_Photo Editing</th>\n      <th>genre_Video Production</th>\n      <th>genre_Sports</th>\n      <th>genre_Early Access</th>\n      <th>...</th>\n      <th>spec_Co-op</th>\n      <th>spec_Cross-Platform Multiplayer</th>\n      <th>spec_Keyboard / Mouse</th>\n      <th>spec_Commentary available</th>\n      <th>spec_Tracked Motion Controllers</th>\n      <th>spec_Standing</th>\n      <th>spec_Full controller support</th>\n      <th>spec_MMO</th>\n      <th>spec_In-App Purchases</th>\n      <th>spec_Game demo</th>\n    </tr>\n  </thead>\n  <tbody>\n  </tbody>\n</table>\n<p>0 rows × 66 columns</p>\n</div>"
     },
     "metadata": {},
     "execution_count": 163
    }
   ],
   "source": [
    "df[df.isnull().any(axis=1)]"
   ]
  },
  {
   "cell_type": "code",
   "execution_count": 164,
   "metadata": {},
   "outputs": [],
   "source": [
    "df.to_csv(os.path.join(ROOT_DIR, \"items_info.csv\"), index=False)"
   ]
  },
  {
   "cell_type": "code",
   "execution_count": null,
   "metadata": {},
   "outputs": [],
   "source": [
    "x = df.set_index('id').T.to_dict('list')"
   ]
  },
  {
   "cell_type": "code",
   "execution_count": null,
   "metadata": {},
   "outputs": [],
   "source": [
    "x[215243]"
   ]
  },
  {
   "cell_type": "code",
   "execution_count": null,
   "metadata": {},
   "outputs": [],
   "source": [
    "from sklearn.decomposition import PCA\n",
    "\n",
    "pca_df = df.drop(columns=['id'])\n",
    "pca = PCA(n_components=10)\n",
    "pca_np = pca.fit_transform(pca_df)\n",
    "pca_df = pd.DataFrame(pca_np)\n",
    "pca_df['id'] = df['id']\n",
    "pca_df = pca_df[['id' ,0, 1, 2, 3, 4, 5, 6, 7, 8, 9]]\n",
    "pca_df.to_csv(os.path.join(ROOT_DIR, \"items_info_pca_10.csv\"), index=False)"
   ]
  },
  {
   "cell_type": "code",
   "execution_count": null,
   "metadata": {},
   "outputs": [],
   "source": [
    "from sklearn.cluster import FeatureAgglomeration\n",
    "\n",
    "fagg_df = df.drop(columns=['id'])\n",
    "fagg = FeatureAgglomeration(n_clusters=10)\n",
    "fagg_np = fagg.fit_transform(fagg_df)\n",
    "fagg_df = pd.DataFrame(fagg_np)\n",
    "fagg_df['id'] = df['id']\n",
    "fagg_df = fagg_df[['id' ,0, 1, 2, 3, 4, 5, 6, 7, 8, 9]]\n",
    "fagg_df.to_csv(os.path.join(ROOT_DIR, \"items_info_fagg_10.csv\"), index=False)"
   ]
  }
 ]
}