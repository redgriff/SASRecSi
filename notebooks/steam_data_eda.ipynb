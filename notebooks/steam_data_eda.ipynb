{
 "metadata": {
  "language_info": {
   "codemirror_mode": {
    "name": "ipython",
    "version": 3
   },
   "file_extension": ".py",
   "mimetype": "text/x-python",
   "name": "python",
   "nbconvert_exporter": "python",
   "pygments_lexer": "ipython3",
   "version": "3.8.6"
  },
  "orig_nbformat": 2,
  "kernelspec": {
   "name": "pythonjvsc74a57bd0ad516e87f2bc7c4df4a02affd8606061aa29ba892847ba64989b0b9bc6aeaef8",
   "display_name": "Python 3.8.6 64-bit ('.venv_sas_rec': venv)"
  },
  "metadata": {
   "interpreter": {
    "hash": "ad516e87f2bc7c4df4a02affd8606061aa29ba892847ba64989b0b9bc6aeaef8"
   }
  }
 },
 "nbformat": 4,
 "nbformat_minor": 2,
 "cells": [
  {
   "cell_type": "code",
   "execution_count": null,
   "metadata": {},
   "outputs": [],
   "source": [
    "!pip install dabl"
   ]
  },
  {
   "cell_type": "code",
   "execution_count": 56,
   "metadata": {},
   "outputs": [],
   "source": [
    "import os\n",
    "import json\n",
    "import ast\n",
    "import dabl\n",
    "import math\n",
    "import pandas as pd"
   ]
  },
  {
   "cell_type": "code",
   "execution_count": 57,
   "metadata": {},
   "outputs": [
    {
     "output_type": "execute_result",
     "data": {
      "text/plain": [
       "'e:\\\\Workspaces\\\\SASRec.pytorch\\\\notebooks'"
      ]
     },
     "metadata": {},
     "execution_count": 57
    }
   ],
   "source": [
    "os.getcwd()\n"
   ]
  },
  {
   "cell_type": "code",
   "execution_count": 58,
   "metadata": {},
   "outputs": [],
   "source": [
    "ROOT_DIR = os.path.join(os.getcwd(), \"..\", \"data\", \"steam\")"
   ]
  },
  {
   "cell_type": "code",
   "execution_count": 59,
   "metadata": {},
   "outputs": [
    {
     "output_type": "execute_result",
     "data": {
      "text/plain": [
       "'e:\\\\Workspaces\\\\SASRec.pytorch\\\\notebooks\\\\..\\\\data\\\\steam'"
      ]
     },
     "metadata": {},
     "execution_count": 59
    }
   ],
   "source": [
    "ROOT_DIR"
   ]
  },
  {
   "cell_type": "code",
   "execution_count": 60,
   "metadata": {},
   "outputs": [
    {
     "output_type": "execute_result",
     "data": {
      "text/plain": [
       "True"
      ]
     },
     "metadata": {},
     "execution_count": 60
    }
   ],
   "source": [
    "os.path.exists(os.path.join(ROOT_DIR, \"steam_games.json\"))"
   ]
  },
  {
   "cell_type": "code",
   "execution_count": 61,
   "metadata": {},
   "outputs": [],
   "source": [
    "with open(os.path.join(ROOT_DIR, \"steam_games.json\")) as json_file:\n",
    "    lines = json_file.read().splitlines()\n",
    "records = [ast.literal_eval(line) for line in lines]"
   ]
  },
  {
   "cell_type": "code",
   "execution_count": 62,
   "metadata": {},
   "outputs": [],
   "source": [
    "raw_df = pd.DataFrame(records)"
   ]
  },
  {
   "cell_type": "code",
   "execution_count": 63,
   "metadata": {},
   "outputs": [
    {
     "output_type": "stream",
     "name": "stdout",
     "text": [
      "<class 'pandas.core.frame.DataFrame'>\nRangeIndex: 32135 entries, 0 to 32134\nData columns (total 16 columns):\n #   Column          Non-Null Count  Dtype  \n---  ------          --------------  -----  \n 0   publisher       24083 non-null  object \n 1   genres          28852 non-null  object \n 2   app_name        32133 non-null  object \n 3   title           30085 non-null  object \n 4   url             32135 non-null  object \n 5   release_date    30068 non-null  object \n 6   tags            31972 non-null  object \n 7   discount_price  225 non-null    float64\n 8   reviews_url     32133 non-null  object \n 9   specs           31465 non-null  object \n 10  price           30758 non-null  object \n 11  early_access    32135 non-null  bool   \n 12  id              32133 non-null  object \n 13  developer       28836 non-null  object \n 14  sentiment       24953 non-null  object \n 15  metascore       2677 non-null   object \ndtypes: bool(1), float64(1), object(14)\nmemory usage: 3.7+ MB\n"
     ]
    }
   ],
   "source": [
    "raw_df.info()"
   ]
  },
  {
   "cell_type": "code",
   "execution_count": 64,
   "metadata": {},
   "outputs": [],
   "source": [
    "df = raw_df[['id', 'sentiment', 'genres', 'specs', 'price', 'early_access']]"
   ]
  },
  {
   "cell_type": "code",
   "execution_count": 65,
   "metadata": {},
   "outputs": [
    {
     "output_type": "stream",
     "name": "stderr",
     "text": [
      "<ipython-input-65-2bc2d88906ee>:2: SettingWithCopyWarning: \nA value is trying to be set on a copy of a slice from a DataFrame\n\nSee the caveats in the documentation: https://pandas.pydata.org/pandas-docs/stable/user_guide/indexing.html#returning-a-view-versus-a-copy\n  df.dropna(subset = ['id'], inplace=True)\n"
     ]
    }
   ],
   "source": [
    "#fix id\n",
    "df.dropna(subset = ['id'], inplace=True)"
   ]
  },
  {
   "cell_type": "code",
   "execution_count": 66,
   "metadata": {},
   "outputs": [
    {
     "output_type": "stream",
     "name": "stderr",
     "text": [
      "<ipython-input-66-261ac1949ad6>:15: SettingWithCopyWarning: \nA value is trying to be set on a copy of a slice from a DataFrame.\nTry using .loc[row_indexer,col_indexer] = value instead\n\nSee the caveats in the documentation: https://pandas.pydata.org/pandas-docs/stable/user_guide/indexing.html#returning-a-view-versus-a-copy\n  df['sentiment'] = df['sentiment'].fillna('Unknown')\n<ipython-input-66-261ac1949ad6>:16: SettingWithCopyWarning: \nA value is trying to be set on a copy of a slice from a DataFrame.\nTry using .loc[row_indexer,col_indexer] = value instead\n\nSee the caveats in the documentation: https://pandas.pydata.org/pandas-docs/stable/user_guide/indexing.html#returning-a-view-versus-a-copy\n  df['sentiment'] = df['sentiment'].apply(lambda x: x if x in sentiments else 'Unknown')\n<ipython-input-66-261ac1949ad6>:17: SettingWithCopyWarning: \nA value is trying to be set on a copy of a slice from a DataFrame.\nTry using .loc[row_indexer,col_indexer] = value instead\n\nSee the caveats in the documentation: https://pandas.pydata.org/pandas-docs/stable/user_guide/indexing.html#returning-a-view-versus-a-copy\n  df['sentiment'] = df['sentiment'].apply(lambda x: sentiments_dict[x])\n<ipython-input-66-261ac1949ad6>:18: SettingWithCopyWarning: \nA value is trying to be set on a copy of a slice from a DataFrame.\nTry using .loc[row_indexer,col_indexer] = value instead\n\nSee the caveats in the documentation: https://pandas.pydata.org/pandas-docs/stable/user_guide/indexing.html#returning-a-view-versus-a-copy\n  df['sentiment'] = df['sentiment'].astype(int)\n"
     ]
    }
   ],
   "source": [
    "#fix sentiment\n",
    "sentiments = ['Unknown', 'Overwhelmingly Negative', \"Very Negative\", \"Negative\", \"Mostly Negative\", \"Mixed\", \"Mostly Positive\", \"Positive\" , \"Very Positive\" ,\"Overwhelmingly Positive\"]\n",
    "sentiments_dict = {\n",
    "    'Unknown': -1,\n",
    "    'Overwhelmingly Negative': 0,\n",
    "    'Very Negative': 1,\n",
    "    'Negative': 2,\n",
    "    'Mostly Negative': 3,\n",
    "    'Mixed': 4,\n",
    "    'Mostly Positive': 5,\n",
    "    'Positive': 6,\n",
    "    'Very Positive': 7,\n",
    "    'Overwhelmingly Positive': 8,\n",
    "}\n",
    "df['sentiment'] = df['sentiment'].fillna('Unknown')\n",
    "df['sentiment'] = df['sentiment'].apply(lambda x: x if x in sentiments else 'Unknown')\n",
    "df['sentiment'] = df['sentiment'].apply(lambda x: sentiments_dict[x])\n",
    "df['sentiment'] = df['sentiment'].astype(int)"
   ]
  },
  {
   "cell_type": "code",
   "execution_count": 67,
   "metadata": {},
   "outputs": [
    {
     "output_type": "stream",
     "name": "stdout",
     "text": [
      "22\n",
      "<ipython-input-67-d9d1c6b5298e>:14: SettingWithCopyWarning: \n",
      "A value is trying to be set on a copy of a slice from a DataFrame.\n",
      "Try using .loc[row_indexer,col_indexer] = value instead\n",
      "\n",
      "See the caveats in the documentation: https://pandas.pydata.org/pandas-docs/stable/user_guide/indexing.html#returning-a-view-versus-a-copy\n",
      "  df[f'genre_{genre}'] = df['genres'].apply(lambda x: is_in_genere(genre=genre, x=x))\n",
      "e:\\Workspaces\\SASRec.pytorch\\.venv_sas_rec\\lib\\site-packages\\pandas\\core\\frame.py:4308: SettingWithCopyWarning: \n",
      "A value is trying to be set on a copy of a slice from a DataFrame\n",
      "\n",
      "See the caveats in the documentation: https://pandas.pydata.org/pandas-docs/stable/user_guide/indexing.html#returning-a-view-versus-a-copy\n",
      "  return super().drop(\n"
     ]
    }
   ],
   "source": [
    "#fix genres\n",
    "genres = set()\n",
    "for item in list(raw_df[\"genres\"].dropna()):        \n",
    "    genres = genres | set(item)\n",
    "print(len(genres))\n",
    "\n",
    "def is_in_genere(genre, x):\n",
    "    try:\n",
    "        return 1 if genre in x else 0\n",
    "    except:\n",
    "        return 0\n",
    "\n",
    "for genre in genres:\n",
    "    df[f'genre_{genre}'] = df['genres'].apply(lambda x: is_in_genere(genre=genre, x=x))\n",
    "\n",
    "df.drop(columns=['genres'],inplace=True)"
   ]
  },
  {
   "cell_type": "code",
   "execution_count": 68,
   "metadata": {},
   "outputs": [
    {
     "output_type": "stream",
     "name": "stderr",
     "text": [
      "<ipython-input-68-c31250a17a95>:14: SettingWithCopyWarning: \n",
      "A value is trying to be set on a copy of a slice from a DataFrame.\n",
      "Try using .loc[row_indexer,col_indexer] = value instead\n",
      "\n",
      "See the caveats in the documentation: https://pandas.pydata.org/pandas-docs/stable/user_guide/indexing.html#returning-a-view-versus-a-copy\n",
      "  df[f'spec_{spec}'] = df['specs'].apply(lambda x: is_in_spec(spec, x))\n",
      "40\n"
     ]
    }
   ],
   "source": [
    "#fix specs\n",
    "specs = set()\n",
    "for item in list(raw_df[\"specs\"].dropna()):        \n",
    "    specs = specs | set(item)\n",
    "print(len(specs))\n",
    "\n",
    "def is_in_spec(spec, x):\n",
    "    try:\n",
    "        return 1 if spec in x else 0\n",
    "    except:\n",
    "        return 0\n",
    "\n",
    "for spec in specs:\n",
    "    df[f'spec_{spec}'] = df['specs'].apply(lambda x: is_in_spec(spec, x))\n",
    "\n",
    "df.drop(columns=['specs'],inplace=True)"
   ]
  },
  {
   "cell_type": "code",
   "execution_count": 69,
   "metadata": {},
   "outputs": [
    {
     "output_type": "stream",
     "name": "stderr",
     "text": [
      "<ipython-input-69-81a964d19bf9>:5: SettingWithCopyWarning: \nA value is trying to be set on a copy of a slice from a DataFrame.\nTry using .loc[row_indexer,col_indexer] = value instead\n\nSee the caveats in the documentation: https://pandas.pydata.org/pandas-docs/stable/user_guide/indexing.html#returning-a-view-versus-a-copy\n  df['price'] = df['price'].apply(lambda x: 0 if x in free_prices else x)\n<ipython-input-69-81a964d19bf9>:6: SettingWithCopyWarning: \nA value is trying to be set on a copy of a slice from a DataFrame.\nTry using .loc[row_indexer,col_indexer] = value instead\n\nSee the caveats in the documentation: https://pandas.pydata.org/pandas-docs/stable/user_guide/indexing.html#returning-a-view-versus-a-copy\n  df['price'] = df['price'].apply(lambda x: 0 if x == 'Third-party' else x)\n<ipython-input-69-81a964d19bf9>:7: SettingWithCopyWarning: \nA value is trying to be set on a copy of a slice from a DataFrame.\nTry using .loc[row_indexer,col_indexer] = value instead\n\nSee the caveats in the documentation: https://pandas.pydata.org/pandas-docs/stable/user_guide/indexing.html#returning-a-view-versus-a-copy\n  df['price'] = df['price'].apply(lambda x: 499.0 if x == 'Starting at $499.00' else x)\n<ipython-input-69-81a964d19bf9>:8: SettingWithCopyWarning: \nA value is trying to be set on a copy of a slice from a DataFrame.\nTry using .loc[row_indexer,col_indexer] = value instead\n\nSee the caveats in the documentation: https://pandas.pydata.org/pandas-docs/stable/user_guide/indexing.html#returning-a-view-versus-a-copy\n  df['price'] = df['price'].apply(lambda x: 449.0 if x == 'Starting at $449.00' else x)\n<ipython-input-69-81a964d19bf9>:9: SettingWithCopyWarning: \nA value is trying to be set on a copy of a slice from a DataFrame\n\nSee the caveats in the documentation: https://pandas.pydata.org/pandas-docs/stable/user_guide/indexing.html#returning-a-view-versus-a-copy\n  df.dropna(subset = ['price'], inplace=True)\n<ipython-input-69-81a964d19bf9>:11: SettingWithCopyWarning: \nA value is trying to be set on a copy of a slice from a DataFrame.\nTry using .loc[row_indexer,col_indexer] = value instead\n\nSee the caveats in the documentation: https://pandas.pydata.org/pandas-docs/stable/user_guide/indexing.html#returning-a-view-versus-a-copy\n  df['price']=df['price'].apply(lambda x:round(x,2))\n"
     ]
    }
   ],
   "source": [
    "#fix price\n",
    "# strange_prices = ['Free to Play', 'nan','Free','Free Demo', 'Play for Free!', 'Install Now', 'Play WARMACHINE: Tactics Demo', 'Free Mod', 'Install Theme', 'Third-party', 'Play Now', 'Free HITMAN™ Holiday Pack', 'Play the Demo', 'Starting at $499.00', 'Starting at $449.00', 'Free to Try', 'Free Movie', 'Free to Use']\n",
    "free_prices = ['Free to Play', 'Free', 'Free Demo', 'Play for Free!', 'Install Now', 'Play WARMACHINE: Tactics Demo', 'Free Mod', 'Install Theme', 'Play Now', 'Free HITMAN™ Holiday Pack', 'Play the Demo', 'Free to Try', 'Free Movie', 'Free to Use', 'Free To Play\t', \"'Free To Play'\"]\n",
    "free_prices = free_prices + [df.iloc[1]['price']]\n",
    "df['price'] = df['price'].apply(lambda x: 0 if x in free_prices else x)\n",
    "df['price'] = df['price'].apply(lambda x: 0 if x == 'Third-party' else x)\n",
    "df['price'] = df['price'].apply(lambda x: 499.0 if x == 'Starting at $499.00' else x)\n",
    "df['price'] = df['price'].apply(lambda x: 449.0 if x == 'Starting at $449.00' else x)\n",
    "df.dropna(subset = ['price'], inplace=True)\n",
    "\n",
    "df['price']=df['price'].apply(lambda x:round(x,2))"
   ]
  },
  {
   "cell_type": "code",
   "execution_count": 70,
   "metadata": {},
   "outputs": [
    {
     "output_type": "stream",
     "name": "stderr",
     "text": [
      "<ipython-input-70-08b71fb7b30e>:2: SettingWithCopyWarning: \nA value is trying to be set on a copy of a slice from a DataFrame.\nTry using .loc[row_indexer,col_indexer] = value instead\n\nSee the caveats in the documentation: https://pandas.pydata.org/pandas-docs/stable/user_guide/indexing.html#returning-a-view-versus-a-copy\n  df['early_access'] = df['early_access'].apply(lambda x: 1 if x else 0)\n"
     ]
    }
   ],
   "source": [
    "# fix early_access\n",
    "df['early_access'] = df['early_access'].apply(lambda x: 1 if x else 0)"
   ]
  },
  {
   "cell_type": "code",
   "execution_count": 71,
   "metadata": {},
   "outputs": [
    {
     "output_type": "execute_result",
     "data": {
      "text/plain": [
       "Empty DataFrame\n",
       "Columns: [id, sentiment, price, early_access, genre_Free to Play, genre_Action, genre_Racing, genre_Accounting, genre_Photo Editing, genre_Video Production, genre_Utilities, genre_Education, genre_Early Access, genre_Simulation, genre_Strategy, genre_RPG, genre_Design &amp; Illustration, genre_Indie, genre_Software Training, genre_Audio Production, genre_Animation &amp; Modeling, genre_Web Publishing, genre_Adventure, genre_Massively Multiplayer, genre_Casual, genre_Sports, spec_Steam Turn Notifications, spec_Local Multi-Player, spec_Steam Achievements, spec_Commentary available, spec_Keyboard / Mouse, spec_HTC Vive, spec_Includes level editor, spec_Mods, spec_Mods (require HL1), spec_Steam Leaderboards, spec_Includes Source SDK, spec_Multi-player, spec_Tracked Motion Controllers, spec_Online Co-op, spec_Standing, spec_Online Multi-Player, spec_Valve Anti-Cheat enabled, spec_Steam Workshop, spec_Stats, spec_Steam Cloud, spec_Cross-Platform Multiplayer, spec_Room-Scale, spec_Oculus Rift, spec_MMO, spec_Mods (require HL2), spec_Steam Trading Cards, spec_Game demo, spec_Shared/Split Screen, spec_Single-player, spec_Downloadable Content, spec_Windows Mixed Reality, spec_Partial Controller Support, spec_Gamepad, spec_Seated, spec_Local Co-op, spec_Full controller support, spec_SteamVR Collectibles, spec_Captions available, spec_Co-op, spec_In-App Purchases]\n",
       "Index: []\n",
       "\n",
       "[0 rows x 66 columns]"
      ],
      "text/html": "<div>\n<style scoped>\n    .dataframe tbody tr th:only-of-type {\n        vertical-align: middle;\n    }\n\n    .dataframe tbody tr th {\n        vertical-align: top;\n    }\n\n    .dataframe thead th {\n        text-align: right;\n    }\n</style>\n<table border=\"1\" class=\"dataframe\">\n  <thead>\n    <tr style=\"text-align: right;\">\n      <th></th>\n      <th>id</th>\n      <th>sentiment</th>\n      <th>price</th>\n      <th>early_access</th>\n      <th>genre_Free to Play</th>\n      <th>genre_Action</th>\n      <th>genre_Racing</th>\n      <th>genre_Accounting</th>\n      <th>genre_Photo Editing</th>\n      <th>genre_Video Production</th>\n      <th>...</th>\n      <th>spec_Windows Mixed Reality</th>\n      <th>spec_Partial Controller Support</th>\n      <th>spec_Gamepad</th>\n      <th>spec_Seated</th>\n      <th>spec_Local Co-op</th>\n      <th>spec_Full controller support</th>\n      <th>spec_SteamVR Collectibles</th>\n      <th>spec_Captions available</th>\n      <th>spec_Co-op</th>\n      <th>spec_In-App Purchases</th>\n    </tr>\n  </thead>\n  <tbody>\n  </tbody>\n</table>\n<p>0 rows × 66 columns</p>\n</div>"
     },
     "metadata": {},
     "execution_count": 71
    }
   ],
   "source": [
    "df[df.isnull().any(axis=1)]"
   ]
  },
  {
   "cell_type": "code",
   "execution_count": 72,
   "metadata": {},
   "outputs": [
    {
     "output_type": "execute_result",
     "data": {
      "text/plain": [
       "           id  sentiment  price  early_access  genre_Free to Play  \\\n",
       "0      761140         -1   4.99             0                   0   \n",
       "1      643980          5   0.00             0                   1   \n",
       "2      670290          5   0.00             0                   1   \n",
       "3      767400         -1   0.99             0                   0   \n",
       "4      773570         -1   2.99             0                   0   \n",
       "...       ...        ...    ...           ...                 ...   \n",
       "32130  773640         -1   1.99             0                   0   \n",
       "32131  733530         -1   4.99             0                   0   \n",
       "32132  610660         -1   1.99             0                   0   \n",
       "32133  658870         -1   4.99             0                   0   \n",
       "32134  681550          6   4.99             1                   0   \n",
       "\n",
       "       genre_Action  genre_Racing  genre_Accounting  genre_Photo Editing  \\\n",
       "0                 1             0                 0                    0   \n",
       "1                 0             0                 0                    0   \n",
       "2                 0             0                 0                    0   \n",
       "3                 1             0                 0                    0   \n",
       "4                 0             0                 0                    0   \n",
       "...             ...           ...               ...                  ...   \n",
       "32130             0             0                 0                    0   \n",
       "32131             0             0                 0                    0   \n",
       "32132             0             1                 0                    0   \n",
       "32133             0             0                 0                    0   \n",
       "32134             0             0                 0                    0   \n",
       "\n",
       "       genre_Video Production  ...  spec_Windows Mixed Reality  \\\n",
       "0                           0  ...                           0   \n",
       "1                           0  ...                           0   \n",
       "2                           0  ...                           0   \n",
       "3                           0  ...                           0   \n",
       "4                           0  ...                           0   \n",
       "...                       ...  ...                         ...   \n",
       "32130                       0  ...                           0   \n",
       "32131                       0  ...                           0   \n",
       "32132                       0  ...                           0   \n",
       "32133                       0  ...                           0   \n",
       "32134                       0  ...                           0   \n",
       "\n",
       "       spec_Partial Controller Support  spec_Gamepad  spec_Seated  \\\n",
       "0                                    0             0            0   \n",
       "1                                    0             0            0   \n",
       "2                                    0             0            0   \n",
       "3                                    0             0            0   \n",
       "4                                    0             0            0   \n",
       "...                                ...           ...          ...   \n",
       "32130                                0             0            0   \n",
       "32131                                0             0            0   \n",
       "32132                                0             0            0   \n",
       "32133                                0             0            0   \n",
       "32134                                0             0            0   \n",
       "\n",
       "       spec_Local Co-op  spec_Full controller support  \\\n",
       "0                     0                             0   \n",
       "1                     0                             0   \n",
       "2                     0                             0   \n",
       "3                     0                             0   \n",
       "4                     0                             1   \n",
       "...                 ...                           ...   \n",
       "32130                 0                             0   \n",
       "32131                 0                             0   \n",
       "32132                 0                             0   \n",
       "32133                 0                             0   \n",
       "32134                 0                             0   \n",
       "\n",
       "       spec_SteamVR Collectibles  spec_Captions available  spec_Co-op  \\\n",
       "0                              0                        0           0   \n",
       "1                              0                        0           0   \n",
       "2                              0                        0           0   \n",
       "3                              0                        0           0   \n",
       "4                              0                        0           0   \n",
       "...                          ...                      ...         ...   \n",
       "32130                          0                        0           0   \n",
       "32131                          0                        0           0   \n",
       "32132                          0                        0           0   \n",
       "32133                          0                        0           0   \n",
       "32134                          0                        0           0   \n",
       "\n",
       "       spec_In-App Purchases  \n",
       "0                          0  \n",
       "1                          1  \n",
       "2                          1  \n",
       "3                          0  \n",
       "4                          0  \n",
       "...                      ...  \n",
       "32130                      0  \n",
       "32131                      0  \n",
       "32132                      0  \n",
       "32133                      0  \n",
       "32134                      0  \n",
       "\n",
       "[30756 rows x 66 columns]"
      ],
      "text/html": "<div>\n<style scoped>\n    .dataframe tbody tr th:only-of-type {\n        vertical-align: middle;\n    }\n\n    .dataframe tbody tr th {\n        vertical-align: top;\n    }\n\n    .dataframe thead th {\n        text-align: right;\n    }\n</style>\n<table border=\"1\" class=\"dataframe\">\n  <thead>\n    <tr style=\"text-align: right;\">\n      <th></th>\n      <th>id</th>\n      <th>sentiment</th>\n      <th>price</th>\n      <th>early_access</th>\n      <th>genre_Free to Play</th>\n      <th>genre_Action</th>\n      <th>genre_Racing</th>\n      <th>genre_Accounting</th>\n      <th>genre_Photo Editing</th>\n      <th>genre_Video Production</th>\n      <th>...</th>\n      <th>spec_Windows Mixed Reality</th>\n      <th>spec_Partial Controller Support</th>\n      <th>spec_Gamepad</th>\n      <th>spec_Seated</th>\n      <th>spec_Local Co-op</th>\n      <th>spec_Full controller support</th>\n      <th>spec_SteamVR Collectibles</th>\n      <th>spec_Captions available</th>\n      <th>spec_Co-op</th>\n      <th>spec_In-App Purchases</th>\n    </tr>\n  </thead>\n  <tbody>\n    <tr>\n      <th>0</th>\n      <td>761140</td>\n      <td>-1</td>\n      <td>4.99</td>\n      <td>0</td>\n      <td>0</td>\n      <td>1</td>\n      <td>0</td>\n      <td>0</td>\n      <td>0</td>\n      <td>0</td>\n      <td>...</td>\n      <td>0</td>\n      <td>0</td>\n      <td>0</td>\n      <td>0</td>\n      <td>0</td>\n      <td>0</td>\n      <td>0</td>\n      <td>0</td>\n      <td>0</td>\n      <td>0</td>\n    </tr>\n    <tr>\n      <th>1</th>\n      <td>643980</td>\n      <td>5</td>\n      <td>0.00</td>\n      <td>0</td>\n      <td>1</td>\n      <td>0</td>\n      <td>0</td>\n      <td>0</td>\n      <td>0</td>\n      <td>0</td>\n      <td>...</td>\n      <td>0</td>\n      <td>0</td>\n      <td>0</td>\n      <td>0</td>\n      <td>0</td>\n      <td>0</td>\n      <td>0</td>\n      <td>0</td>\n      <td>0</td>\n      <td>1</td>\n    </tr>\n    <tr>\n      <th>2</th>\n      <td>670290</td>\n      <td>5</td>\n      <td>0.00</td>\n      <td>0</td>\n      <td>1</td>\n      <td>0</td>\n      <td>0</td>\n      <td>0</td>\n      <td>0</td>\n      <td>0</td>\n      <td>...</td>\n      <td>0</td>\n      <td>0</td>\n      <td>0</td>\n      <td>0</td>\n      <td>0</td>\n      <td>0</td>\n      <td>0</td>\n      <td>0</td>\n      <td>0</td>\n      <td>1</td>\n    </tr>\n    <tr>\n      <th>3</th>\n      <td>767400</td>\n      <td>-1</td>\n      <td>0.99</td>\n      <td>0</td>\n      <td>0</td>\n      <td>1</td>\n      <td>0</td>\n      <td>0</td>\n      <td>0</td>\n      <td>0</td>\n      <td>...</td>\n      <td>0</td>\n      <td>0</td>\n      <td>0</td>\n      <td>0</td>\n      <td>0</td>\n      <td>0</td>\n      <td>0</td>\n      <td>0</td>\n      <td>0</td>\n      <td>0</td>\n    </tr>\n    <tr>\n      <th>4</th>\n      <td>773570</td>\n      <td>-1</td>\n      <td>2.99</td>\n      <td>0</td>\n      <td>0</td>\n      <td>0</td>\n      <td>0</td>\n      <td>0</td>\n      <td>0</td>\n      <td>0</td>\n      <td>...</td>\n      <td>0</td>\n      <td>0</td>\n      <td>0</td>\n      <td>0</td>\n      <td>0</td>\n      <td>1</td>\n      <td>0</td>\n      <td>0</td>\n      <td>0</td>\n      <td>0</td>\n    </tr>\n    <tr>\n      <th>...</th>\n      <td>...</td>\n      <td>...</td>\n      <td>...</td>\n      <td>...</td>\n      <td>...</td>\n      <td>...</td>\n      <td>...</td>\n      <td>...</td>\n      <td>...</td>\n      <td>...</td>\n      <td>...</td>\n      <td>...</td>\n      <td>...</td>\n      <td>...</td>\n      <td>...</td>\n      <td>...</td>\n      <td>...</td>\n      <td>...</td>\n      <td>...</td>\n      <td>...</td>\n      <td>...</td>\n    </tr>\n    <tr>\n      <th>32130</th>\n      <td>773640</td>\n      <td>-1</td>\n      <td>1.99</td>\n      <td>0</td>\n      <td>0</td>\n      <td>0</td>\n      <td>0</td>\n      <td>0</td>\n      <td>0</td>\n      <td>0</td>\n      <td>...</td>\n      <td>0</td>\n      <td>0</td>\n      <td>0</td>\n      <td>0</td>\n      <td>0</td>\n      <td>0</td>\n      <td>0</td>\n      <td>0</td>\n      <td>0</td>\n      <td>0</td>\n    </tr>\n    <tr>\n      <th>32131</th>\n      <td>733530</td>\n      <td>-1</td>\n      <td>4.99</td>\n      <td>0</td>\n      <td>0</td>\n      <td>0</td>\n      <td>0</td>\n      <td>0</td>\n      <td>0</td>\n      <td>0</td>\n      <td>...</td>\n      <td>0</td>\n      <td>0</td>\n      <td>0</td>\n      <td>0</td>\n      <td>0</td>\n      <td>0</td>\n      <td>0</td>\n      <td>0</td>\n      <td>0</td>\n      <td>0</td>\n    </tr>\n    <tr>\n      <th>32132</th>\n      <td>610660</td>\n      <td>-1</td>\n      <td>1.99</td>\n      <td>0</td>\n      <td>0</td>\n      <td>0</td>\n      <td>1</td>\n      <td>0</td>\n      <td>0</td>\n      <td>0</td>\n      <td>...</td>\n      <td>0</td>\n      <td>0</td>\n      <td>0</td>\n      <td>0</td>\n      <td>0</td>\n      <td>0</td>\n      <td>0</td>\n      <td>0</td>\n      <td>0</td>\n      <td>0</td>\n    </tr>\n    <tr>\n      <th>32133</th>\n      <td>658870</td>\n      <td>-1</td>\n      <td>4.99</td>\n      <td>0</td>\n      <td>0</td>\n      <td>0</td>\n      <td>0</td>\n      <td>0</td>\n      <td>0</td>\n      <td>0</td>\n      <td>...</td>\n      <td>0</td>\n      <td>0</td>\n      <td>0</td>\n      <td>0</td>\n      <td>0</td>\n      <td>0</td>\n      <td>0</td>\n      <td>0</td>\n      <td>0</td>\n      <td>0</td>\n    </tr>\n    <tr>\n      <th>32134</th>\n      <td>681550</td>\n      <td>6</td>\n      <td>4.99</td>\n      <td>1</td>\n      <td>0</td>\n      <td>0</td>\n      <td>0</td>\n      <td>0</td>\n      <td>0</td>\n      <td>0</td>\n      <td>...</td>\n      <td>0</td>\n      <td>0</td>\n      <td>0</td>\n      <td>0</td>\n      <td>0</td>\n      <td>0</td>\n      <td>0</td>\n      <td>0</td>\n      <td>0</td>\n      <td>0</td>\n    </tr>\n  </tbody>\n</table>\n<p>30756 rows × 66 columns</p>\n</div>"
     },
     "metadata": {},
     "execution_count": 72
    }
   ],
   "source": [
    "df"
   ]
  },
  {
   "cell_type": "code",
   "execution_count": 73,
   "metadata": {},
   "outputs": [],
   "source": [
    "df.to_csv(os.path.join(ROOT_DIR, \"items_info.csv\"), index=False)"
   ]
  },
  {
   "cell_type": "code",
   "execution_count": null,
   "metadata": {},
   "outputs": [],
   "source": []
  }
 ]
}