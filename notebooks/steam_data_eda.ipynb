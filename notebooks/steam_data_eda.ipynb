{
 "metadata": {
  "language_info": {
   "codemirror_mode": {
    "name": "ipython",
    "version": 3
   },
   "file_extension": ".py",
   "mimetype": "text/x-python",
   "name": "python",
   "nbconvert_exporter": "python",
   "pygments_lexer": "ipython3",
   "version": "3.8.6"
  },
  "orig_nbformat": 2,
  "kernelspec": {
   "name": "python3",
   "display_name": "Python 3.8.6  ('.venv_sas_rec': venv)"
  },
  "metadata": {
   "interpreter": {
    "hash": "ad516e87f2bc7c4df4a02affd8606061aa29ba892847ba64989b0b9bc6aeaef8"
   }
  },
  "interpreter": {
   "hash": "ad516e87f2bc7c4df4a02affd8606061aa29ba892847ba64989b0b9bc6aeaef8"
  }
 },
 "nbformat": 4,
 "nbformat_minor": 2,
 "cells": [
  {
   "cell_type": "code",
   "execution_count": 1,
   "metadata": {},
   "outputs": [],
   "source": [
    "import os\n",
    "import json\n",
    "import ast\n",
    "import math\n",
    "import pandas as pd\n",
    "import gzip\n",
    "import pickle as pkl\n",
    "from collections import defaultdict\n",
    "from datetime import datetime"
   ]
  },
  {
   "cell_type": "code",
   "execution_count": 2,
   "metadata": {},
   "outputs": [
    {
     "output_type": "execute_result",
     "data": {
      "text/plain": [
       "'e:\\\\Workspaces\\\\SASRec.pytorch\\\\notebooks'"
      ]
     },
     "metadata": {},
     "execution_count": 2
    }
   ],
   "source": [
    "os.getcwd()"
   ]
  },
  {
   "cell_type": "code",
   "execution_count": null,
   "metadata": {},
   "outputs": [],
   "source": [
    "ROOT_DIR = os.path.join(os.getcwd(), \"..\", \"data\", \"Steam\")"
   ]
  },
  {
   "cell_type": "code",
   "execution_count": 3,
   "metadata": {},
   "outputs": [
    {
     "output_type": "error",
     "ename": "NameError",
     "evalue": "name 'ROOT_DIR' is not defined",
     "traceback": [
      "\u001b[1;31m---------------------------------------------------------------------------\u001b[0m",
      "\u001b[1;31mNameError\u001b[0m                                 Traceback (most recent call last)",
      "\u001b[1;32m<ipython-input-3-636d47636fbf>\u001b[0m in \u001b[0;36m<module>\u001b[1;34m\u001b[0m\n\u001b[1;32m----> 1\u001b[1;33m \u001b[0mROOT_DIR\u001b[0m\u001b[1;33m\u001b[0m\u001b[1;33m\u001b[0m\u001b[0m\n\u001b[0m",
      "\u001b[1;31mNameError\u001b[0m: name 'ROOT_DIR' is not defined"
     ]
    }
   ],
   "source": [
    "ROOT_DIR"
   ]
  },
  {
   "cell_type": "code",
   "execution_count": null,
   "metadata": {},
   "outputs": [],
   "source": [
    "# def parse(g):\n",
    "#     for l in g:\n",
    "#         yield eval(l)\n",
    "\n",
    "\n",
    "# countU = defaultdict(lambda: 0)\n",
    "# countP = defaultdict(lambda: 0)\n",
    "# line = 0\n",
    "\n",
    "# dataset_name = \"Steam\"\n",
    "# json_file_path = os.path.join(ROOT_DIR, f\"reviews_{dataset_name}.json.gz\")\n",
    "\n",
    "# with gzip.open(json_file_path, \"r\") as g:\n",
    "#     line = 0\n",
    "#     for l in parse(g):\n",
    "#         line += 1\n",
    "#         if line % 100000 == 0:\n",
    "#             print(line)\n",
    "\n",
    "#         product_id = int(l[\"product_id\"])\n",
    "#         username = l[\"username\"]\n",
    "#         time = datetime.strptime(l[\"date\"], \"%Y-%m-%d\")\n",
    "#         countU[username] += 1\n",
    "#         countP[product_id] += 1"
   ]
  },
  {
   "cell_type": "code",
   "execution_count": null,
   "metadata": {},
   "outputs": [],
   "source": [
    "# keys = set(countP.keys())\n",
    "# ids = set(df['id'].unique())"
   ]
  },
  {
   "cell_type": "code",
   "execution_count": null,
   "metadata": {},
   "outputs": [],
   "source": [
    "# df[df['id']==340]"
   ]
  },
  {
   "cell_type": "code",
   "execution_count": null,
   "metadata": {},
   "outputs": [],
   "source": [
    "# keys - ids"
   ]
  },
  {
   "cell_type": "code",
   "execution_count": null,
   "metadata": {},
   "outputs": [],
   "source": [
    "with open(os.path.join(ROOT_DIR, \"steam_games.json\")) as json_file:\n",
    "    lines = json_file.read().splitlines()\n",
    "records = [ast.literal_eval(line) for line in lines]\n",
    "\n",
    "raw_df = pd.DataFrame(records)"
   ]
  },
  {
   "cell_type": "code",
   "execution_count": null,
   "metadata": {},
   "outputs": [],
   "source": [
    "raw_df.info()"
   ]
  },
  {
   "cell_type": "code",
   "execution_count": null,
   "metadata": {},
   "outputs": [],
   "source": [
    "df = raw_df[['id', 'sentiment', 'genres', 'specs', 'price', 'early_access']]"
   ]
  },
  {
   "cell_type": "code",
   "execution_count": 12,
   "metadata": {},
   "outputs": [
    {
     "output_type": "stream",
     "name": "stdout",
     "text": [
      "13047\n",
      "<ipython-input-12-9604afbdf72d>:2: SettingWithCopyWarning: \n",
      "A value is trying to be set on a copy of a slice from a DataFrame\n",
      "\n",
      "See the caveats in the documentation: https://pandas.pydata.org/pandas-docs/stable/user_guide/indexing.html#returning-a-view-versus-a-copy\n",
      "  df.dropna(subset = ['id'], inplace=True)\n",
      "<ipython-input-12-9604afbdf72d>:3: SettingWithCopyWarning: \n",
      "A value is trying to be set on a copy of a slice from a DataFrame.\n",
      "Try using .loc[row_indexer,col_indexer] = value instead\n",
      "\n",
      "See the caveats in the documentation: https://pandas.pydata.org/pandas-docs/stable/user_guide/indexing.html#returning-a-view-versus-a-copy\n",
      "  df['id'] = df['id'].astype(int)\n",
      "<ipython-input-12-9604afbdf72d>:9: SettingWithCopyWarning: \n",
      "A value is trying to be set on a copy of a slice from a DataFrame.\n",
      "Try using .loc[row_indexer,col_indexer] = value instead\n",
      "\n",
      "See the caveats in the documentation: https://pandas.pydata.org/pandas-docs/stable/user_guide/indexing.html#returning-a-view-versus-a-copy\n",
      "  df['id'] = df['id'].apply(lambda x: itemmap[x] if x in  itemmap else None)\n",
      "<ipython-input-12-9604afbdf72d>:10: SettingWithCopyWarning: \n",
      "A value is trying to be set on a copy of a slice from a DataFrame\n",
      "\n",
      "See the caveats in the documentation: https://pandas.pydata.org/pandas-docs/stable/user_guide/indexing.html#returning-a-view-versus-a-copy\n",
      "  df.dropna(subset = ['id'], inplace=True)\n"
     ]
    }
   ],
   "source": [
    "#fix id\n",
    "df.dropna(subset = ['id'], inplace=True)\n",
    "df['id'] = df['id'].astype(int)\n",
    "\n",
    "itemmap = {}\n",
    "with open(os.path.join(ROOT_DIR, \"itemmap.pkl\"), 'rb') as f:\n",
    "    itemmap = pkl.load(f)\n",
    "\n",
    "df['id'] = df['id'].apply(lambda x: itemmap[x] if x in  itemmap else None)\n",
    "df.dropna(subset = ['id'], inplace=True)\n",
    "df = df.drop_duplicates(subset=['id'])\n",
    "\n",
    "df['id'] = df['id'].astype(int)\n",
    "df = df.reset_index()\n",
    "print(len(df))"
   ]
  },
  {
   "cell_type": "code",
   "execution_count": 13,
   "metadata": {},
   "outputs": [
    {
     "output_type": "execute_result",
     "data": {
      "text/plain": [
       "       index     id                sentiment  \\\n",
       "0          1   3061          Mostly Positive   \n",
       "1          2   2019          Mostly Positive   \n",
       "2          5  10834                    Mixed   \n",
       "3         27   6827            Very Positive   \n",
       "4         28   3583  Overwhelmingly Positive   \n",
       "...      ...    ...                      ...   \n",
       "13042  32116   6392  Overwhelmingly Positive   \n",
       "13043  32117   2950            Very Positive   \n",
       "13044  32124  10483           4 user reviews   \n",
       "13045  32129   9334           2 user reviews   \n",
       "13046  32133   2839           1 user reviews   \n",
       "\n",
       "                                                  genres  \\\n",
       "0                   [Free to Play, Indie, RPG, Strategy]   \n",
       "1      [Casual, Free to Play, Indie, Simulation, Sports]   \n",
       "2                        [Action, Adventure, Simulation]   \n",
       "3                                [Action, Indie, Racing]   \n",
       "4                                               [Action]   \n",
       "...                                                  ...   \n",
       "13042                                           [Action]   \n",
       "13043                                           [Action]   \n",
       "13044                                 [Adventure, Indie]   \n",
       "13045                 [Action, Adventure, Casual, Indie]   \n",
       "13046                                    [Casual, Indie]   \n",
       "\n",
       "                                                   specs         price  \\\n",
       "0      [Single-player, Multi-player, Online Multi-Pla...  Free To Play   \n",
       "1      [Single-player, Multi-player, Online Multi-Pla...  Free to Play   \n",
       "2                    [Single-player, Steam Achievements]          3.99   \n",
       "3      [Single-player, Multi-player, Steam Trading Ca...          9.99   \n",
       "4      [Single-player, Multi-player, Valve Anti-Cheat...          9.99   \n",
       "...                                                  ...           ...   \n",
       "13042  [Single-player, Multi-player, Steam Trading Ca...         14.99   \n",
       "13043  [Single-player, Multi-player, Valve Anti-Cheat...          9.99   \n",
       "13044                [Single-player, Steam Achievements]          0.99   \n",
       "13045   [Single-player, Steam Achievements, Steam Cloud]          1.99   \n",
       "13046   [Single-player, Steam Achievements, Steam Cloud]          4.99   \n",
       "\n",
       "       early_access  \n",
       "0             False  \n",
       "1             False  \n",
       "2             False  \n",
       "3             False  \n",
       "4             False  \n",
       "...             ...  \n",
       "13042         False  \n",
       "13043         False  \n",
       "13044         False  \n",
       "13045         False  \n",
       "13046         False  \n",
       "\n",
       "[13047 rows x 7 columns]"
      ],
      "text/html": "<div>\n<style scoped>\n    .dataframe tbody tr th:only-of-type {\n        vertical-align: middle;\n    }\n\n    .dataframe tbody tr th {\n        vertical-align: top;\n    }\n\n    .dataframe thead th {\n        text-align: right;\n    }\n</style>\n<table border=\"1\" class=\"dataframe\">\n  <thead>\n    <tr style=\"text-align: right;\">\n      <th></th>\n      <th>index</th>\n      <th>id</th>\n      <th>sentiment</th>\n      <th>genres</th>\n      <th>specs</th>\n      <th>price</th>\n      <th>early_access</th>\n    </tr>\n  </thead>\n  <tbody>\n    <tr>\n      <th>0</th>\n      <td>1</td>\n      <td>3061</td>\n      <td>Mostly Positive</td>\n      <td>[Free to Play, Indie, RPG, Strategy]</td>\n      <td>[Single-player, Multi-player, Online Multi-Pla...</td>\n      <td>Free To Play</td>\n      <td>False</td>\n    </tr>\n    <tr>\n      <th>1</th>\n      <td>2</td>\n      <td>2019</td>\n      <td>Mostly Positive</td>\n      <td>[Casual, Free to Play, Indie, Simulation, Sports]</td>\n      <td>[Single-player, Multi-player, Online Multi-Pla...</td>\n      <td>Free to Play</td>\n      <td>False</td>\n    </tr>\n    <tr>\n      <th>2</th>\n      <td>5</td>\n      <td>10834</td>\n      <td>Mixed</td>\n      <td>[Action, Adventure, Simulation]</td>\n      <td>[Single-player, Steam Achievements]</td>\n      <td>3.99</td>\n      <td>False</td>\n    </tr>\n    <tr>\n      <th>3</th>\n      <td>27</td>\n      <td>6827</td>\n      <td>Very Positive</td>\n      <td>[Action, Indie, Racing]</td>\n      <td>[Single-player, Multi-player, Steam Trading Ca...</td>\n      <td>9.99</td>\n      <td>False</td>\n    </tr>\n    <tr>\n      <th>4</th>\n      <td>28</td>\n      <td>3583</td>\n      <td>Overwhelmingly Positive</td>\n      <td>[Action]</td>\n      <td>[Single-player, Multi-player, Valve Anti-Cheat...</td>\n      <td>9.99</td>\n      <td>False</td>\n    </tr>\n    <tr>\n      <th>...</th>\n      <td>...</td>\n      <td>...</td>\n      <td>...</td>\n      <td>...</td>\n      <td>...</td>\n      <td>...</td>\n      <td>...</td>\n    </tr>\n    <tr>\n      <th>13042</th>\n      <td>32116</td>\n      <td>6392</td>\n      <td>Overwhelmingly Positive</td>\n      <td>[Action]</td>\n      <td>[Single-player, Multi-player, Steam Trading Ca...</td>\n      <td>14.99</td>\n      <td>False</td>\n    </tr>\n    <tr>\n      <th>13043</th>\n      <td>32117</td>\n      <td>2950</td>\n      <td>Very Positive</td>\n      <td>[Action]</td>\n      <td>[Single-player, Multi-player, Valve Anti-Cheat...</td>\n      <td>9.99</td>\n      <td>False</td>\n    </tr>\n    <tr>\n      <th>13044</th>\n      <td>32124</td>\n      <td>10483</td>\n      <td>4 user reviews</td>\n      <td>[Adventure, Indie]</td>\n      <td>[Single-player, Steam Achievements]</td>\n      <td>0.99</td>\n      <td>False</td>\n    </tr>\n    <tr>\n      <th>13045</th>\n      <td>32129</td>\n      <td>9334</td>\n      <td>2 user reviews</td>\n      <td>[Action, Adventure, Casual, Indie]</td>\n      <td>[Single-player, Steam Achievements, Steam Cloud]</td>\n      <td>1.99</td>\n      <td>False</td>\n    </tr>\n    <tr>\n      <th>13046</th>\n      <td>32133</td>\n      <td>2839</td>\n      <td>1 user reviews</td>\n      <td>[Casual, Indie]</td>\n      <td>[Single-player, Steam Achievements, Steam Cloud]</td>\n      <td>4.99</td>\n      <td>False</td>\n    </tr>\n  </tbody>\n</table>\n<p>13047 rows × 7 columns</p>\n</div>"
     },
     "metadata": {},
     "execution_count": 13
    }
   ],
   "source": [
    "df"
   ]
  },
  {
   "cell_type": "code",
   "execution_count": 14,
   "metadata": {},
   "outputs": [],
   "source": [
    "#fix sentiment\n",
    "sentiments = ['Unknown', 'Overwhelmingly Negative', \"Very Negative\", \"Negative\", \"Mostly Negative\", \"Mixed\", \"Mostly Positive\", \"Positive\" , \"Very Positive\" ,\"Overwhelmingly Positive\"]\n",
    "sentiments_dict = {\n",
    "    'Unknown': -1,\n",
    "    'Overwhelmingly Negative': 0,\n",
    "    'Very Negative': 1,\n",
    "    'Negative': 2,\n",
    "    'Mostly Negative': 3,\n",
    "    'Mixed': 4,\n",
    "    'Mostly Positive': 5,\n",
    "    'Positive': 6,\n",
    "    'Very Positive': 7,\n",
    "    'Overwhelmingly Positive': 8,\n",
    "}\n",
    "df['sentiment'] = df['sentiment'].fillna('Unknown')\n",
    "df['sentiment'] = df['sentiment'].apply(lambda x: x if x in sentiments else 'Unknown')\n",
    "df['sentiment'] = df['sentiment'].apply(lambda x: sentiments_dict[x])\n",
    "df['sentiment'] = df['sentiment'].astype(int)"
   ]
  },
  {
   "cell_type": "code",
   "execution_count": 15,
   "metadata": {},
   "outputs": [
    {
     "output_type": "stream",
     "name": "stdout",
     "text": [
      "22\n"
     ]
    }
   ],
   "source": [
    "#fix genres\n",
    "genres = set()\n",
    "for item in list(raw_df[\"genres\"].dropna()):        \n",
    "    genres = genres | set(item)\n",
    "print(len(genres))\n",
    "\n",
    "def is_in_genere(genre, x):\n",
    "    try:\n",
    "        return 1 if genre in x else 0\n",
    "    except:\n",
    "        return 0\n",
    "\n",
    "for genre in genres:\n",
    "    df[f'genre_{genre}'] = df['genres'].apply(lambda x: is_in_genere(genre=genre, x=x))\n",
    "\n",
    "df.drop(columns=['genres'],inplace=True)"
   ]
  },
  {
   "cell_type": "code",
   "execution_count": 16,
   "metadata": {},
   "outputs": [
    {
     "output_type": "stream",
     "name": "stdout",
     "text": [
      "40\n"
     ]
    }
   ],
   "source": [
    "#fix specs\n",
    "specs = set()\n",
    "for item in list(raw_df[\"specs\"].dropna()):        \n",
    "    specs = specs | set(item)\n",
    "print(len(specs))\n",
    "\n",
    "def is_in_spec(spec, x):\n",
    "    try:\n",
    "        return 1 if spec in x else 0\n",
    "    except:\n",
    "        return 0\n",
    "\n",
    "for spec in specs:\n",
    "    df[f'spec_{spec}'] = df['specs'].apply(lambda x: is_in_spec(spec, x))\n",
    "\n",
    "df.drop(columns=['specs'],inplace=True)"
   ]
  },
  {
   "cell_type": "code",
   "execution_count": 17,
   "metadata": {},
   "outputs": [
    {
     "output_type": "execute_result",
     "data": {
      "text/plain": [
       "       index     id  sentiment         price  early_access  \\\n",
       "0          1   3061          5  Free To Play         False   \n",
       "1          2   2019          5  Free to Play         False   \n",
       "2          5  10834          4          3.99         False   \n",
       "3         27   6827          7          9.99         False   \n",
       "4         28   3583          8          9.99         False   \n",
       "...      ...    ...        ...           ...           ...   \n",
       "13042  32116   6392          8         14.99         False   \n",
       "13043  32117   2950          7          9.99         False   \n",
       "13044  32124  10483         -1          0.99         False   \n",
       "13045  32129   9334         -1          1.99         False   \n",
       "13046  32133   2839         -1          4.99         False   \n",
       "\n",
       "       genre_Massively Multiplayer  genre_Sports  genre_Action  \\\n",
       "0                                0             0             0   \n",
       "1                                0             1             0   \n",
       "2                                0             0             1   \n",
       "3                                0             0             1   \n",
       "4                                0             0             1   \n",
       "...                            ...           ...           ...   \n",
       "13042                            0             0             1   \n",
       "13043                            0             0             1   \n",
       "13044                            0             0             0   \n",
       "13045                            0             0             1   \n",
       "13046                            0             0             0   \n",
       "\n",
       "       genre_Simulation  genre_Accounting  ...  spec_Oculus Rift  \\\n",
       "0                     0                 0  ...                 0   \n",
       "1                     1                 0  ...                 0   \n",
       "2                     1                 0  ...                 0   \n",
       "3                     0                 0  ...                 0   \n",
       "4                     0                 0  ...                 0   \n",
       "...                 ...               ...  ...               ...   \n",
       "13042                 0                 0  ...                 0   \n",
       "13043                 0                 0  ...                 0   \n",
       "13044                 0                 0  ...                 0   \n",
       "13045                 0                 0  ...                 0   \n",
       "13046                 0                 0  ...                 0   \n",
       "\n",
       "       spec_Steam Turn Notifications  spec_Partial Controller Support  \\\n",
       "0                                  0                                0   \n",
       "1                                  0                                0   \n",
       "2                                  0                                0   \n",
       "3                                  0                                0   \n",
       "4                                  0                                0   \n",
       "...                              ...                              ...   \n",
       "13042                              0                                0   \n",
       "13043                              0                                0   \n",
       "13044                              0                                0   \n",
       "13045                              0                                0   \n",
       "13046                              0                                0   \n",
       "\n",
       "       spec_Includes level editor  spec_Seated  \\\n",
       "0                               0            0   \n",
       "1                               0            0   \n",
       "2                               0            0   \n",
       "3                               0            0   \n",
       "4                               0            0   \n",
       "...                           ...          ...   \n",
       "13042                           0            0   \n",
       "13043                           0            0   \n",
       "13044                           0            0   \n",
       "13045                           0            0   \n",
       "13046                           0            0   \n",
       "\n",
       "       spec_Cross-Platform Multiplayer  spec_Steam Achievements  \\\n",
       "0                                    1                        1   \n",
       "1                                    0                        0   \n",
       "2                                    0                        1   \n",
       "3                                    0                        0   \n",
       "4                                    0                        0   \n",
       "...                                ...                      ...   \n",
       "13042                                0                        0   \n",
       "13043                                0                        0   \n",
       "13044                                0                        1   \n",
       "13045                                0                        1   \n",
       "13046                                0                        1   \n",
       "\n",
       "       spec_Room-Scale  spec_In-App Purchases  spec_Steam Workshop  \n",
       "0                    0                      1                    0  \n",
       "1                    0                      1                    0  \n",
       "2                    0                      0                    0  \n",
       "3                    0                      0                    0  \n",
       "4                    0                      0                    0  \n",
       "...                ...                    ...                  ...  \n",
       "13042                0                      0                    0  \n",
       "13043                0                      0                    0  \n",
       "13044                0                      0                    0  \n",
       "13045                0                      0                    0  \n",
       "13046                0                      0                    0  \n",
       "\n",
       "[13047 rows x 67 columns]"
      ],
      "text/html": "<div>\n<style scoped>\n    .dataframe tbody tr th:only-of-type {\n        vertical-align: middle;\n    }\n\n    .dataframe tbody tr th {\n        vertical-align: top;\n    }\n\n    .dataframe thead th {\n        text-align: right;\n    }\n</style>\n<table border=\"1\" class=\"dataframe\">\n  <thead>\n    <tr style=\"text-align: right;\">\n      <th></th>\n      <th>index</th>\n      <th>id</th>\n      <th>sentiment</th>\n      <th>price</th>\n      <th>early_access</th>\n      <th>genre_Massively Multiplayer</th>\n      <th>genre_Sports</th>\n      <th>genre_Action</th>\n      <th>genre_Simulation</th>\n      <th>genre_Accounting</th>\n      <th>...</th>\n      <th>spec_Oculus Rift</th>\n      <th>spec_Steam Turn Notifications</th>\n      <th>spec_Partial Controller Support</th>\n      <th>spec_Includes level editor</th>\n      <th>spec_Seated</th>\n      <th>spec_Cross-Platform Multiplayer</th>\n      <th>spec_Steam Achievements</th>\n      <th>spec_Room-Scale</th>\n      <th>spec_In-App Purchases</th>\n      <th>spec_Steam Workshop</th>\n    </tr>\n  </thead>\n  <tbody>\n    <tr>\n      <th>0</th>\n      <td>1</td>\n      <td>3061</td>\n      <td>5</td>\n      <td>Free To Play</td>\n      <td>False</td>\n      <td>0</td>\n      <td>0</td>\n      <td>0</td>\n      <td>0</td>\n      <td>0</td>\n      <td>...</td>\n      <td>0</td>\n      <td>0</td>\n      <td>0</td>\n      <td>0</td>\n      <td>0</td>\n      <td>1</td>\n      <td>1</td>\n      <td>0</td>\n      <td>1</td>\n      <td>0</td>\n    </tr>\n    <tr>\n      <th>1</th>\n      <td>2</td>\n      <td>2019</td>\n      <td>5</td>\n      <td>Free to Play</td>\n      <td>False</td>\n      <td>0</td>\n      <td>1</td>\n      <td>0</td>\n      <td>1</td>\n      <td>0</td>\n      <td>...</td>\n      <td>0</td>\n      <td>0</td>\n      <td>0</td>\n      <td>0</td>\n      <td>0</td>\n      <td>0</td>\n      <td>0</td>\n      <td>0</td>\n      <td>1</td>\n      <td>0</td>\n    </tr>\n    <tr>\n      <th>2</th>\n      <td>5</td>\n      <td>10834</td>\n      <td>4</td>\n      <td>3.99</td>\n      <td>False</td>\n      <td>0</td>\n      <td>0</td>\n      <td>1</td>\n      <td>1</td>\n      <td>0</td>\n      <td>...</td>\n      <td>0</td>\n      <td>0</td>\n      <td>0</td>\n      <td>0</td>\n      <td>0</td>\n      <td>0</td>\n      <td>1</td>\n      <td>0</td>\n      <td>0</td>\n      <td>0</td>\n    </tr>\n    <tr>\n      <th>3</th>\n      <td>27</td>\n      <td>6827</td>\n      <td>7</td>\n      <td>9.99</td>\n      <td>False</td>\n      <td>0</td>\n      <td>0</td>\n      <td>1</td>\n      <td>0</td>\n      <td>0</td>\n      <td>...</td>\n      <td>0</td>\n      <td>0</td>\n      <td>0</td>\n      <td>0</td>\n      <td>0</td>\n      <td>0</td>\n      <td>0</td>\n      <td>0</td>\n      <td>0</td>\n      <td>0</td>\n    </tr>\n    <tr>\n      <th>4</th>\n      <td>28</td>\n      <td>3583</td>\n      <td>8</td>\n      <td>9.99</td>\n      <td>False</td>\n      <td>0</td>\n      <td>0</td>\n      <td>1</td>\n      <td>0</td>\n      <td>0</td>\n      <td>...</td>\n      <td>0</td>\n      <td>0</td>\n      <td>0</td>\n      <td>0</td>\n      <td>0</td>\n      <td>0</td>\n      <td>0</td>\n      <td>0</td>\n      <td>0</td>\n      <td>0</td>\n    </tr>\n    <tr>\n      <th>...</th>\n      <td>...</td>\n      <td>...</td>\n      <td>...</td>\n      <td>...</td>\n      <td>...</td>\n      <td>...</td>\n      <td>...</td>\n      <td>...</td>\n      <td>...</td>\n      <td>...</td>\n      <td>...</td>\n      <td>...</td>\n      <td>...</td>\n      <td>...</td>\n      <td>...</td>\n      <td>...</td>\n      <td>...</td>\n      <td>...</td>\n      <td>...</td>\n      <td>...</td>\n      <td>...</td>\n    </tr>\n    <tr>\n      <th>13042</th>\n      <td>32116</td>\n      <td>6392</td>\n      <td>8</td>\n      <td>14.99</td>\n      <td>False</td>\n      <td>0</td>\n      <td>0</td>\n      <td>1</td>\n      <td>0</td>\n      <td>0</td>\n      <td>...</td>\n      <td>0</td>\n      <td>0</td>\n      <td>0</td>\n      <td>0</td>\n      <td>0</td>\n      <td>0</td>\n      <td>0</td>\n      <td>0</td>\n      <td>0</td>\n      <td>0</td>\n    </tr>\n    <tr>\n      <th>13043</th>\n      <td>32117</td>\n      <td>2950</td>\n      <td>7</td>\n      <td>9.99</td>\n      <td>False</td>\n      <td>0</td>\n      <td>0</td>\n      <td>1</td>\n      <td>0</td>\n      <td>0</td>\n      <td>...</td>\n      <td>0</td>\n      <td>0</td>\n      <td>0</td>\n      <td>0</td>\n      <td>0</td>\n      <td>0</td>\n      <td>0</td>\n      <td>0</td>\n      <td>0</td>\n      <td>0</td>\n    </tr>\n    <tr>\n      <th>13044</th>\n      <td>32124</td>\n      <td>10483</td>\n      <td>-1</td>\n      <td>0.99</td>\n      <td>False</td>\n      <td>0</td>\n      <td>0</td>\n      <td>0</td>\n      <td>0</td>\n      <td>0</td>\n      <td>...</td>\n      <td>0</td>\n      <td>0</td>\n      <td>0</td>\n      <td>0</td>\n      <td>0</td>\n      <td>0</td>\n      <td>1</td>\n      <td>0</td>\n      <td>0</td>\n      <td>0</td>\n    </tr>\n    <tr>\n      <th>13045</th>\n      <td>32129</td>\n      <td>9334</td>\n      <td>-1</td>\n      <td>1.99</td>\n      <td>False</td>\n      <td>0</td>\n      <td>0</td>\n      <td>1</td>\n      <td>0</td>\n      <td>0</td>\n      <td>...</td>\n      <td>0</td>\n      <td>0</td>\n      <td>0</td>\n      <td>0</td>\n      <td>0</td>\n      <td>0</td>\n      <td>1</td>\n      <td>0</td>\n      <td>0</td>\n      <td>0</td>\n    </tr>\n    <tr>\n      <th>13046</th>\n      <td>32133</td>\n      <td>2839</td>\n      <td>-1</td>\n      <td>4.99</td>\n      <td>False</td>\n      <td>0</td>\n      <td>0</td>\n      <td>0</td>\n      <td>0</td>\n      <td>0</td>\n      <td>...</td>\n      <td>0</td>\n      <td>0</td>\n      <td>0</td>\n      <td>0</td>\n      <td>0</td>\n      <td>0</td>\n      <td>1</td>\n      <td>0</td>\n      <td>0</td>\n      <td>0</td>\n    </tr>\n  </tbody>\n</table>\n<p>13047 rows × 67 columns</p>\n</div>"
     },
     "metadata": {},
     "execution_count": 17
    }
   ],
   "source": [
    "df"
   ]
  },
  {
   "cell_type": "code",
   "execution_count": 18,
   "metadata": {},
   "outputs": [],
   "source": [
    "#fix price\n",
    "# strange_prices = ['Free to Play', 'nan','Free','Free Demo', 'Play for Free!', 'Install Now', 'Play WARMACHINE: Tactics Demo', 'Free Mod', 'Install Theme', 'Third-party', 'Play Now', 'Free HITMAN™ Holiday Pack', 'Play the Demo', 'Starting at $499.00', 'Starting at $449.00', 'Free to Try', 'Free Movie', 'Free to Use']\n",
    "free_prices = ['Free to Play', 'Free', 'Free Demo', 'Play for Free!', 'Install Now', 'Play WARMACHINE: Tactics Demo', 'Free Mod', 'Install Theme', 'Play Now', 'Free HITMAN™ Holiday Pack', 'Play the Demo', 'Free to Try', 'Free Movie', 'Free to Use', 'Free To Play\t', \"'Free To Play'\", 'Free To Play']\n",
    "free_prices = free_prices + [df.iloc[1]['price']]\n",
    "df['price'] = df['price'].apply(lambda x: 0 if x in free_prices else x)\n",
    "df['price'] = df['price'].apply(lambda x: 0 if x == 'Third-party' else x)\n",
    "df['price'] = df['price'].apply(lambda x: 499.0 if x == 'Starting at $499.00' else x)\n",
    "df['price'] = df['price'].apply(lambda x: 449.0 if x == 'Starting at $449.00' else x)\n",
    "df['price'] = df['price'].fillna(-1)\n",
    "# df['price'].iloc[0] = 0\n",
    "# df.dropna(subset = ['price'], inplace=True)\n",
    "\n",
    "# df['price']=df['price'].apply(lambda x:round(x,2))"
   ]
  },
  {
   "cell_type": "code",
   "execution_count": 19,
   "metadata": {},
   "outputs": [
    {
     "output_type": "execute_result",
     "data": {
      "text/plain": [
       "Empty DataFrame\n",
       "Columns: [index, id, sentiment, price, early_access, genre_Massively Multiplayer, genre_Sports, genre_Action, genre_Simulation, genre_Accounting, genre_Software Training, genre_Racing, genre_Casual, genre_Audio Production, genre_Web Publishing, genre_Adventure, genre_Utilities, genre_Early Access, genre_Education, genre_Design &amp; Illustration, genre_RPG, genre_Video Production, genre_Photo Editing, genre_Indie, genre_Strategy, genre_Free to Play, genre_Animation &amp; Modeling, spec_Commentary available, spec_Windows Mixed Reality, spec_Local Co-op, spec_Valve Anti-Cheat enabled, spec_Steam Cloud, spec_SteamVR Collectibles, spec_Full controller support, spec_Mods, spec_Standing, spec_Tracked Motion Controllers, spec_Mods (require HL1), spec_Downloadable Content, spec_Steam Leaderboards, spec_Includes Source SDK, spec_Shared/Split Screen, spec_HTC Vive, spec_Co-op, spec_Mods (require HL2), spec_Keyboard / Mouse, spec_Stats, spec_Steam Trading Cards, spec_Game demo, spec_Multi-player, spec_Local Multi-Player, spec_Single-player, spec_MMO, spec_Online Multi-Player, spec_Captions available, spec_Online Co-op, spec_Gamepad, spec_Oculus Rift, spec_Steam Turn Notifications, spec_Partial Controller Support, spec_Includes level editor, spec_Seated, spec_Cross-Platform Multiplayer, spec_Steam Achievements, spec_Room-Scale, spec_In-App Purchases, spec_Steam Workshop]\n",
       "Index: []\n",
       "\n",
       "[0 rows x 67 columns]"
      ],
      "text/html": "<div>\n<style scoped>\n    .dataframe tbody tr th:only-of-type {\n        vertical-align: middle;\n    }\n\n    .dataframe tbody tr th {\n        vertical-align: top;\n    }\n\n    .dataframe thead th {\n        text-align: right;\n    }\n</style>\n<table border=\"1\" class=\"dataframe\">\n  <thead>\n    <tr style=\"text-align: right;\">\n      <th></th>\n      <th>index</th>\n      <th>id</th>\n      <th>sentiment</th>\n      <th>price</th>\n      <th>early_access</th>\n      <th>genre_Massively Multiplayer</th>\n      <th>genre_Sports</th>\n      <th>genre_Action</th>\n      <th>genre_Simulation</th>\n      <th>genre_Accounting</th>\n      <th>...</th>\n      <th>spec_Oculus Rift</th>\n      <th>spec_Steam Turn Notifications</th>\n      <th>spec_Partial Controller Support</th>\n      <th>spec_Includes level editor</th>\n      <th>spec_Seated</th>\n      <th>spec_Cross-Platform Multiplayer</th>\n      <th>spec_Steam Achievements</th>\n      <th>spec_Room-Scale</th>\n      <th>spec_In-App Purchases</th>\n      <th>spec_Steam Workshop</th>\n    </tr>\n  </thead>\n  <tbody>\n  </tbody>\n</table>\n<p>0 rows × 67 columns</p>\n</div>"
     },
     "metadata": {},
     "execution_count": 19
    }
   ],
   "source": [
    "df[df['price'] == \"Free To Play\"]"
   ]
  },
  {
   "cell_type": "code",
   "execution_count": 20,
   "metadata": {},
   "outputs": [],
   "source": [
    "# fix early_access\n",
    "df['early_access'] = df['early_access'].apply(lambda x: 1 if x else 0)"
   ]
  },
  {
   "cell_type": "code",
   "execution_count": 21,
   "metadata": {},
   "outputs": [
    {
     "output_type": "execute_result",
     "data": {
      "text/plain": [
       "Empty DataFrame\n",
       "Columns: [index, id, sentiment, price, early_access, genre_Massively Multiplayer, genre_Sports, genre_Action, genre_Simulation, genre_Accounting, genre_Software Training, genre_Racing, genre_Casual, genre_Audio Production, genre_Web Publishing, genre_Adventure, genre_Utilities, genre_Early Access, genre_Education, genre_Design &amp; Illustration, genre_RPG, genre_Video Production, genre_Photo Editing, genre_Indie, genre_Strategy, genre_Free to Play, genre_Animation &amp; Modeling, spec_Commentary available, spec_Windows Mixed Reality, spec_Local Co-op, spec_Valve Anti-Cheat enabled, spec_Steam Cloud, spec_SteamVR Collectibles, spec_Full controller support, spec_Mods, spec_Standing, spec_Tracked Motion Controllers, spec_Mods (require HL1), spec_Downloadable Content, spec_Steam Leaderboards, spec_Includes Source SDK, spec_Shared/Split Screen, spec_HTC Vive, spec_Co-op, spec_Mods (require HL2), spec_Keyboard / Mouse, spec_Stats, spec_Steam Trading Cards, spec_Game demo, spec_Multi-player, spec_Local Multi-Player, spec_Single-player, spec_MMO, spec_Online Multi-Player, spec_Captions available, spec_Online Co-op, spec_Gamepad, spec_Oculus Rift, spec_Steam Turn Notifications, spec_Partial Controller Support, spec_Includes level editor, spec_Seated, spec_Cross-Platform Multiplayer, spec_Steam Achievements, spec_Room-Scale, spec_In-App Purchases, spec_Steam Workshop]\n",
       "Index: []\n",
       "\n",
       "[0 rows x 67 columns]"
      ],
      "text/html": "<div>\n<style scoped>\n    .dataframe tbody tr th:only-of-type {\n        vertical-align: middle;\n    }\n\n    .dataframe tbody tr th {\n        vertical-align: top;\n    }\n\n    .dataframe thead th {\n        text-align: right;\n    }\n</style>\n<table border=\"1\" class=\"dataframe\">\n  <thead>\n    <tr style=\"text-align: right;\">\n      <th></th>\n      <th>index</th>\n      <th>id</th>\n      <th>sentiment</th>\n      <th>price</th>\n      <th>early_access</th>\n      <th>genre_Massively Multiplayer</th>\n      <th>genre_Sports</th>\n      <th>genre_Action</th>\n      <th>genre_Simulation</th>\n      <th>genre_Accounting</th>\n      <th>...</th>\n      <th>spec_Oculus Rift</th>\n      <th>spec_Steam Turn Notifications</th>\n      <th>spec_Partial Controller Support</th>\n      <th>spec_Includes level editor</th>\n      <th>spec_Seated</th>\n      <th>spec_Cross-Platform Multiplayer</th>\n      <th>spec_Steam Achievements</th>\n      <th>spec_Room-Scale</th>\n      <th>spec_In-App Purchases</th>\n      <th>spec_Steam Workshop</th>\n    </tr>\n  </thead>\n  <tbody>\n  </tbody>\n</table>\n<p>0 rows × 67 columns</p>\n</div>"
     },
     "metadata": {},
     "execution_count": 21
    }
   ],
   "source": [
    "df[df.isnull().any(axis=1)]"
   ]
  },
  {
   "cell_type": "code",
   "execution_count": 22,
   "metadata": {},
   "outputs": [],
   "source": [
    "df.to_csv(os.path.join(ROOT_DIR, \"items_info.csv\"), index=False)"
   ]
  },
  {
   "cell_type": "code",
   "execution_count": 23,
   "metadata": {},
   "outputs": [
    {
     "output_type": "execute_result",
     "data": {
      "text/plain": [
       "       index     id  sentiment  price  early_access  \\\n",
       "0          1   3061          5   0.00             0   \n",
       "1          2   2019          5   0.00             0   \n",
       "2          5  10834          4   3.99             0   \n",
       "3         27   6827          7   9.99             0   \n",
       "4         28   3583          8   9.99             0   \n",
       "...      ...    ...        ...    ...           ...   \n",
       "13042  32116   6392          8  14.99             0   \n",
       "13043  32117   2950          7   9.99             0   \n",
       "13044  32124  10483         -1   0.99             0   \n",
       "13045  32129   9334         -1   1.99             0   \n",
       "13046  32133   2839         -1   4.99             0   \n",
       "\n",
       "       genre_Massively Multiplayer  genre_Sports  genre_Action  \\\n",
       "0                                0             0             0   \n",
       "1                                0             1             0   \n",
       "2                                0             0             1   \n",
       "3                                0             0             1   \n",
       "4                                0             0             1   \n",
       "...                            ...           ...           ...   \n",
       "13042                            0             0             1   \n",
       "13043                            0             0             1   \n",
       "13044                            0             0             0   \n",
       "13045                            0             0             1   \n",
       "13046                            0             0             0   \n",
       "\n",
       "       genre_Simulation  genre_Accounting  ...  spec_Oculus Rift  \\\n",
       "0                     0                 0  ...                 0   \n",
       "1                     1                 0  ...                 0   \n",
       "2                     1                 0  ...                 0   \n",
       "3                     0                 0  ...                 0   \n",
       "4                     0                 0  ...                 0   \n",
       "...                 ...               ...  ...               ...   \n",
       "13042                 0                 0  ...                 0   \n",
       "13043                 0                 0  ...                 0   \n",
       "13044                 0                 0  ...                 0   \n",
       "13045                 0                 0  ...                 0   \n",
       "13046                 0                 0  ...                 0   \n",
       "\n",
       "       spec_Steam Turn Notifications  spec_Partial Controller Support  \\\n",
       "0                                  0                                0   \n",
       "1                                  0                                0   \n",
       "2                                  0                                0   \n",
       "3                                  0                                0   \n",
       "4                                  0                                0   \n",
       "...                              ...                              ...   \n",
       "13042                              0                                0   \n",
       "13043                              0                                0   \n",
       "13044                              0                                0   \n",
       "13045                              0                                0   \n",
       "13046                              0                                0   \n",
       "\n",
       "       spec_Includes level editor  spec_Seated  \\\n",
       "0                               0            0   \n",
       "1                               0            0   \n",
       "2                               0            0   \n",
       "3                               0            0   \n",
       "4                               0            0   \n",
       "...                           ...          ...   \n",
       "13042                           0            0   \n",
       "13043                           0            0   \n",
       "13044                           0            0   \n",
       "13045                           0            0   \n",
       "13046                           0            0   \n",
       "\n",
       "       spec_Cross-Platform Multiplayer  spec_Steam Achievements  \\\n",
       "0                                    1                        1   \n",
       "1                                    0                        0   \n",
       "2                                    0                        1   \n",
       "3                                    0                        0   \n",
       "4                                    0                        0   \n",
       "...                                ...                      ...   \n",
       "13042                                0                        0   \n",
       "13043                                0                        0   \n",
       "13044                                0                        1   \n",
       "13045                                0                        1   \n",
       "13046                                0                        1   \n",
       "\n",
       "       spec_Room-Scale  spec_In-App Purchases  spec_Steam Workshop  \n",
       "0                    0                      1                    0  \n",
       "1                    0                      1                    0  \n",
       "2                    0                      0                    0  \n",
       "3                    0                      0                    0  \n",
       "4                    0                      0                    0  \n",
       "...                ...                    ...                  ...  \n",
       "13042                0                      0                    0  \n",
       "13043                0                      0                    0  \n",
       "13044                0                      0                    0  \n",
       "13045                0                      0                    0  \n",
       "13046                0                      0                    0  \n",
       "\n",
       "[13047 rows x 67 columns]"
      ],
      "text/html": "<div>\n<style scoped>\n    .dataframe tbody tr th:only-of-type {\n        vertical-align: middle;\n    }\n\n    .dataframe tbody tr th {\n        vertical-align: top;\n    }\n\n    .dataframe thead th {\n        text-align: right;\n    }\n</style>\n<table border=\"1\" class=\"dataframe\">\n  <thead>\n    <tr style=\"text-align: right;\">\n      <th></th>\n      <th>index</th>\n      <th>id</th>\n      <th>sentiment</th>\n      <th>price</th>\n      <th>early_access</th>\n      <th>genre_Massively Multiplayer</th>\n      <th>genre_Sports</th>\n      <th>genre_Action</th>\n      <th>genre_Simulation</th>\n      <th>genre_Accounting</th>\n      <th>...</th>\n      <th>spec_Oculus Rift</th>\n      <th>spec_Steam Turn Notifications</th>\n      <th>spec_Partial Controller Support</th>\n      <th>spec_Includes level editor</th>\n      <th>spec_Seated</th>\n      <th>spec_Cross-Platform Multiplayer</th>\n      <th>spec_Steam Achievements</th>\n      <th>spec_Room-Scale</th>\n      <th>spec_In-App Purchases</th>\n      <th>spec_Steam Workshop</th>\n    </tr>\n  </thead>\n  <tbody>\n    <tr>\n      <th>0</th>\n      <td>1</td>\n      <td>3061</td>\n      <td>5</td>\n      <td>0.00</td>\n      <td>0</td>\n      <td>0</td>\n      <td>0</td>\n      <td>0</td>\n      <td>0</td>\n      <td>0</td>\n      <td>...</td>\n      <td>0</td>\n      <td>0</td>\n      <td>0</td>\n      <td>0</td>\n      <td>0</td>\n      <td>1</td>\n      <td>1</td>\n      <td>0</td>\n      <td>1</td>\n      <td>0</td>\n    </tr>\n    <tr>\n      <th>1</th>\n      <td>2</td>\n      <td>2019</td>\n      <td>5</td>\n      <td>0.00</td>\n      <td>0</td>\n      <td>0</td>\n      <td>1</td>\n      <td>0</td>\n      <td>1</td>\n      <td>0</td>\n      <td>...</td>\n      <td>0</td>\n      <td>0</td>\n      <td>0</td>\n      <td>0</td>\n      <td>0</td>\n      <td>0</td>\n      <td>0</td>\n      <td>0</td>\n      <td>1</td>\n      <td>0</td>\n    </tr>\n    <tr>\n      <th>2</th>\n      <td>5</td>\n      <td>10834</td>\n      <td>4</td>\n      <td>3.99</td>\n      <td>0</td>\n      <td>0</td>\n      <td>0</td>\n      <td>1</td>\n      <td>1</td>\n      <td>0</td>\n      <td>...</td>\n      <td>0</td>\n      <td>0</td>\n      <td>0</td>\n      <td>0</td>\n      <td>0</td>\n      <td>0</td>\n      <td>1</td>\n      <td>0</td>\n      <td>0</td>\n      <td>0</td>\n    </tr>\n    <tr>\n      <th>3</th>\n      <td>27</td>\n      <td>6827</td>\n      <td>7</td>\n      <td>9.99</td>\n      <td>0</td>\n      <td>0</td>\n      <td>0</td>\n      <td>1</td>\n      <td>0</td>\n      <td>0</td>\n      <td>...</td>\n      <td>0</td>\n      <td>0</td>\n      <td>0</td>\n      <td>0</td>\n      <td>0</td>\n      <td>0</td>\n      <td>0</td>\n      <td>0</td>\n      <td>0</td>\n      <td>0</td>\n    </tr>\n    <tr>\n      <th>4</th>\n      <td>28</td>\n      <td>3583</td>\n      <td>8</td>\n      <td>9.99</td>\n      <td>0</td>\n      <td>0</td>\n      <td>0</td>\n      <td>1</td>\n      <td>0</td>\n      <td>0</td>\n      <td>...</td>\n      <td>0</td>\n      <td>0</td>\n      <td>0</td>\n      <td>0</td>\n      <td>0</td>\n      <td>0</td>\n      <td>0</td>\n      <td>0</td>\n      <td>0</td>\n      <td>0</td>\n    </tr>\n    <tr>\n      <th>...</th>\n      <td>...</td>\n      <td>...</td>\n      <td>...</td>\n      <td>...</td>\n      <td>...</td>\n      <td>...</td>\n      <td>...</td>\n      <td>...</td>\n      <td>...</td>\n      <td>...</td>\n      <td>...</td>\n      <td>...</td>\n      <td>...</td>\n      <td>...</td>\n      <td>...</td>\n      <td>...</td>\n      <td>...</td>\n      <td>...</td>\n      <td>...</td>\n      <td>...</td>\n      <td>...</td>\n    </tr>\n    <tr>\n      <th>13042</th>\n      <td>32116</td>\n      <td>6392</td>\n      <td>8</td>\n      <td>14.99</td>\n      <td>0</td>\n      <td>0</td>\n      <td>0</td>\n      <td>1</td>\n      <td>0</td>\n      <td>0</td>\n      <td>...</td>\n      <td>0</td>\n      <td>0</td>\n      <td>0</td>\n      <td>0</td>\n      <td>0</td>\n      <td>0</td>\n      <td>0</td>\n      <td>0</td>\n      <td>0</td>\n      <td>0</td>\n    </tr>\n    <tr>\n      <th>13043</th>\n      <td>32117</td>\n      <td>2950</td>\n      <td>7</td>\n      <td>9.99</td>\n      <td>0</td>\n      <td>0</td>\n      <td>0</td>\n      <td>1</td>\n      <td>0</td>\n      <td>0</td>\n      <td>...</td>\n      <td>0</td>\n      <td>0</td>\n      <td>0</td>\n      <td>0</td>\n      <td>0</td>\n      <td>0</td>\n      <td>0</td>\n      <td>0</td>\n      <td>0</td>\n      <td>0</td>\n    </tr>\n    <tr>\n      <th>13044</th>\n      <td>32124</td>\n      <td>10483</td>\n      <td>-1</td>\n      <td>0.99</td>\n      <td>0</td>\n      <td>0</td>\n      <td>0</td>\n      <td>0</td>\n      <td>0</td>\n      <td>0</td>\n      <td>...</td>\n      <td>0</td>\n      <td>0</td>\n      <td>0</td>\n      <td>0</td>\n      <td>0</td>\n      <td>0</td>\n      <td>1</td>\n      <td>0</td>\n      <td>0</td>\n      <td>0</td>\n    </tr>\n    <tr>\n      <th>13045</th>\n      <td>32129</td>\n      <td>9334</td>\n      <td>-1</td>\n      <td>1.99</td>\n      <td>0</td>\n      <td>0</td>\n      <td>0</td>\n      <td>1</td>\n      <td>0</td>\n      <td>0</td>\n      <td>...</td>\n      <td>0</td>\n      <td>0</td>\n      <td>0</td>\n      <td>0</td>\n      <td>0</td>\n      <td>0</td>\n      <td>1</td>\n      <td>0</td>\n      <td>0</td>\n      <td>0</td>\n    </tr>\n    <tr>\n      <th>13046</th>\n      <td>32133</td>\n      <td>2839</td>\n      <td>-1</td>\n      <td>4.99</td>\n      <td>0</td>\n      <td>0</td>\n      <td>0</td>\n      <td>0</td>\n      <td>0</td>\n      <td>0</td>\n      <td>...</td>\n      <td>0</td>\n      <td>0</td>\n      <td>0</td>\n      <td>0</td>\n      <td>0</td>\n      <td>0</td>\n      <td>1</td>\n      <td>0</td>\n      <td>0</td>\n      <td>0</td>\n    </tr>\n  </tbody>\n</table>\n<p>13047 rows × 67 columns</p>\n</div>"
     },
     "metadata": {},
     "execution_count": 23
    }
   ],
   "source": [
    "df"
   ]
  },
  {
   "cell_type": "code",
   "execution_count": 38,
   "metadata": {},
   "outputs": [],
   "source": [
    "from sklearn.decomposition import PCA\n",
    "from sklearn.preprocessing import StandardScaler\n",
    "\n",
    "pca_df = df.drop(columns=['id'])\n",
    "pca = PCA(n_components=50)\n",
    "scaler = StandardScaler()\n",
    "pca_np = scaler.fit_transform(pca.fit_transform(pca_df))\n",
    "pca_df = pd.DataFrame(pca_np)\n",
    "pca_df['id'] = df['id']\n",
    "\n",
    "columns = ['id']\n",
    "for i in range(50):\n",
    "    columns.append(i)\n",
    "pca_df = pca_df[columns]\n",
    "\n",
    "pca_df.to_csv(os.path.join(ROOT_DIR, \"items_info_pca.csv\"), index=False)"
   ]
  },
  {
   "cell_type": "code",
   "execution_count": 39,
   "metadata": {},
   "outputs": [
    {
     "output_type": "execute_result",
     "data": {
      "text/plain": [
       "          id         0         1         2         3         4         5  \\\n",
       "0       3061  1.632144 -0.644972 -0.329914 -0.009933 -0.948314  2.002481   \n",
       "1       2019  1.632045 -0.645301 -0.302780 -1.198375 -0.822720  1.434227   \n",
       "2      10834  1.631747 -0.375631  0.091572 -0.397072 -0.004765 -1.056380   \n",
       "3       6827  1.629562  0.033241 -1.019878 -0.283925 -1.090579 -0.487366   \n",
       "4       3583  1.629462  0.034706 -1.399206 -1.382571 -1.548570 -0.769859   \n",
       "...      ...       ...       ...       ...       ...       ...       ...   \n",
       "13042   6392 -1.557670  0.382623 -1.301733 -0.716717 -1.078528 -0.446285   \n",
       "13043   2950 -1.557770  0.043177 -0.940179 -1.267592 -1.468875 -0.697728   \n",
       "13044  10483 -1.558465 -0.574767  2.069444  0.099359  1.018956 -0.531398   \n",
       "13045   9334 -1.558962 -0.507289  2.069028  1.017051  0.776476 -0.646556   \n",
       "13046   2839 -1.559359 -0.304070  2.087777  0.471825  0.997831  1.108633   \n",
       "\n",
       "              6         7         8  ...        40        41        42  \\\n",
       "0      1.976254 -1.948210  0.208270  ...  0.080944 -0.003862 -0.820910   \n",
       "1      1.115789  1.407753  0.143512  ...  0.083933 -0.049179 -0.262532   \n",
       "2     -0.524779 -0.555841 -0.450960  ... -0.039312  0.050003  0.136925   \n",
       "3      0.437009  0.470111 -0.639924  ... -0.461612 -0.045931 -0.118752   \n",
       "4     -0.855055  0.131137 -0.536727  ...  0.314680 -0.046243  0.177269   \n",
       "...         ...       ...       ...  ...       ...       ...       ...   \n",
       "13042 -0.431903 -0.162771 -1.122818  ... -0.164987  0.033352 -0.060753   \n",
       "13043 -0.803932  0.154455 -0.463746  ...  0.304884 -0.029299  0.184556   \n",
       "13044  0.094170 -0.564127  0.463587  ...  0.020173  0.025182  0.046932   \n",
       "13045 -0.111596  0.478762 -0.121486  ... -0.038190 -0.009450  0.082919   \n",
       "13046 -0.724057  0.800814  0.190380  ... -0.037940 -0.005863  0.000424   \n",
       "\n",
       "             43        44        45        46        47        48        49  \n",
       "0      0.315101 -0.116259  0.044188  0.011916  0.108588 -0.011955  0.105477  \n",
       "1      0.325600 -0.131910 -0.012076 -0.018736  0.117220  0.009550  0.057176  \n",
       "2      0.068571 -0.045924  0.012952  0.024151 -0.000507  0.014299 -0.032618  \n",
       "3     -0.051114  0.099320  0.033045  0.012624  0.016627  0.002343 -0.066340  \n",
       "4      0.122827 -2.654367 -0.290698 -0.197154 -0.020494  0.162864 -1.077788  \n",
       "...         ...       ...       ...       ...       ...       ...       ...  \n",
       "13042 -0.039996  0.021779  0.005821  0.034540 -0.007128 -0.033608 -0.117395  \n",
       "13043  0.090303 -2.681049 -0.281918 -0.161467 -0.027013  0.119155 -1.101736  \n",
       "13044  0.014732  0.018386  0.027975  0.046928 -0.025646 -0.029352 -0.039118  \n",
       "13045  0.012080 -0.060144  0.032767  0.015577 -0.019862 -0.013027 -0.028627  \n",
       "13046 -0.039704  0.036093  0.016028 -0.003136 -0.032167 -0.026378 -0.018135  \n",
       "\n",
       "[13047 rows x 51 columns]"
      ],
      "text/html": "<div>\n<style scoped>\n    .dataframe tbody tr th:only-of-type {\n        vertical-align: middle;\n    }\n\n    .dataframe tbody tr th {\n        vertical-align: top;\n    }\n\n    .dataframe thead th {\n        text-align: right;\n    }\n</style>\n<table border=\"1\" class=\"dataframe\">\n  <thead>\n    <tr style=\"text-align: right;\">\n      <th></th>\n      <th>id</th>\n      <th>0</th>\n      <th>1</th>\n      <th>2</th>\n      <th>3</th>\n      <th>4</th>\n      <th>5</th>\n      <th>6</th>\n      <th>7</th>\n      <th>8</th>\n      <th>...</th>\n      <th>40</th>\n      <th>41</th>\n      <th>42</th>\n      <th>43</th>\n      <th>44</th>\n      <th>45</th>\n      <th>46</th>\n      <th>47</th>\n      <th>48</th>\n      <th>49</th>\n    </tr>\n  </thead>\n  <tbody>\n    <tr>\n      <th>0</th>\n      <td>3061</td>\n      <td>1.632144</td>\n      <td>-0.644972</td>\n      <td>-0.329914</td>\n      <td>-0.009933</td>\n      <td>-0.948314</td>\n      <td>2.002481</td>\n      <td>1.976254</td>\n      <td>-1.948210</td>\n      <td>0.208270</td>\n      <td>...</td>\n      <td>0.080944</td>\n      <td>-0.003862</td>\n      <td>-0.820910</td>\n      <td>0.315101</td>\n      <td>-0.116259</td>\n      <td>0.044188</td>\n      <td>0.011916</td>\n      <td>0.108588</td>\n      <td>-0.011955</td>\n      <td>0.105477</td>\n    </tr>\n    <tr>\n      <th>1</th>\n      <td>2019</td>\n      <td>1.632045</td>\n      <td>-0.645301</td>\n      <td>-0.302780</td>\n      <td>-1.198375</td>\n      <td>-0.822720</td>\n      <td>1.434227</td>\n      <td>1.115789</td>\n      <td>1.407753</td>\n      <td>0.143512</td>\n      <td>...</td>\n      <td>0.083933</td>\n      <td>-0.049179</td>\n      <td>-0.262532</td>\n      <td>0.325600</td>\n      <td>-0.131910</td>\n      <td>-0.012076</td>\n      <td>-0.018736</td>\n      <td>0.117220</td>\n      <td>0.009550</td>\n      <td>0.057176</td>\n    </tr>\n    <tr>\n      <th>2</th>\n      <td>10834</td>\n      <td>1.631747</td>\n      <td>-0.375631</td>\n      <td>0.091572</td>\n      <td>-0.397072</td>\n      <td>-0.004765</td>\n      <td>-1.056380</td>\n      <td>-0.524779</td>\n      <td>-0.555841</td>\n      <td>-0.450960</td>\n      <td>...</td>\n      <td>-0.039312</td>\n      <td>0.050003</td>\n      <td>0.136925</td>\n      <td>0.068571</td>\n      <td>-0.045924</td>\n      <td>0.012952</td>\n      <td>0.024151</td>\n      <td>-0.000507</td>\n      <td>0.014299</td>\n      <td>-0.032618</td>\n    </tr>\n    <tr>\n      <th>3</th>\n      <td>6827</td>\n      <td>1.629562</td>\n      <td>0.033241</td>\n      <td>-1.019878</td>\n      <td>-0.283925</td>\n      <td>-1.090579</td>\n      <td>-0.487366</td>\n      <td>0.437009</td>\n      <td>0.470111</td>\n      <td>-0.639924</td>\n      <td>...</td>\n      <td>-0.461612</td>\n      <td>-0.045931</td>\n      <td>-0.118752</td>\n      <td>-0.051114</td>\n      <td>0.099320</td>\n      <td>0.033045</td>\n      <td>0.012624</td>\n      <td>0.016627</td>\n      <td>0.002343</td>\n      <td>-0.066340</td>\n    </tr>\n    <tr>\n      <th>4</th>\n      <td>3583</td>\n      <td>1.629462</td>\n      <td>0.034706</td>\n      <td>-1.399206</td>\n      <td>-1.382571</td>\n      <td>-1.548570</td>\n      <td>-0.769859</td>\n      <td>-0.855055</td>\n      <td>0.131137</td>\n      <td>-0.536727</td>\n      <td>...</td>\n      <td>0.314680</td>\n      <td>-0.046243</td>\n      <td>0.177269</td>\n      <td>0.122827</td>\n      <td>-2.654367</td>\n      <td>-0.290698</td>\n      <td>-0.197154</td>\n      <td>-0.020494</td>\n      <td>0.162864</td>\n      <td>-1.077788</td>\n    </tr>\n    <tr>\n      <th>...</th>\n      <td>...</td>\n      <td>...</td>\n      <td>...</td>\n      <td>...</td>\n      <td>...</td>\n      <td>...</td>\n      <td>...</td>\n      <td>...</td>\n      <td>...</td>\n      <td>...</td>\n      <td>...</td>\n      <td>...</td>\n      <td>...</td>\n      <td>...</td>\n      <td>...</td>\n      <td>...</td>\n      <td>...</td>\n      <td>...</td>\n      <td>...</td>\n      <td>...</td>\n      <td>...</td>\n    </tr>\n    <tr>\n      <th>13042</th>\n      <td>6392</td>\n      <td>-1.557670</td>\n      <td>0.382623</td>\n      <td>-1.301733</td>\n      <td>-0.716717</td>\n      <td>-1.078528</td>\n      <td>-0.446285</td>\n      <td>-0.431903</td>\n      <td>-0.162771</td>\n      <td>-1.122818</td>\n      <td>...</td>\n      <td>-0.164987</td>\n      <td>0.033352</td>\n      <td>-0.060753</td>\n      <td>-0.039996</td>\n      <td>0.021779</td>\n      <td>0.005821</td>\n      <td>0.034540</td>\n      <td>-0.007128</td>\n      <td>-0.033608</td>\n      <td>-0.117395</td>\n    </tr>\n    <tr>\n      <th>13043</th>\n      <td>2950</td>\n      <td>-1.557770</td>\n      <td>0.043177</td>\n      <td>-0.940179</td>\n      <td>-1.267592</td>\n      <td>-1.468875</td>\n      <td>-0.697728</td>\n      <td>-0.803932</td>\n      <td>0.154455</td>\n      <td>-0.463746</td>\n      <td>...</td>\n      <td>0.304884</td>\n      <td>-0.029299</td>\n      <td>0.184556</td>\n      <td>0.090303</td>\n      <td>-2.681049</td>\n      <td>-0.281918</td>\n      <td>-0.161467</td>\n      <td>-0.027013</td>\n      <td>0.119155</td>\n      <td>-1.101736</td>\n    </tr>\n    <tr>\n      <th>13044</th>\n      <td>10483</td>\n      <td>-1.558465</td>\n      <td>-0.574767</td>\n      <td>2.069444</td>\n      <td>0.099359</td>\n      <td>1.018956</td>\n      <td>-0.531398</td>\n      <td>0.094170</td>\n      <td>-0.564127</td>\n      <td>0.463587</td>\n      <td>...</td>\n      <td>0.020173</td>\n      <td>0.025182</td>\n      <td>0.046932</td>\n      <td>0.014732</td>\n      <td>0.018386</td>\n      <td>0.027975</td>\n      <td>0.046928</td>\n      <td>-0.025646</td>\n      <td>-0.029352</td>\n      <td>-0.039118</td>\n    </tr>\n    <tr>\n      <th>13045</th>\n      <td>9334</td>\n      <td>-1.558962</td>\n      <td>-0.507289</td>\n      <td>2.069028</td>\n      <td>1.017051</td>\n      <td>0.776476</td>\n      <td>-0.646556</td>\n      <td>-0.111596</td>\n      <td>0.478762</td>\n      <td>-0.121486</td>\n      <td>...</td>\n      <td>-0.038190</td>\n      <td>-0.009450</td>\n      <td>0.082919</td>\n      <td>0.012080</td>\n      <td>-0.060144</td>\n      <td>0.032767</td>\n      <td>0.015577</td>\n      <td>-0.019862</td>\n      <td>-0.013027</td>\n      <td>-0.028627</td>\n    </tr>\n    <tr>\n      <th>13046</th>\n      <td>2839</td>\n      <td>-1.559359</td>\n      <td>-0.304070</td>\n      <td>2.087777</td>\n      <td>0.471825</td>\n      <td>0.997831</td>\n      <td>1.108633</td>\n      <td>-0.724057</td>\n      <td>0.800814</td>\n      <td>0.190380</td>\n      <td>...</td>\n      <td>-0.037940</td>\n      <td>-0.005863</td>\n      <td>0.000424</td>\n      <td>-0.039704</td>\n      <td>0.036093</td>\n      <td>0.016028</td>\n      <td>-0.003136</td>\n      <td>-0.032167</td>\n      <td>-0.026378</td>\n      <td>-0.018135</td>\n    </tr>\n  </tbody>\n</table>\n<p>13047 rows × 51 columns</p>\n</div>"
     },
     "metadata": {},
     "execution_count": 39
    }
   ],
   "source": [
    "pca_df"
   ]
  },
  {
   "cell_type": "code",
   "execution_count": 36,
   "metadata": {},
   "outputs": [],
   "source": [
    "from sklearn.cluster import FeatureAgglomeration\n",
    "from sklearn.preprocessing import StandardScaler\n",
    "\n",
    "fagg_df = df.drop(columns=['id'])\n",
    "fagg = FeatureAgglomeration(n_clusters=50)\n",
    "scaler = StandardScaler()\n",
    "fagg_np = scaler.fit_transform(fagg.fit_transform(fagg_df))\n",
    "fagg_df = pd.DataFrame(fagg_np)\n",
    "fagg_df['id'] = df['id']\n",
    "\n",
    "columns = ['id']\n",
    "for i in range(50):\n",
    "    columns.append(i)\n",
    "fagg_df = fagg_df[columns]\n",
    "\n",
    "fagg_df.to_csv(os.path.join(ROOT_DIR, \"items_info_fagg.csv\"), index=False)"
   ]
  },
  {
   "cell_type": "code",
   "execution_count": 37,
   "metadata": {},
   "outputs": [
    {
     "output_type": "execute_result",
     "data": {
      "text/plain": [
       "          id         0      1         2         3         4         5  \\\n",
       "0       3061 -0.043108 -0.059 -0.303436  5.727174 -0.216275 -0.183943   \n",
       "1       2019 -0.043108 -0.059 -0.303436  5.727174 -0.216275 -0.183943   \n",
       "2      10834 -0.043108 -0.059 -0.303436 -0.174606 -0.216275 -0.183943   \n",
       "3       6827 -0.043108 -0.059 -0.303436 -0.174606 -0.216275 -0.183943   \n",
       "4       3583 -0.043108 -0.059 -0.303436 -0.174606 -0.216275 -0.183943   \n",
       "...      ...       ...    ...       ...       ...       ...       ...   \n",
       "13042   6392 -0.043108 -0.059 -0.303436 -0.174606 -0.216275 -0.183943   \n",
       "13043   2950 -0.043108 -0.059 -0.303436 -0.174606 -0.216275 -0.183943   \n",
       "13044  10483 -0.043108 -0.059 -0.303436 -0.174606 -0.216275 -0.183943   \n",
       "13045   9334 -0.043108 -0.059 -0.303436 -0.174606 -0.216275 -0.183943   \n",
       "13046   2839 -0.043108 -0.059 -0.303436 -0.174606 -0.216275 -0.183943   \n",
       "\n",
       "              6         7         8  ...        40        41        42  \\\n",
       "0      4.177802 -0.234671 -0.157548  ... -0.182154 -0.643787 -0.060128   \n",
       "1     -0.239360 -0.234671 -0.157548  ... -0.182154  1.553308 -0.060128   \n",
       "2     -0.239360 -0.234671 -0.157548  ... -0.182154 -0.643787 -0.060128   \n",
       "3     -0.239360 -0.234671 -0.157548  ... -0.182154 -0.643787 -0.060128   \n",
       "4     -0.239360 -0.234671 -0.157548  ... -0.182154 -0.643787 -0.060128   \n",
       "...         ...       ...       ...  ...       ...       ...       ...   \n",
       "13042 -0.239360 -0.234671 -0.157548  ... -0.182154 -0.643787 -0.060128   \n",
       "13043 -0.239360 -0.234671 -0.157548  ... -0.182154 -0.643787 -0.060128   \n",
       "13044 -0.239360 -0.234671 -0.157548  ... -0.182154 -0.643787 -0.060128   \n",
       "13045 -0.239360 -0.234671 -0.157548  ... -0.182154  1.553308 -0.060128   \n",
       "13046 -0.239360 -0.234671 -0.157548  ... -0.182154  1.553308 -0.060128   \n",
       "\n",
       "             43        44        45        46        47        48        49  \n",
       "0     -0.882046 -0.073445 -0.197749 -0.086547 -0.640858 -0.051115 -0.043816  \n",
       "1     -0.882046 -0.073445 -0.197749 -0.086547 -0.640858 -0.051115 -0.043816  \n",
       "2      1.133728 -0.073445 -0.197749 -0.086547 -0.370691 -0.051115 -0.043816  \n",
       "3      1.133728 -0.073445  5.056906 -0.086547  0.035576 -0.051115 -0.043816  \n",
       "4      1.133728 -0.073445 -0.197749 -0.086547  0.035576 -0.051115 -0.043816  \n",
       "...         ...       ...       ...       ...       ...       ...       ...  \n",
       "13042  1.133728 -0.073445 -0.197749 -0.086547  0.374132 -0.051115 -0.043816  \n",
       "13043  1.133728 -0.073445 -0.197749 -0.086547  0.035576 -0.051115 -0.043816  \n",
       "13044 -0.882046 -0.073445 -0.197749 -0.086547 -0.573824 -0.051115 -0.043816  \n",
       "13045  1.133728 -0.073445 -0.197749 -0.086547 -0.506113 -0.051115 -0.043816  \n",
       "13046 -0.882046 -0.073445 -0.197749 -0.086547 -0.302980 -0.051115 -0.043816  \n",
       "\n",
       "[13047 rows x 51 columns]"
      ],
      "text/html": "<div>\n<style scoped>\n    .dataframe tbody tr th:only-of-type {\n        vertical-align: middle;\n    }\n\n    .dataframe tbody tr th {\n        vertical-align: top;\n    }\n\n    .dataframe thead th {\n        text-align: right;\n    }\n</style>\n<table border=\"1\" class=\"dataframe\">\n  <thead>\n    <tr style=\"text-align: right;\">\n      <th></th>\n      <th>id</th>\n      <th>0</th>\n      <th>1</th>\n      <th>2</th>\n      <th>3</th>\n      <th>4</th>\n      <th>5</th>\n      <th>6</th>\n      <th>7</th>\n      <th>8</th>\n      <th>...</th>\n      <th>40</th>\n      <th>41</th>\n      <th>42</th>\n      <th>43</th>\n      <th>44</th>\n      <th>45</th>\n      <th>46</th>\n      <th>47</th>\n      <th>48</th>\n      <th>49</th>\n    </tr>\n  </thead>\n  <tbody>\n    <tr>\n      <th>0</th>\n      <td>3061</td>\n      <td>-0.043108</td>\n      <td>-0.059</td>\n      <td>-0.303436</td>\n      <td>5.727174</td>\n      <td>-0.216275</td>\n      <td>-0.183943</td>\n      <td>4.177802</td>\n      <td>-0.234671</td>\n      <td>-0.157548</td>\n      <td>...</td>\n      <td>-0.182154</td>\n      <td>-0.643787</td>\n      <td>-0.060128</td>\n      <td>-0.882046</td>\n      <td>-0.073445</td>\n      <td>-0.197749</td>\n      <td>-0.086547</td>\n      <td>-0.640858</td>\n      <td>-0.051115</td>\n      <td>-0.043816</td>\n    </tr>\n    <tr>\n      <th>1</th>\n      <td>2019</td>\n      <td>-0.043108</td>\n      <td>-0.059</td>\n      <td>-0.303436</td>\n      <td>5.727174</td>\n      <td>-0.216275</td>\n      <td>-0.183943</td>\n      <td>-0.239360</td>\n      <td>-0.234671</td>\n      <td>-0.157548</td>\n      <td>...</td>\n      <td>-0.182154</td>\n      <td>1.553308</td>\n      <td>-0.060128</td>\n      <td>-0.882046</td>\n      <td>-0.073445</td>\n      <td>-0.197749</td>\n      <td>-0.086547</td>\n      <td>-0.640858</td>\n      <td>-0.051115</td>\n      <td>-0.043816</td>\n    </tr>\n    <tr>\n      <th>2</th>\n      <td>10834</td>\n      <td>-0.043108</td>\n      <td>-0.059</td>\n      <td>-0.303436</td>\n      <td>-0.174606</td>\n      <td>-0.216275</td>\n      <td>-0.183943</td>\n      <td>-0.239360</td>\n      <td>-0.234671</td>\n      <td>-0.157548</td>\n      <td>...</td>\n      <td>-0.182154</td>\n      <td>-0.643787</td>\n      <td>-0.060128</td>\n      <td>1.133728</td>\n      <td>-0.073445</td>\n      <td>-0.197749</td>\n      <td>-0.086547</td>\n      <td>-0.370691</td>\n      <td>-0.051115</td>\n      <td>-0.043816</td>\n    </tr>\n    <tr>\n      <th>3</th>\n      <td>6827</td>\n      <td>-0.043108</td>\n      <td>-0.059</td>\n      <td>-0.303436</td>\n      <td>-0.174606</td>\n      <td>-0.216275</td>\n      <td>-0.183943</td>\n      <td>-0.239360</td>\n      <td>-0.234671</td>\n      <td>-0.157548</td>\n      <td>...</td>\n      <td>-0.182154</td>\n      <td>-0.643787</td>\n      <td>-0.060128</td>\n      <td>1.133728</td>\n      <td>-0.073445</td>\n      <td>5.056906</td>\n      <td>-0.086547</td>\n      <td>0.035576</td>\n      <td>-0.051115</td>\n      <td>-0.043816</td>\n    </tr>\n    <tr>\n      <th>4</th>\n      <td>3583</td>\n      <td>-0.043108</td>\n      <td>-0.059</td>\n      <td>-0.303436</td>\n      <td>-0.174606</td>\n      <td>-0.216275</td>\n      <td>-0.183943</td>\n      <td>-0.239360</td>\n      <td>-0.234671</td>\n      <td>-0.157548</td>\n      <td>...</td>\n      <td>-0.182154</td>\n      <td>-0.643787</td>\n      <td>-0.060128</td>\n      <td>1.133728</td>\n      <td>-0.073445</td>\n      <td>-0.197749</td>\n      <td>-0.086547</td>\n      <td>0.035576</td>\n      <td>-0.051115</td>\n      <td>-0.043816</td>\n    </tr>\n    <tr>\n      <th>...</th>\n      <td>...</td>\n      <td>...</td>\n      <td>...</td>\n      <td>...</td>\n      <td>...</td>\n      <td>...</td>\n      <td>...</td>\n      <td>...</td>\n      <td>...</td>\n      <td>...</td>\n      <td>...</td>\n      <td>...</td>\n      <td>...</td>\n      <td>...</td>\n      <td>...</td>\n      <td>...</td>\n      <td>...</td>\n      <td>...</td>\n      <td>...</td>\n      <td>...</td>\n      <td>...</td>\n    </tr>\n    <tr>\n      <th>13042</th>\n      <td>6392</td>\n      <td>-0.043108</td>\n      <td>-0.059</td>\n      <td>-0.303436</td>\n      <td>-0.174606</td>\n      <td>-0.216275</td>\n      <td>-0.183943</td>\n      <td>-0.239360</td>\n      <td>-0.234671</td>\n      <td>-0.157548</td>\n      <td>...</td>\n      <td>-0.182154</td>\n      <td>-0.643787</td>\n      <td>-0.060128</td>\n      <td>1.133728</td>\n      <td>-0.073445</td>\n      <td>-0.197749</td>\n      <td>-0.086547</td>\n      <td>0.374132</td>\n      <td>-0.051115</td>\n      <td>-0.043816</td>\n    </tr>\n    <tr>\n      <th>13043</th>\n      <td>2950</td>\n      <td>-0.043108</td>\n      <td>-0.059</td>\n      <td>-0.303436</td>\n      <td>-0.174606</td>\n      <td>-0.216275</td>\n      <td>-0.183943</td>\n      <td>-0.239360</td>\n      <td>-0.234671</td>\n      <td>-0.157548</td>\n      <td>...</td>\n      <td>-0.182154</td>\n      <td>-0.643787</td>\n      <td>-0.060128</td>\n      <td>1.133728</td>\n      <td>-0.073445</td>\n      <td>-0.197749</td>\n      <td>-0.086547</td>\n      <td>0.035576</td>\n      <td>-0.051115</td>\n      <td>-0.043816</td>\n    </tr>\n    <tr>\n      <th>13044</th>\n      <td>10483</td>\n      <td>-0.043108</td>\n      <td>-0.059</td>\n      <td>-0.303436</td>\n      <td>-0.174606</td>\n      <td>-0.216275</td>\n      <td>-0.183943</td>\n      <td>-0.239360</td>\n      <td>-0.234671</td>\n      <td>-0.157548</td>\n      <td>...</td>\n      <td>-0.182154</td>\n      <td>-0.643787</td>\n      <td>-0.060128</td>\n      <td>-0.882046</td>\n      <td>-0.073445</td>\n      <td>-0.197749</td>\n      <td>-0.086547</td>\n      <td>-0.573824</td>\n      <td>-0.051115</td>\n      <td>-0.043816</td>\n    </tr>\n    <tr>\n      <th>13045</th>\n      <td>9334</td>\n      <td>-0.043108</td>\n      <td>-0.059</td>\n      <td>-0.303436</td>\n      <td>-0.174606</td>\n      <td>-0.216275</td>\n      <td>-0.183943</td>\n      <td>-0.239360</td>\n      <td>-0.234671</td>\n      <td>-0.157548</td>\n      <td>...</td>\n      <td>-0.182154</td>\n      <td>1.553308</td>\n      <td>-0.060128</td>\n      <td>1.133728</td>\n      <td>-0.073445</td>\n      <td>-0.197749</td>\n      <td>-0.086547</td>\n      <td>-0.506113</td>\n      <td>-0.051115</td>\n      <td>-0.043816</td>\n    </tr>\n    <tr>\n      <th>13046</th>\n      <td>2839</td>\n      <td>-0.043108</td>\n      <td>-0.059</td>\n      <td>-0.303436</td>\n      <td>-0.174606</td>\n      <td>-0.216275</td>\n      <td>-0.183943</td>\n      <td>-0.239360</td>\n      <td>-0.234671</td>\n      <td>-0.157548</td>\n      <td>...</td>\n      <td>-0.182154</td>\n      <td>1.553308</td>\n      <td>-0.060128</td>\n      <td>-0.882046</td>\n      <td>-0.073445</td>\n      <td>-0.197749</td>\n      <td>-0.086547</td>\n      <td>-0.302980</td>\n      <td>-0.051115</td>\n      <td>-0.043816</td>\n    </tr>\n  </tbody>\n</table>\n<p>13047 rows × 51 columns</p>\n</div>"
     },
     "metadata": {},
     "execution_count": 37
    }
   ],
   "source": [
    "fagg_df"
   ]
  },
  {
   "cell_type": "code",
   "execution_count": null,
   "metadata": {},
   "outputs": [],
   "source": []
  }
 ]
}