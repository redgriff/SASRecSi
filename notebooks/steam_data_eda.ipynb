{
 "metadata": {
  "language_info": {
   "codemirror_mode": {
    "name": "ipython",
    "version": 3
   },
   "file_extension": ".py",
   "mimetype": "text/x-python",
   "name": "python",
   "nbconvert_exporter": "python",
   "pygments_lexer": "ipython3",
   "version": "3.8.6"
  },
  "orig_nbformat": 2,
  "kernelspec": {
   "name": "pythonjvsc74a57bd0ad516e87f2bc7c4df4a02affd8606061aa29ba892847ba64989b0b9bc6aeaef8",
   "display_name": "Python 3.8.6 64-bit ('.venv_sas_rec': venv)"
  },
  "metadata": {
   "interpreter": {
    "hash": "ad516e87f2bc7c4df4a02affd8606061aa29ba892847ba64989b0b9bc6aeaef8"
   }
  }
 },
 "nbformat": 4,
 "nbformat_minor": 2,
 "cells": [
  {
   "cell_type": "code",
   "execution_count": null,
   "metadata": {},
   "outputs": [],
   "source": [
    "!pip install dabl"
   ]
  },
  {
   "cell_type": "code",
   "execution_count": 104,
   "metadata": {},
   "outputs": [],
   "source": [
    "import os\n",
    "import json\n",
    "import ast\n",
    "import dabl\n",
    "import math\n",
    "import pandas as pd"
   ]
  },
  {
   "cell_type": "code",
   "execution_count": 105,
   "metadata": {},
   "outputs": [
    {
     "output_type": "execute_result",
     "data": {
      "text/plain": [
       "'e:\\\\Workspaces\\\\SASRec.pytorch\\\\notebooks'"
      ]
     },
     "metadata": {},
     "execution_count": 105
    }
   ],
   "source": [
    "os.getcwd()\n"
   ]
  },
  {
   "cell_type": "code",
   "execution_count": 106,
   "metadata": {},
   "outputs": [],
   "source": [
    "ROOT_DIR = os.path.join(os.getcwd(), \"..\", \"data\", \"steam\")"
   ]
  },
  {
   "cell_type": "code",
   "execution_count": 107,
   "metadata": {},
   "outputs": [
    {
     "output_type": "execute_result",
     "data": {
      "text/plain": [
       "'e:\\\\Workspaces\\\\SASRec.pytorch\\\\notebooks\\\\..\\\\data\\\\steam'"
      ]
     },
     "metadata": {},
     "execution_count": 107
    }
   ],
   "source": [
    "ROOT_DIR"
   ]
  },
  {
   "cell_type": "code",
   "execution_count": 108,
   "metadata": {},
   "outputs": [
    {
     "output_type": "execute_result",
     "data": {
      "text/plain": [
       "True"
      ]
     },
     "metadata": {},
     "execution_count": 108
    }
   ],
   "source": [
    "os.path.exists(os.path.join(ROOT_DIR, \"steam_games.json\"))"
   ]
  },
  {
   "cell_type": "code",
   "execution_count": 109,
   "metadata": {},
   "outputs": [],
   "source": [
    "with open(os.path.join(ROOT_DIR, \"steam_games.json\")) as json_file:\n",
    "    lines = json_file.read().splitlines()\n",
    "records = [ast.literal_eval(line) for line in lines]"
   ]
  },
  {
   "cell_type": "code",
   "execution_count": 110,
   "metadata": {},
   "outputs": [],
   "source": [
    "raw_df = pd.DataFrame(records)"
   ]
  },
  {
   "cell_type": "code",
   "execution_count": 111,
   "metadata": {},
   "outputs": [
    {
     "output_type": "stream",
     "name": "stdout",
     "text": [
      "<class 'pandas.core.frame.DataFrame'>\nRangeIndex: 32135 entries, 0 to 32134\nData columns (total 16 columns):\n #   Column          Non-Null Count  Dtype  \n---  ------          --------------  -----  \n 0   publisher       24083 non-null  object \n 1   genres          28852 non-null  object \n 2   app_name        32133 non-null  object \n 3   title           30085 non-null  object \n 4   url             32135 non-null  object \n 5   release_date    30068 non-null  object \n 6   tags            31972 non-null  object \n 7   discount_price  225 non-null    float64\n 8   reviews_url     32133 non-null  object \n 9   specs           31465 non-null  object \n 10  price           30758 non-null  object \n 11  early_access    32135 non-null  bool   \n 12  id              32133 non-null  object \n 13  developer       28836 non-null  object \n 14  sentiment       24953 non-null  object \n 15  metascore       2677 non-null   object \ndtypes: bool(1), float64(1), object(14)\nmemory usage: 3.7+ MB\n"
     ]
    }
   ],
   "source": [
    "raw_df.info()"
   ]
  },
  {
   "cell_type": "code",
   "execution_count": 180,
   "metadata": {},
   "outputs": [],
   "source": [
    "df = raw_df[['id', 'sentiment', 'genres', 'specs', 'price', 'early_access']]"
   ]
  },
  {
   "cell_type": "code",
   "execution_count": 181,
   "metadata": {},
   "outputs": [
    {
     "output_type": "stream",
     "name": "stderr",
     "text": [
      "<ipython-input-181-261ac1949ad6>:15: SettingWithCopyWarning: \nA value is trying to be set on a copy of a slice from a DataFrame.\nTry using .loc[row_indexer,col_indexer] = value instead\n\nSee the caveats in the documentation: https://pandas.pydata.org/pandas-docs/stable/user_guide/indexing.html#returning-a-view-versus-a-copy\n  df['sentiment'] = df['sentiment'].fillna('Unknown')\n<ipython-input-181-261ac1949ad6>:16: SettingWithCopyWarning: \nA value is trying to be set on a copy of a slice from a DataFrame.\nTry using .loc[row_indexer,col_indexer] = value instead\n\nSee the caveats in the documentation: https://pandas.pydata.org/pandas-docs/stable/user_guide/indexing.html#returning-a-view-versus-a-copy\n  df['sentiment'] = df['sentiment'].apply(lambda x: x if x in sentiments else 'Unknown')\n<ipython-input-181-261ac1949ad6>:17: SettingWithCopyWarning: \nA value is trying to be set on a copy of a slice from a DataFrame.\nTry using .loc[row_indexer,col_indexer] = value instead\n\nSee the caveats in the documentation: https://pandas.pydata.org/pandas-docs/stable/user_guide/indexing.html#returning-a-view-versus-a-copy\n  df['sentiment'] = df['sentiment'].apply(lambda x: sentiments_dict[x])\n<ipython-input-181-261ac1949ad6>:18: SettingWithCopyWarning: \nA value is trying to be set on a copy of a slice from a DataFrame.\nTry using .loc[row_indexer,col_indexer] = value instead\n\nSee the caveats in the documentation: https://pandas.pydata.org/pandas-docs/stable/user_guide/indexing.html#returning-a-view-versus-a-copy\n  df['sentiment'] = df['sentiment'].astype(int)\n"
     ]
    }
   ],
   "source": [
    "#fix sentiment\n",
    "sentiments = ['Unknown', 'Overwhelmingly Negative', \"Very Negative\", \"Negative\", \"Mostly Negative\", \"Mixed\", \"Mostly Positive\", \"Positive\" , \"Very Positive\" ,\"Overwhelmingly Positive\"]\n",
    "sentiments_dict = {\n",
    "    'Unknown': -1,\n",
    "    'Overwhelmingly Negative': 0,\n",
    "    'Very Negative': 1,\n",
    "    'Negative': 2,\n",
    "    'Mostly Negative': 3,\n",
    "    'Mixed': 4,\n",
    "    'Mostly Positive': 5,\n",
    "    'Positive': 6,\n",
    "    'Very Positive': 7,\n",
    "    'Overwhelmingly Positive': 8,\n",
    "}\n",
    "df['sentiment'] = df['sentiment'].fillna('Unknown')\n",
    "df['sentiment'] = df['sentiment'].apply(lambda x: x if x in sentiments else 'Unknown')\n",
    "df['sentiment'] = df['sentiment'].apply(lambda x: sentiments_dict[x])\n",
    "df['sentiment'] = df['sentiment'].astype(int)"
   ]
  },
  {
   "cell_type": "code",
   "execution_count": 182,
   "metadata": {},
   "outputs": [
    {
     "output_type": "stream",
     "name": "stdout",
     "text": [
      "22\n",
      "<ipython-input-182-7c76aea05057>:14: SettingWithCopyWarning: \n",
      "A value is trying to be set on a copy of a slice from a DataFrame.\n",
      "Try using .loc[row_indexer,col_indexer] = value instead\n",
      "\n",
      "See the caveats in the documentation: https://pandas.pydata.org/pandas-docs/stable/user_guide/indexing.html#returning-a-view-versus-a-copy\n",
      "  df[f'genre_{genre}'] = df['genres'].apply(lambda x: is_in_genere(genre=genre, x=x))\n"
     ]
    }
   ],
   "source": [
    "#fix genres\n",
    "genres = set()\n",
    "for item in list(raw_df[\"genres\"].dropna()):        \n",
    "    genres = genres | set(item)\n",
    "print(len(genres))\n",
    "\n",
    "def is_in_genere(genre, x):\n",
    "    try:\n",
    "        return True if genre in x else False\n",
    "    except:\n",
    "        return False\n",
    "\n",
    "for genre in genres:\n",
    "    df[f'genre_{genre}'] = df['genres'].apply(lambda x: is_in_genere(genre=genre, x=x))\n",
    "\n",
    "df.drop(columns=['genres'],inplace=True)"
   ]
  },
  {
   "cell_type": "code",
   "execution_count": 183,
   "metadata": {},
   "outputs": [
    {
     "output_type": "stream",
     "name": "stdout",
     "text": [
      "40\n"
     ]
    }
   ],
   "source": [
    "#fix specs\n",
    "specs = set()\n",
    "for item in list(raw_df[\"specs\"].dropna()):        \n",
    "    specs = specs | set(item)\n",
    "print(len(specs))\n",
    "\n",
    "def is_in_spec(spec, x):\n",
    "    try:\n",
    "        return True if spec in x else False\n",
    "    except:\n",
    "        return False\n",
    "\n",
    "for spec in specs:\n",
    "    df[f'spec_{spec}'] = df['specs'].apply(lambda x: is_in_spec(spec, x))\n",
    "\n",
    "df.drop(columns=['specs'],inplace=True)"
   ]
  },
  {
   "cell_type": "code",
   "execution_count": 184,
   "metadata": {},
   "outputs": [],
   "source": [
    "#fix price\n",
    "strange_prices = ['Free to Play', 'nan','Free','Free Demo', 'Play for Free!', 'Install Now', 'Play WARMACHINE: Tactics Demo', 'Free Mod', 'Install Theme', 'Third-party', 'Play Now', 'Free HITMAN™ Holiday Pack', 'Play the Demo', 'Starting at $499.00', 'Starting at $449.00', 'Free to Try', 'Free Movie', 'Free to Use']\n",
    "free_prices = ['Free to Play', 'Free', 'Free Demo', 'Play for Free!', 'Install Now', 'Play WARMACHINE: Tactics Demo', 'Free Mod', 'Install Theme', 'Play Now', 'Free HITMAN™ Holiday Pack', 'Play the Demo', 'Free to Try', 'Free Movie', 'Free to Use']\n",
    "df['price'] = df['price'].apply(lambda x: 0 if x in free_prices else x)\n",
    "df['price'] = df['price'].apply(lambda x: 0 if x == 'Third-party' else x)\n",
    "df['price'] = df['price'].apply(lambda x: 499.0 if x == 'Starting at $499.00' else x)\n",
    "df['price'] = df['price'].apply(lambda x: 449.0 if x == 'Starting at $449.00' else x)"
   ]
  },
  {
   "cell_type": "code",
   "execution_count": 185,
   "metadata": {},
   "outputs": [
    {
     "output_type": "stream",
     "name": "stdout",
     "text": [
      "                                 continuous  dirty_float  low_card_int  \\\nid                                     True        False         False   \nsentiment                             False        False          True   \nprice                                 False         True         False   \nearly_access                          False        False         False   \ngenre_Adventure                       False        False         False   \n...                                     ...          ...           ...   \nspec_Includes level editor            False        False         False   \nspec_Single-player                    False        False         False   \nspec_Partial Controller Support       False        False         False   \nspec_Standing                         False        False         False   \nspec_Oculus Rift                      False        False         False   \n\n                                 categorical   date  free_string  useless  \nid                                     False  False        False    False  \nsentiment                              False  False        False    False  \nprice                                  False  False        False    False  \nearly_access                            True  False        False    False  \ngenre_Adventure                         True  False        False    False  \n...                                      ...    ...          ...      ...  \nspec_Includes level editor             False  False        False     True  \nspec_Single-player                      True  False        False    False  \nspec_Partial Controller Support         True  False        False    False  \nspec_Standing                          False  False        False     True  \nspec_Oculus Rift                       False  False        False     True  \n\n[66 rows x 7 columns]\n"
     ]
    }
   ],
   "source": [
    "types = dabl.detect_types(df)\n",
    "print(types) "
   ]
  },
  {
   "cell_type": "code",
   "execution_count": 187,
   "metadata": {},
   "outputs": [],
   "source": [
    "df.to_csv(os.path.join(ROOT_DIR, \"steam_games.csv\"), index=False)"
   ]
  },
  {
   "cell_type": "code",
   "execution_count": null,
   "metadata": {},
   "outputs": [],
   "source": []
  }
 ]
}