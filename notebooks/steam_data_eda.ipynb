{
 "metadata": {
  "language_info": {
   "codemirror_mode": {
    "name": "ipython",
    "version": 3
   },
   "file_extension": ".py",
   "mimetype": "text/x-python",
   "name": "python",
   "nbconvert_exporter": "python",
   "pygments_lexer": "ipython3",
   "version": "3.8.6"
  },
  "orig_nbformat": 2,
  "kernelspec": {
   "name": "pythonjvsc74a57bd0ad516e87f2bc7c4df4a02affd8606061aa29ba892847ba64989b0b9bc6aeaef8",
   "display_name": "Python 3.8.6  ('.venv_sas_rec': venv)"
  },
  "metadata": {
   "interpreter": {
    "hash": "ad516e87f2bc7c4df4a02affd8606061aa29ba892847ba64989b0b9bc6aeaef8"
   }
  }
 },
 "nbformat": 4,
 "nbformat_minor": 2,
 "cells": [
  {
   "cell_type": "code",
   "execution_count": 79,
   "metadata": {},
   "outputs": [],
   "source": [
    "import os\n",
    "import json\n",
    "import ast\n",
    "import math\n",
    "import pandas as pd\n",
    "import gzip\n",
    "import pickle as pkl\n",
    "from collections import defaultdict\n",
    "from datetime import datetime"
   ]
  },
  {
   "cell_type": "code",
   "execution_count": 80,
   "metadata": {},
   "outputs": [
    {
     "output_type": "execute_result",
     "data": {
      "text/plain": [
       "'e:\\\\Workspaces\\\\SASRec.pytorch\\\\notebooks'"
      ]
     },
     "metadata": {},
     "execution_count": 80
    }
   ],
   "source": [
    "os.getcwd()"
   ]
  },
  {
   "cell_type": "code",
   "execution_count": 81,
   "metadata": {},
   "outputs": [],
   "source": [
    "ROOT_DIR = os.path.join(os.getcwd(), \"..\", \"data\", \"Steam\")"
   ]
  },
  {
   "cell_type": "code",
   "execution_count": 82,
   "metadata": {},
   "outputs": [
    {
     "output_type": "execute_result",
     "data": {
      "text/plain": [
       "'e:\\\\Workspaces\\\\SASRec.pytorch\\\\notebooks\\\\..\\\\data\\\\Steam'"
      ]
     },
     "metadata": {},
     "execution_count": 82
    }
   ],
   "source": [
    "ROOT_DIR"
   ]
  },
  {
   "cell_type": "code",
   "execution_count": 83,
   "metadata": {},
   "outputs": [],
   "source": [
    "# def parse(g):\n",
    "#     for l in g:\n",
    "#         yield eval(l)\n",
    "\n",
    "\n",
    "# countU = defaultdict(lambda: 0)\n",
    "# countP = defaultdict(lambda: 0)\n",
    "# line = 0\n",
    "\n",
    "# dataset_name = \"Steam\"\n",
    "# json_file_path = os.path.join(ROOT_DIR, f\"reviews_{dataset_name}.json.gz\")\n",
    "\n",
    "# with gzip.open(json_file_path, \"r\") as g:\n",
    "#     line = 0\n",
    "#     for l in parse(g):\n",
    "#         line += 1\n",
    "#         if line % 100000 == 0:\n",
    "#             print(line)\n",
    "\n",
    "#         product_id = int(l[\"product_id\"])\n",
    "#         username = l[\"username\"]\n",
    "#         time = datetime.strptime(l[\"date\"], \"%Y-%m-%d\")\n",
    "#         countU[username] += 1\n",
    "#         countP[product_id] += 1"
   ]
  },
  {
   "cell_type": "code",
   "execution_count": 84,
   "metadata": {},
   "outputs": [],
   "source": [
    "# keys = set(countP.keys())\n",
    "# ids = set(df['id'].unique())"
   ]
  },
  {
   "cell_type": "code",
   "execution_count": 85,
   "metadata": {},
   "outputs": [],
   "source": [
    "# df[df['id']==340]"
   ]
  },
  {
   "cell_type": "code",
   "execution_count": 86,
   "metadata": {},
   "outputs": [],
   "source": [
    "# keys - ids"
   ]
  },
  {
   "cell_type": "code",
   "execution_count": 87,
   "metadata": {},
   "outputs": [],
   "source": [
    "with open(os.path.join(ROOT_DIR, \"steam_games.json\")) as json_file:\n",
    "    lines = json_file.read().splitlines()\n",
    "records = [ast.literal_eval(line) for line in lines]\n",
    "\n",
    "raw_df = pd.DataFrame(records)"
   ]
  },
  {
   "cell_type": "code",
   "execution_count": 88,
   "metadata": {},
   "outputs": [
    {
     "output_type": "stream",
     "name": "stdout",
     "text": [
      "<class 'pandas.core.frame.DataFrame'>\nRangeIndex: 32135 entries, 0 to 32134\nData columns (total 16 columns):\n #   Column          Non-Null Count  Dtype  \n---  ------          --------------  -----  \n 0   publisher       24083 non-null  object \n 1   genres          28852 non-null  object \n 2   app_name        32133 non-null  object \n 3   title           30085 non-null  object \n 4   url             32135 non-null  object \n 5   release_date    30068 non-null  object \n 6   tags            31972 non-null  object \n 7   discount_price  225 non-null    float64\n 8   reviews_url     32133 non-null  object \n 9   specs           31465 non-null  object \n 10  price           30758 non-null  object \n 11  early_access    32135 non-null  bool   \n 12  id              32133 non-null  object \n 13  developer       28836 non-null  object \n 14  sentiment       24953 non-null  object \n 15  metascore       2677 non-null   object \ndtypes: bool(1), float64(1), object(14)\nmemory usage: 3.7+ MB\n"
     ]
    }
   ],
   "source": [
    "raw_df.info()"
   ]
  },
  {
   "cell_type": "code",
   "execution_count": 92,
   "metadata": {},
   "outputs": [],
   "source": [
    "df = raw_df[['id', 'sentiment', 'genres', 'specs', 'price', 'early_access']]"
   ]
  },
  {
   "cell_type": "code",
   "execution_count": 93,
   "metadata": {},
   "outputs": [
    {
     "output_type": "stream",
     "name": "stdout",
     "text": [
      "13047\n",
      "<ipython-input-93-9604afbdf72d>:2: SettingWithCopyWarning: \n",
      "A value is trying to be set on a copy of a slice from a DataFrame\n",
      "\n",
      "See the caveats in the documentation: https://pandas.pydata.org/pandas-docs/stable/user_guide/indexing.html#returning-a-view-versus-a-copy\n",
      "  df.dropna(subset = ['id'], inplace=True)\n",
      "<ipython-input-93-9604afbdf72d>:3: SettingWithCopyWarning: \n",
      "A value is trying to be set on a copy of a slice from a DataFrame.\n",
      "Try using .loc[row_indexer,col_indexer] = value instead\n",
      "\n",
      "See the caveats in the documentation: https://pandas.pydata.org/pandas-docs/stable/user_guide/indexing.html#returning-a-view-versus-a-copy\n",
      "  df['id'] = df['id'].astype(int)\n",
      "<ipython-input-93-9604afbdf72d>:9: SettingWithCopyWarning: \n",
      "A value is trying to be set on a copy of a slice from a DataFrame.\n",
      "Try using .loc[row_indexer,col_indexer] = value instead\n",
      "\n",
      "See the caveats in the documentation: https://pandas.pydata.org/pandas-docs/stable/user_guide/indexing.html#returning-a-view-versus-a-copy\n",
      "  df['id'] = df['id'].apply(lambda x: itemmap[x] if x in  itemmap else None)\n",
      "<ipython-input-93-9604afbdf72d>:10: SettingWithCopyWarning: \n",
      "A value is trying to be set on a copy of a slice from a DataFrame\n",
      "\n",
      "See the caveats in the documentation: https://pandas.pydata.org/pandas-docs/stable/user_guide/indexing.html#returning-a-view-versus-a-copy\n",
      "  df.dropna(subset = ['id'], inplace=True)\n"
     ]
    }
   ],
   "source": [
    "#fix id\n",
    "df.dropna(subset = ['id'], inplace=True)\n",
    "df['id'] = df['id'].astype(int)\n",
    "\n",
    "itemmap = {}\n",
    "with open(os.path.join(ROOT_DIR, \"itemmap.pkl\"), 'rb') as f:\n",
    "    itemmap = pkl.load(f)\n",
    "\n",
    "df['id'] = df['id'].apply(lambda x: itemmap[x] if x in  itemmap else None)\n",
    "df.dropna(subset = ['id'], inplace=True)\n",
    "df = df.drop_duplicates(subset=['id'])\n",
    "\n",
    "df['id'] = df['id'].astype(int)\n",
    "df = df.reset_index()\n",
    "print(len(df))"
   ]
  },
  {
   "cell_type": "code",
   "execution_count": 94,
   "metadata": {},
   "outputs": [
    {
     "output_type": "execute_result",
     "data": {
      "text/plain": [
       "       index     id                sentiment  \\\n",
       "0          1   3061          Mostly Positive   \n",
       "1          2   2019          Mostly Positive   \n",
       "2          5  10834                    Mixed   \n",
       "3         27   6827            Very Positive   \n",
       "4         28   3583  Overwhelmingly Positive   \n",
       "...      ...    ...                      ...   \n",
       "13042  32116   6392  Overwhelmingly Positive   \n",
       "13043  32117   2950            Very Positive   \n",
       "13044  32124  10483           4 user reviews   \n",
       "13045  32129   9334           2 user reviews   \n",
       "13046  32133   2839           1 user reviews   \n",
       "\n",
       "                                                  genres  \\\n",
       "0                   [Free to Play, Indie, RPG, Strategy]   \n",
       "1      [Casual, Free to Play, Indie, Simulation, Sports]   \n",
       "2                        [Action, Adventure, Simulation]   \n",
       "3                                [Action, Indie, Racing]   \n",
       "4                                               [Action]   \n",
       "...                                                  ...   \n",
       "13042                                           [Action]   \n",
       "13043                                           [Action]   \n",
       "13044                                 [Adventure, Indie]   \n",
       "13045                 [Action, Adventure, Casual, Indie]   \n",
       "13046                                    [Casual, Indie]   \n",
       "\n",
       "                                                   specs         price  \\\n",
       "0      [Single-player, Multi-player, Online Multi-Pla...  Free To Play   \n",
       "1      [Single-player, Multi-player, Online Multi-Pla...  Free to Play   \n",
       "2                    [Single-player, Steam Achievements]          3.99   \n",
       "3      [Single-player, Multi-player, Steam Trading Ca...          9.99   \n",
       "4      [Single-player, Multi-player, Valve Anti-Cheat...          9.99   \n",
       "...                                                  ...           ...   \n",
       "13042  [Single-player, Multi-player, Steam Trading Ca...         14.99   \n",
       "13043  [Single-player, Multi-player, Valve Anti-Cheat...          9.99   \n",
       "13044                [Single-player, Steam Achievements]          0.99   \n",
       "13045   [Single-player, Steam Achievements, Steam Cloud]          1.99   \n",
       "13046   [Single-player, Steam Achievements, Steam Cloud]          4.99   \n",
       "\n",
       "       early_access  \n",
       "0             False  \n",
       "1             False  \n",
       "2             False  \n",
       "3             False  \n",
       "4             False  \n",
       "...             ...  \n",
       "13042         False  \n",
       "13043         False  \n",
       "13044         False  \n",
       "13045         False  \n",
       "13046         False  \n",
       "\n",
       "[13047 rows x 7 columns]"
      ],
      "text/html": "<div>\n<style scoped>\n    .dataframe tbody tr th:only-of-type {\n        vertical-align: middle;\n    }\n\n    .dataframe tbody tr th {\n        vertical-align: top;\n    }\n\n    .dataframe thead th {\n        text-align: right;\n    }\n</style>\n<table border=\"1\" class=\"dataframe\">\n  <thead>\n    <tr style=\"text-align: right;\">\n      <th></th>\n      <th>index</th>\n      <th>id</th>\n      <th>sentiment</th>\n      <th>genres</th>\n      <th>specs</th>\n      <th>price</th>\n      <th>early_access</th>\n    </tr>\n  </thead>\n  <tbody>\n    <tr>\n      <th>0</th>\n      <td>1</td>\n      <td>3061</td>\n      <td>Mostly Positive</td>\n      <td>[Free to Play, Indie, RPG, Strategy]</td>\n      <td>[Single-player, Multi-player, Online Multi-Pla...</td>\n      <td>Free To Play</td>\n      <td>False</td>\n    </tr>\n    <tr>\n      <th>1</th>\n      <td>2</td>\n      <td>2019</td>\n      <td>Mostly Positive</td>\n      <td>[Casual, Free to Play, Indie, Simulation, Sports]</td>\n      <td>[Single-player, Multi-player, Online Multi-Pla...</td>\n      <td>Free to Play</td>\n      <td>False</td>\n    </tr>\n    <tr>\n      <th>2</th>\n      <td>5</td>\n      <td>10834</td>\n      <td>Mixed</td>\n      <td>[Action, Adventure, Simulation]</td>\n      <td>[Single-player, Steam Achievements]</td>\n      <td>3.99</td>\n      <td>False</td>\n    </tr>\n    <tr>\n      <th>3</th>\n      <td>27</td>\n      <td>6827</td>\n      <td>Very Positive</td>\n      <td>[Action, Indie, Racing]</td>\n      <td>[Single-player, Multi-player, Steam Trading Ca...</td>\n      <td>9.99</td>\n      <td>False</td>\n    </tr>\n    <tr>\n      <th>4</th>\n      <td>28</td>\n      <td>3583</td>\n      <td>Overwhelmingly Positive</td>\n      <td>[Action]</td>\n      <td>[Single-player, Multi-player, Valve Anti-Cheat...</td>\n      <td>9.99</td>\n      <td>False</td>\n    </tr>\n    <tr>\n      <th>...</th>\n      <td>...</td>\n      <td>...</td>\n      <td>...</td>\n      <td>...</td>\n      <td>...</td>\n      <td>...</td>\n      <td>...</td>\n    </tr>\n    <tr>\n      <th>13042</th>\n      <td>32116</td>\n      <td>6392</td>\n      <td>Overwhelmingly Positive</td>\n      <td>[Action]</td>\n      <td>[Single-player, Multi-player, Steam Trading Ca...</td>\n      <td>14.99</td>\n      <td>False</td>\n    </tr>\n    <tr>\n      <th>13043</th>\n      <td>32117</td>\n      <td>2950</td>\n      <td>Very Positive</td>\n      <td>[Action]</td>\n      <td>[Single-player, Multi-player, Valve Anti-Cheat...</td>\n      <td>9.99</td>\n      <td>False</td>\n    </tr>\n    <tr>\n      <th>13044</th>\n      <td>32124</td>\n      <td>10483</td>\n      <td>4 user reviews</td>\n      <td>[Adventure, Indie]</td>\n      <td>[Single-player, Steam Achievements]</td>\n      <td>0.99</td>\n      <td>False</td>\n    </tr>\n    <tr>\n      <th>13045</th>\n      <td>32129</td>\n      <td>9334</td>\n      <td>2 user reviews</td>\n      <td>[Action, Adventure, Casual, Indie]</td>\n      <td>[Single-player, Steam Achievements, Steam Cloud]</td>\n      <td>1.99</td>\n      <td>False</td>\n    </tr>\n    <tr>\n      <th>13046</th>\n      <td>32133</td>\n      <td>2839</td>\n      <td>1 user reviews</td>\n      <td>[Casual, Indie]</td>\n      <td>[Single-player, Steam Achievements, Steam Cloud]</td>\n      <td>4.99</td>\n      <td>False</td>\n    </tr>\n  </tbody>\n</table>\n<p>13047 rows × 7 columns</p>\n</div>"
     },
     "metadata": {},
     "execution_count": 94
    }
   ],
   "source": [
    "df"
   ]
  },
  {
   "cell_type": "code",
   "execution_count": 95,
   "metadata": {},
   "outputs": [],
   "source": [
    "#fix sentiment\n",
    "sentiments = ['Unknown', 'Overwhelmingly Negative', \"Very Negative\", \"Negative\", \"Mostly Negative\", \"Mixed\", \"Mostly Positive\", \"Positive\" , \"Very Positive\" ,\"Overwhelmingly Positive\"]\n",
    "sentiments_dict = {\n",
    "    'Unknown': -1,\n",
    "    'Overwhelmingly Negative': 0,\n",
    "    'Very Negative': 1,\n",
    "    'Negative': 2,\n",
    "    'Mostly Negative': 3,\n",
    "    'Mixed': 4,\n",
    "    'Mostly Positive': 5,\n",
    "    'Positive': 6,\n",
    "    'Very Positive': 7,\n",
    "    'Overwhelmingly Positive': 8,\n",
    "}\n",
    "df['sentiment'] = df['sentiment'].fillna('Unknown')\n",
    "df['sentiment'] = df['sentiment'].apply(lambda x: x if x in sentiments else 'Unknown')\n",
    "df['sentiment'] = df['sentiment'].apply(lambda x: sentiments_dict[x])\n",
    "df['sentiment'] = df['sentiment'].astype(int)"
   ]
  },
  {
   "cell_type": "code",
   "execution_count": 96,
   "metadata": {},
   "outputs": [
    {
     "output_type": "stream",
     "name": "stdout",
     "text": [
      "22\n"
     ]
    }
   ],
   "source": [
    "#fix genres\n",
    "genres = set()\n",
    "for item in list(raw_df[\"genres\"].dropna()):        \n",
    "    genres = genres | set(item)\n",
    "print(len(genres))\n",
    "\n",
    "def is_in_genere(genre, x):\n",
    "    try:\n",
    "        return 1 if genre in x else 0\n",
    "    except:\n",
    "        return 0\n",
    "\n",
    "for genre in genres:\n",
    "    df[f'genre_{genre}'] = df['genres'].apply(lambda x: is_in_genere(genre=genre, x=x))\n",
    "\n",
    "df.drop(columns=['genres'],inplace=True)"
   ]
  },
  {
   "cell_type": "code",
   "execution_count": 97,
   "metadata": {},
   "outputs": [
    {
     "output_type": "stream",
     "name": "stdout",
     "text": [
      "40\n"
     ]
    }
   ],
   "source": [
    "#fix specs\n",
    "specs = set()\n",
    "for item in list(raw_df[\"specs\"].dropna()):        \n",
    "    specs = specs | set(item)\n",
    "print(len(specs))\n",
    "\n",
    "def is_in_spec(spec, x):\n",
    "    try:\n",
    "        return 1 if spec in x else 0\n",
    "    except:\n",
    "        return 0\n",
    "\n",
    "for spec in specs:\n",
    "    df[f'spec_{spec}'] = df['specs'].apply(lambda x: is_in_spec(spec, x))\n",
    "\n",
    "df.drop(columns=['specs'],inplace=True)"
   ]
  },
  {
   "cell_type": "code",
   "execution_count": 98,
   "metadata": {},
   "outputs": [
    {
     "output_type": "execute_result",
     "data": {
      "text/plain": [
       "       index     id  sentiment         price  early_access  genre_Sports  \\\n",
       "0          1   3061          5  Free To Play         False             0   \n",
       "1          2   2019          5  Free to Play         False             1   \n",
       "2          5  10834          4          3.99         False             0   \n",
       "3         27   6827          7          9.99         False             0   \n",
       "4         28   3583          8          9.99         False             0   \n",
       "...      ...    ...        ...           ...           ...           ...   \n",
       "13042  32116   6392          8         14.99         False             0   \n",
       "13043  32117   2950          7          9.99         False             0   \n",
       "13044  32124  10483         -1          0.99         False             0   \n",
       "13045  32129   9334         -1          1.99         False             0   \n",
       "13046  32133   2839         -1          4.99         False             0   \n",
       "\n",
       "       genre_Simulation  genre_Early Access  genre_Video Production  \\\n",
       "0                     0                   0                       0   \n",
       "1                     1                   0                       0   \n",
       "2                     1                   0                       0   \n",
       "3                     0                   0                       0   \n",
       "4                     0                   0                       0   \n",
       "...                 ...                 ...                     ...   \n",
       "13042                 0                   0                       0   \n",
       "13043                 0                   0                       0   \n",
       "13044                 0                   0                       0   \n",
       "13045                 0                   0                       0   \n",
       "13046                 0                   0                       0   \n",
       "\n",
       "       genre_Software Training  ...  spec_Valve Anti-Cheat enabled  \\\n",
       "0                            0  ...                              0   \n",
       "1                            0  ...                              0   \n",
       "2                            0  ...                              0   \n",
       "3                            0  ...                              0   \n",
       "4                            0  ...                              1   \n",
       "...                        ...  ...                            ...   \n",
       "13042                        0  ...                              0   \n",
       "13043                        0  ...                              1   \n",
       "13044                        0  ...                              0   \n",
       "13045                        0  ...                              0   \n",
       "13046                        0  ...                              0   \n",
       "\n",
       "       spec_Captions available  spec_Steam Achievements  spec_Steam Cloud  \\\n",
       "0                            0                        1                 0   \n",
       "1                            0                        0                 0   \n",
       "2                            0                        1                 0   \n",
       "3                            0                        0                 0   \n",
       "4                            0                        0                 0   \n",
       "...                        ...                      ...               ...   \n",
       "13042                        0                        0                 0   \n",
       "13043                        0                        0                 0   \n",
       "13044                        0                        1                 0   \n",
       "13045                        0                        1                 1   \n",
       "13046                        0                        1                 1   \n",
       "\n",
       "       spec_Cross-Platform Multiplayer  spec_Online Co-op  \\\n",
       "0                                    1                  0   \n",
       "1                                    0                  0   \n",
       "2                                    0                  0   \n",
       "3                                    0                  0   \n",
       "4                                    0                  0   \n",
       "...                                ...                ...   \n",
       "13042                                0                  0   \n",
       "13043                                0                  0   \n",
       "13044                                0                  0   \n",
       "13045                                0                  0   \n",
       "13046                                0                  0   \n",
       "\n",
       "       spec_Mods (require HL1)  spec_Multi-player  spec_Shared/Split Screen  \\\n",
       "0                            0                  1                         0   \n",
       "1                            0                  1                         0   \n",
       "2                            0                  0                         0   \n",
       "3                            0                  1                         0   \n",
       "4                            0                  1                         0   \n",
       "...                        ...                ...                       ...   \n",
       "13042                        0                  1                         0   \n",
       "13043                        0                  1                         0   \n",
       "13044                        0                  0                         0   \n",
       "13045                        0                  0                         0   \n",
       "13046                        0                  0                         0   \n",
       "\n",
       "       spec_Steam Turn Notifications  \n",
       "0                                  0  \n",
       "1                                  0  \n",
       "2                                  0  \n",
       "3                                  0  \n",
       "4                                  0  \n",
       "...                              ...  \n",
       "13042                              0  \n",
       "13043                              0  \n",
       "13044                              0  \n",
       "13045                              0  \n",
       "13046                              0  \n",
       "\n",
       "[13047 rows x 67 columns]"
      ],
      "text/html": "<div>\n<style scoped>\n    .dataframe tbody tr th:only-of-type {\n        vertical-align: middle;\n    }\n\n    .dataframe tbody tr th {\n        vertical-align: top;\n    }\n\n    .dataframe thead th {\n        text-align: right;\n    }\n</style>\n<table border=\"1\" class=\"dataframe\">\n  <thead>\n    <tr style=\"text-align: right;\">\n      <th></th>\n      <th>index</th>\n      <th>id</th>\n      <th>sentiment</th>\n      <th>price</th>\n      <th>early_access</th>\n      <th>genre_Sports</th>\n      <th>genre_Simulation</th>\n      <th>genre_Early Access</th>\n      <th>genre_Video Production</th>\n      <th>genre_Software Training</th>\n      <th>...</th>\n      <th>spec_Valve Anti-Cheat enabled</th>\n      <th>spec_Captions available</th>\n      <th>spec_Steam Achievements</th>\n      <th>spec_Steam Cloud</th>\n      <th>spec_Cross-Platform Multiplayer</th>\n      <th>spec_Online Co-op</th>\n      <th>spec_Mods (require HL1)</th>\n      <th>spec_Multi-player</th>\n      <th>spec_Shared/Split Screen</th>\n      <th>spec_Steam Turn Notifications</th>\n    </tr>\n  </thead>\n  <tbody>\n    <tr>\n      <th>0</th>\n      <td>1</td>\n      <td>3061</td>\n      <td>5</td>\n      <td>Free To Play</td>\n      <td>False</td>\n      <td>0</td>\n      <td>0</td>\n      <td>0</td>\n      <td>0</td>\n      <td>0</td>\n      <td>...</td>\n      <td>0</td>\n      <td>0</td>\n      <td>1</td>\n      <td>0</td>\n      <td>1</td>\n      <td>0</td>\n      <td>0</td>\n      <td>1</td>\n      <td>0</td>\n      <td>0</td>\n    </tr>\n    <tr>\n      <th>1</th>\n      <td>2</td>\n      <td>2019</td>\n      <td>5</td>\n      <td>Free to Play</td>\n      <td>False</td>\n      <td>1</td>\n      <td>1</td>\n      <td>0</td>\n      <td>0</td>\n      <td>0</td>\n      <td>...</td>\n      <td>0</td>\n      <td>0</td>\n      <td>0</td>\n      <td>0</td>\n      <td>0</td>\n      <td>0</td>\n      <td>0</td>\n      <td>1</td>\n      <td>0</td>\n      <td>0</td>\n    </tr>\n    <tr>\n      <th>2</th>\n      <td>5</td>\n      <td>10834</td>\n      <td>4</td>\n      <td>3.99</td>\n      <td>False</td>\n      <td>0</td>\n      <td>1</td>\n      <td>0</td>\n      <td>0</td>\n      <td>0</td>\n      <td>...</td>\n      <td>0</td>\n      <td>0</td>\n      <td>1</td>\n      <td>0</td>\n      <td>0</td>\n      <td>0</td>\n      <td>0</td>\n      <td>0</td>\n      <td>0</td>\n      <td>0</td>\n    </tr>\n    <tr>\n      <th>3</th>\n      <td>27</td>\n      <td>6827</td>\n      <td>7</td>\n      <td>9.99</td>\n      <td>False</td>\n      <td>0</td>\n      <td>0</td>\n      <td>0</td>\n      <td>0</td>\n      <td>0</td>\n      <td>...</td>\n      <td>0</td>\n      <td>0</td>\n      <td>0</td>\n      <td>0</td>\n      <td>0</td>\n      <td>0</td>\n      <td>0</td>\n      <td>1</td>\n      <td>0</td>\n      <td>0</td>\n    </tr>\n    <tr>\n      <th>4</th>\n      <td>28</td>\n      <td>3583</td>\n      <td>8</td>\n      <td>9.99</td>\n      <td>False</td>\n      <td>0</td>\n      <td>0</td>\n      <td>0</td>\n      <td>0</td>\n      <td>0</td>\n      <td>...</td>\n      <td>1</td>\n      <td>0</td>\n      <td>0</td>\n      <td>0</td>\n      <td>0</td>\n      <td>0</td>\n      <td>0</td>\n      <td>1</td>\n      <td>0</td>\n      <td>0</td>\n    </tr>\n    <tr>\n      <th>...</th>\n      <td>...</td>\n      <td>...</td>\n      <td>...</td>\n      <td>...</td>\n      <td>...</td>\n      <td>...</td>\n      <td>...</td>\n      <td>...</td>\n      <td>...</td>\n      <td>...</td>\n      <td>...</td>\n      <td>...</td>\n      <td>...</td>\n      <td>...</td>\n      <td>...</td>\n      <td>...</td>\n      <td>...</td>\n      <td>...</td>\n      <td>...</td>\n      <td>...</td>\n      <td>...</td>\n    </tr>\n    <tr>\n      <th>13042</th>\n      <td>32116</td>\n      <td>6392</td>\n      <td>8</td>\n      <td>14.99</td>\n      <td>False</td>\n      <td>0</td>\n      <td>0</td>\n      <td>0</td>\n      <td>0</td>\n      <td>0</td>\n      <td>...</td>\n      <td>0</td>\n      <td>0</td>\n      <td>0</td>\n      <td>0</td>\n      <td>0</td>\n      <td>0</td>\n      <td>0</td>\n      <td>1</td>\n      <td>0</td>\n      <td>0</td>\n    </tr>\n    <tr>\n      <th>13043</th>\n      <td>32117</td>\n      <td>2950</td>\n      <td>7</td>\n      <td>9.99</td>\n      <td>False</td>\n      <td>0</td>\n      <td>0</td>\n      <td>0</td>\n      <td>0</td>\n      <td>0</td>\n      <td>...</td>\n      <td>1</td>\n      <td>0</td>\n      <td>0</td>\n      <td>0</td>\n      <td>0</td>\n      <td>0</td>\n      <td>0</td>\n      <td>1</td>\n      <td>0</td>\n      <td>0</td>\n    </tr>\n    <tr>\n      <th>13044</th>\n      <td>32124</td>\n      <td>10483</td>\n      <td>-1</td>\n      <td>0.99</td>\n      <td>False</td>\n      <td>0</td>\n      <td>0</td>\n      <td>0</td>\n      <td>0</td>\n      <td>0</td>\n      <td>...</td>\n      <td>0</td>\n      <td>0</td>\n      <td>1</td>\n      <td>0</td>\n      <td>0</td>\n      <td>0</td>\n      <td>0</td>\n      <td>0</td>\n      <td>0</td>\n      <td>0</td>\n    </tr>\n    <tr>\n      <th>13045</th>\n      <td>32129</td>\n      <td>9334</td>\n      <td>-1</td>\n      <td>1.99</td>\n      <td>False</td>\n      <td>0</td>\n      <td>0</td>\n      <td>0</td>\n      <td>0</td>\n      <td>0</td>\n      <td>...</td>\n      <td>0</td>\n      <td>0</td>\n      <td>1</td>\n      <td>1</td>\n      <td>0</td>\n      <td>0</td>\n      <td>0</td>\n      <td>0</td>\n      <td>0</td>\n      <td>0</td>\n    </tr>\n    <tr>\n      <th>13046</th>\n      <td>32133</td>\n      <td>2839</td>\n      <td>-1</td>\n      <td>4.99</td>\n      <td>False</td>\n      <td>0</td>\n      <td>0</td>\n      <td>0</td>\n      <td>0</td>\n      <td>0</td>\n      <td>...</td>\n      <td>0</td>\n      <td>0</td>\n      <td>1</td>\n      <td>1</td>\n      <td>0</td>\n      <td>0</td>\n      <td>0</td>\n      <td>0</td>\n      <td>0</td>\n      <td>0</td>\n    </tr>\n  </tbody>\n</table>\n<p>13047 rows × 67 columns</p>\n</div>"
     },
     "metadata": {},
     "execution_count": 98
    }
   ],
   "source": [
    "df"
   ]
  },
  {
   "cell_type": "code",
   "execution_count": 99,
   "metadata": {},
   "outputs": [],
   "source": [
    "#fix price\n",
    "# strange_prices = ['Free to Play', 'nan','Free','Free Demo', 'Play for Free!', 'Install Now', 'Play WARMACHINE: Tactics Demo', 'Free Mod', 'Install Theme', 'Third-party', 'Play Now', 'Free HITMAN™ Holiday Pack', 'Play the Demo', 'Starting at $499.00', 'Starting at $449.00', 'Free to Try', 'Free Movie', 'Free to Use']\n",
    "free_prices = ['Free to Play', 'Free', 'Free Demo', 'Play for Free!', 'Install Now', 'Play WARMACHINE: Tactics Demo', 'Free Mod', 'Install Theme', 'Play Now', 'Free HITMAN™ Holiday Pack', 'Play the Demo', 'Free to Try', 'Free Movie', 'Free to Use', 'Free To Play\t', \"'Free To Play'\", 'Free To Play']\n",
    "free_prices = free_prices + [df.iloc[1]['price']]\n",
    "df['price'] = df['price'].apply(lambda x: 0 if x in free_prices else x)\n",
    "df['price'] = df['price'].apply(lambda x: 0 if x == 'Third-party' else x)\n",
    "df['price'] = df['price'].apply(lambda x: 499.0 if x == 'Starting at $499.00' else x)\n",
    "df['price'] = df['price'].apply(lambda x: 449.0 if x == 'Starting at $449.00' else x)\n",
    "df['price'] = df['price'].fillna(-1)\n",
    "# df['price'].iloc[0] = 0\n",
    "# df.dropna(subset = ['price'], inplace=True)\n",
    "\n",
    "# df['price']=df['price'].apply(lambda x:round(x,2))"
   ]
  },
  {
   "cell_type": "code",
   "execution_count": 100,
   "metadata": {},
   "outputs": [
    {
     "output_type": "execute_result",
     "data": {
      "text/plain": [
       "Empty DataFrame\n",
       "Columns: [index, id, sentiment, price, early_access, genre_Sports, genre_Simulation, genre_Early Access, genre_Video Production, genre_Software Training, genre_Web Publishing, genre_Audio Production, genre_RPG, genre_Photo Editing, genre_Design &amp; Illustration, genre_Casual, genre_Massively Multiplayer, genre_Accounting, genre_Racing, genre_Adventure, genre_Strategy, genre_Animation &amp; Modeling, genre_Free to Play, genre_Indie, genre_Education, genre_Action, genre_Utilities, spec_Online Multi-Player, spec_Room-Scale, spec_Mods, spec_HTC Vive, spec_Keyboard / Mouse, spec_Commentary available, spec_Steam Workshop, spec_SteamVR Collectibles, spec_Oculus Rift, spec_Mods (require HL2), spec_MMO, spec_Seated, spec_Stats, spec_Windows Mixed Reality, spec_Includes Source SDK, spec_Co-op, spec_Tracked Motion Controllers, spec_Game demo, spec_Single-player, spec_Steam Leaderboards, spec_Steam Trading Cards, spec_Local Multi-Player, spec_Downloadable Content, spec_Includes level editor, spec_Partial Controller Support, spec_Standing, spec_In-App Purchases, spec_Gamepad, spec_Local Co-op, spec_Full controller support, spec_Valve Anti-Cheat enabled, spec_Captions available, spec_Steam Achievements, spec_Steam Cloud, spec_Cross-Platform Multiplayer, spec_Online Co-op, spec_Mods (require HL1), spec_Multi-player, spec_Shared/Split Screen, spec_Steam Turn Notifications]\n",
       "Index: []\n",
       "\n",
       "[0 rows x 67 columns]"
      ],
      "text/html": "<div>\n<style scoped>\n    .dataframe tbody tr th:only-of-type {\n        vertical-align: middle;\n    }\n\n    .dataframe tbody tr th {\n        vertical-align: top;\n    }\n\n    .dataframe thead th {\n        text-align: right;\n    }\n</style>\n<table border=\"1\" class=\"dataframe\">\n  <thead>\n    <tr style=\"text-align: right;\">\n      <th></th>\n      <th>index</th>\n      <th>id</th>\n      <th>sentiment</th>\n      <th>price</th>\n      <th>early_access</th>\n      <th>genre_Sports</th>\n      <th>genre_Simulation</th>\n      <th>genre_Early Access</th>\n      <th>genre_Video Production</th>\n      <th>genre_Software Training</th>\n      <th>...</th>\n      <th>spec_Valve Anti-Cheat enabled</th>\n      <th>spec_Captions available</th>\n      <th>spec_Steam Achievements</th>\n      <th>spec_Steam Cloud</th>\n      <th>spec_Cross-Platform Multiplayer</th>\n      <th>spec_Online Co-op</th>\n      <th>spec_Mods (require HL1)</th>\n      <th>spec_Multi-player</th>\n      <th>spec_Shared/Split Screen</th>\n      <th>spec_Steam Turn Notifications</th>\n    </tr>\n  </thead>\n  <tbody>\n  </tbody>\n</table>\n<p>0 rows × 67 columns</p>\n</div>"
     },
     "metadata": {},
     "execution_count": 100
    }
   ],
   "source": [
    "df[df['price'] == \"Free To Play\"]"
   ]
  },
  {
   "cell_type": "code",
   "execution_count": 101,
   "metadata": {},
   "outputs": [],
   "source": [
    "# fix early_access\n",
    "df['early_access'] = df['early_access'].apply(lambda x: 1 if x else 0)"
   ]
  },
  {
   "cell_type": "code",
   "execution_count": 102,
   "metadata": {},
   "outputs": [
    {
     "output_type": "execute_result",
     "data": {
      "text/plain": [
       "Empty DataFrame\n",
       "Columns: [index, id, sentiment, price, early_access, genre_Sports, genre_Simulation, genre_Early Access, genre_Video Production, genre_Software Training, genre_Web Publishing, genre_Audio Production, genre_RPG, genre_Photo Editing, genre_Design &amp; Illustration, genre_Casual, genre_Massively Multiplayer, genre_Accounting, genre_Racing, genre_Adventure, genre_Strategy, genre_Animation &amp; Modeling, genre_Free to Play, genre_Indie, genre_Education, genre_Action, genre_Utilities, spec_Online Multi-Player, spec_Room-Scale, spec_Mods, spec_HTC Vive, spec_Keyboard / Mouse, spec_Commentary available, spec_Steam Workshop, spec_SteamVR Collectibles, spec_Oculus Rift, spec_Mods (require HL2), spec_MMO, spec_Seated, spec_Stats, spec_Windows Mixed Reality, spec_Includes Source SDK, spec_Co-op, spec_Tracked Motion Controllers, spec_Game demo, spec_Single-player, spec_Steam Leaderboards, spec_Steam Trading Cards, spec_Local Multi-Player, spec_Downloadable Content, spec_Includes level editor, spec_Partial Controller Support, spec_Standing, spec_In-App Purchases, spec_Gamepad, spec_Local Co-op, spec_Full controller support, spec_Valve Anti-Cheat enabled, spec_Captions available, spec_Steam Achievements, spec_Steam Cloud, spec_Cross-Platform Multiplayer, spec_Online Co-op, spec_Mods (require HL1), spec_Multi-player, spec_Shared/Split Screen, spec_Steam Turn Notifications]\n",
       "Index: []\n",
       "\n",
       "[0 rows x 67 columns]"
      ],
      "text/html": "<div>\n<style scoped>\n    .dataframe tbody tr th:only-of-type {\n        vertical-align: middle;\n    }\n\n    .dataframe tbody tr th {\n        vertical-align: top;\n    }\n\n    .dataframe thead th {\n        text-align: right;\n    }\n</style>\n<table border=\"1\" class=\"dataframe\">\n  <thead>\n    <tr style=\"text-align: right;\">\n      <th></th>\n      <th>index</th>\n      <th>id</th>\n      <th>sentiment</th>\n      <th>price</th>\n      <th>early_access</th>\n      <th>genre_Sports</th>\n      <th>genre_Simulation</th>\n      <th>genre_Early Access</th>\n      <th>genre_Video Production</th>\n      <th>genre_Software Training</th>\n      <th>...</th>\n      <th>spec_Valve Anti-Cheat enabled</th>\n      <th>spec_Captions available</th>\n      <th>spec_Steam Achievements</th>\n      <th>spec_Steam Cloud</th>\n      <th>spec_Cross-Platform Multiplayer</th>\n      <th>spec_Online Co-op</th>\n      <th>spec_Mods (require HL1)</th>\n      <th>spec_Multi-player</th>\n      <th>spec_Shared/Split Screen</th>\n      <th>spec_Steam Turn Notifications</th>\n    </tr>\n  </thead>\n  <tbody>\n  </tbody>\n</table>\n<p>0 rows × 67 columns</p>\n</div>"
     },
     "metadata": {},
     "execution_count": 102
    }
   ],
   "source": [
    "df[df.isnull().any(axis=1)]"
   ]
  },
  {
   "cell_type": "code",
   "execution_count": 103,
   "metadata": {},
   "outputs": [],
   "source": [
    "df.to_csv(os.path.join(ROOT_DIR, \"items_info.csv\"), index=False)"
   ]
  },
  {
   "cell_type": "code",
   "execution_count": 104,
   "metadata": {},
   "outputs": [
    {
     "output_type": "execute_result",
     "data": {
      "text/plain": [
       "       index     id  sentiment  price  early_access  genre_Sports  \\\n",
       "0          1   3061          5   0.00             0             0   \n",
       "1          2   2019          5   0.00             0             1   \n",
       "2          5  10834          4   3.99             0             0   \n",
       "3         27   6827          7   9.99             0             0   \n",
       "4         28   3583          8   9.99             0             0   \n",
       "...      ...    ...        ...    ...           ...           ...   \n",
       "13042  32116   6392          8  14.99             0             0   \n",
       "13043  32117   2950          7   9.99             0             0   \n",
       "13044  32124  10483         -1   0.99             0             0   \n",
       "13045  32129   9334         -1   1.99             0             0   \n",
       "13046  32133   2839         -1   4.99             0             0   \n",
       "\n",
       "       genre_Simulation  genre_Early Access  genre_Video Production  \\\n",
       "0                     0                   0                       0   \n",
       "1                     1                   0                       0   \n",
       "2                     1                   0                       0   \n",
       "3                     0                   0                       0   \n",
       "4                     0                   0                       0   \n",
       "...                 ...                 ...                     ...   \n",
       "13042                 0                   0                       0   \n",
       "13043                 0                   0                       0   \n",
       "13044                 0                   0                       0   \n",
       "13045                 0                   0                       0   \n",
       "13046                 0                   0                       0   \n",
       "\n",
       "       genre_Software Training  ...  spec_Valve Anti-Cheat enabled  \\\n",
       "0                            0  ...                              0   \n",
       "1                            0  ...                              0   \n",
       "2                            0  ...                              0   \n",
       "3                            0  ...                              0   \n",
       "4                            0  ...                              1   \n",
       "...                        ...  ...                            ...   \n",
       "13042                        0  ...                              0   \n",
       "13043                        0  ...                              1   \n",
       "13044                        0  ...                              0   \n",
       "13045                        0  ...                              0   \n",
       "13046                        0  ...                              0   \n",
       "\n",
       "       spec_Captions available  spec_Steam Achievements  spec_Steam Cloud  \\\n",
       "0                            0                        1                 0   \n",
       "1                            0                        0                 0   \n",
       "2                            0                        1                 0   \n",
       "3                            0                        0                 0   \n",
       "4                            0                        0                 0   \n",
       "...                        ...                      ...               ...   \n",
       "13042                        0                        0                 0   \n",
       "13043                        0                        0                 0   \n",
       "13044                        0                        1                 0   \n",
       "13045                        0                        1                 1   \n",
       "13046                        0                        1                 1   \n",
       "\n",
       "       spec_Cross-Platform Multiplayer  spec_Online Co-op  \\\n",
       "0                                    1                  0   \n",
       "1                                    0                  0   \n",
       "2                                    0                  0   \n",
       "3                                    0                  0   \n",
       "4                                    0                  0   \n",
       "...                                ...                ...   \n",
       "13042                                0                  0   \n",
       "13043                                0                  0   \n",
       "13044                                0                  0   \n",
       "13045                                0                  0   \n",
       "13046                                0                  0   \n",
       "\n",
       "       spec_Mods (require HL1)  spec_Multi-player  spec_Shared/Split Screen  \\\n",
       "0                            0                  1                         0   \n",
       "1                            0                  1                         0   \n",
       "2                            0                  0                         0   \n",
       "3                            0                  1                         0   \n",
       "4                            0                  1                         0   \n",
       "...                        ...                ...                       ...   \n",
       "13042                        0                  1                         0   \n",
       "13043                        0                  1                         0   \n",
       "13044                        0                  0                         0   \n",
       "13045                        0                  0                         0   \n",
       "13046                        0                  0                         0   \n",
       "\n",
       "       spec_Steam Turn Notifications  \n",
       "0                                  0  \n",
       "1                                  0  \n",
       "2                                  0  \n",
       "3                                  0  \n",
       "4                                  0  \n",
       "...                              ...  \n",
       "13042                              0  \n",
       "13043                              0  \n",
       "13044                              0  \n",
       "13045                              0  \n",
       "13046                              0  \n",
       "\n",
       "[13047 rows x 67 columns]"
      ],
      "text/html": "<div>\n<style scoped>\n    .dataframe tbody tr th:only-of-type {\n        vertical-align: middle;\n    }\n\n    .dataframe tbody tr th {\n        vertical-align: top;\n    }\n\n    .dataframe thead th {\n        text-align: right;\n    }\n</style>\n<table border=\"1\" class=\"dataframe\">\n  <thead>\n    <tr style=\"text-align: right;\">\n      <th></th>\n      <th>index</th>\n      <th>id</th>\n      <th>sentiment</th>\n      <th>price</th>\n      <th>early_access</th>\n      <th>genre_Sports</th>\n      <th>genre_Simulation</th>\n      <th>genre_Early Access</th>\n      <th>genre_Video Production</th>\n      <th>genre_Software Training</th>\n      <th>...</th>\n      <th>spec_Valve Anti-Cheat enabled</th>\n      <th>spec_Captions available</th>\n      <th>spec_Steam Achievements</th>\n      <th>spec_Steam Cloud</th>\n      <th>spec_Cross-Platform Multiplayer</th>\n      <th>spec_Online Co-op</th>\n      <th>spec_Mods (require HL1)</th>\n      <th>spec_Multi-player</th>\n      <th>spec_Shared/Split Screen</th>\n      <th>spec_Steam Turn Notifications</th>\n    </tr>\n  </thead>\n  <tbody>\n    <tr>\n      <th>0</th>\n      <td>1</td>\n      <td>3061</td>\n      <td>5</td>\n      <td>0.00</td>\n      <td>0</td>\n      <td>0</td>\n      <td>0</td>\n      <td>0</td>\n      <td>0</td>\n      <td>0</td>\n      <td>...</td>\n      <td>0</td>\n      <td>0</td>\n      <td>1</td>\n      <td>0</td>\n      <td>1</td>\n      <td>0</td>\n      <td>0</td>\n      <td>1</td>\n      <td>0</td>\n      <td>0</td>\n    </tr>\n    <tr>\n      <th>1</th>\n      <td>2</td>\n      <td>2019</td>\n      <td>5</td>\n      <td>0.00</td>\n      <td>0</td>\n      <td>1</td>\n      <td>1</td>\n      <td>0</td>\n      <td>0</td>\n      <td>0</td>\n      <td>...</td>\n      <td>0</td>\n      <td>0</td>\n      <td>0</td>\n      <td>0</td>\n      <td>0</td>\n      <td>0</td>\n      <td>0</td>\n      <td>1</td>\n      <td>0</td>\n      <td>0</td>\n    </tr>\n    <tr>\n      <th>2</th>\n      <td>5</td>\n      <td>10834</td>\n      <td>4</td>\n      <td>3.99</td>\n      <td>0</td>\n      <td>0</td>\n      <td>1</td>\n      <td>0</td>\n      <td>0</td>\n      <td>0</td>\n      <td>...</td>\n      <td>0</td>\n      <td>0</td>\n      <td>1</td>\n      <td>0</td>\n      <td>0</td>\n      <td>0</td>\n      <td>0</td>\n      <td>0</td>\n      <td>0</td>\n      <td>0</td>\n    </tr>\n    <tr>\n      <th>3</th>\n      <td>27</td>\n      <td>6827</td>\n      <td>7</td>\n      <td>9.99</td>\n      <td>0</td>\n      <td>0</td>\n      <td>0</td>\n      <td>0</td>\n      <td>0</td>\n      <td>0</td>\n      <td>...</td>\n      <td>0</td>\n      <td>0</td>\n      <td>0</td>\n      <td>0</td>\n      <td>0</td>\n      <td>0</td>\n      <td>0</td>\n      <td>1</td>\n      <td>0</td>\n      <td>0</td>\n    </tr>\n    <tr>\n      <th>4</th>\n      <td>28</td>\n      <td>3583</td>\n      <td>8</td>\n      <td>9.99</td>\n      <td>0</td>\n      <td>0</td>\n      <td>0</td>\n      <td>0</td>\n      <td>0</td>\n      <td>0</td>\n      <td>...</td>\n      <td>1</td>\n      <td>0</td>\n      <td>0</td>\n      <td>0</td>\n      <td>0</td>\n      <td>0</td>\n      <td>0</td>\n      <td>1</td>\n      <td>0</td>\n      <td>0</td>\n    </tr>\n    <tr>\n      <th>...</th>\n      <td>...</td>\n      <td>...</td>\n      <td>...</td>\n      <td>...</td>\n      <td>...</td>\n      <td>...</td>\n      <td>...</td>\n      <td>...</td>\n      <td>...</td>\n      <td>...</td>\n      <td>...</td>\n      <td>...</td>\n      <td>...</td>\n      <td>...</td>\n      <td>...</td>\n      <td>...</td>\n      <td>...</td>\n      <td>...</td>\n      <td>...</td>\n      <td>...</td>\n      <td>...</td>\n    </tr>\n    <tr>\n      <th>13042</th>\n      <td>32116</td>\n      <td>6392</td>\n      <td>8</td>\n      <td>14.99</td>\n      <td>0</td>\n      <td>0</td>\n      <td>0</td>\n      <td>0</td>\n      <td>0</td>\n      <td>0</td>\n      <td>...</td>\n      <td>0</td>\n      <td>0</td>\n      <td>0</td>\n      <td>0</td>\n      <td>0</td>\n      <td>0</td>\n      <td>0</td>\n      <td>1</td>\n      <td>0</td>\n      <td>0</td>\n    </tr>\n    <tr>\n      <th>13043</th>\n      <td>32117</td>\n      <td>2950</td>\n      <td>7</td>\n      <td>9.99</td>\n      <td>0</td>\n      <td>0</td>\n      <td>0</td>\n      <td>0</td>\n      <td>0</td>\n      <td>0</td>\n      <td>...</td>\n      <td>1</td>\n      <td>0</td>\n      <td>0</td>\n      <td>0</td>\n      <td>0</td>\n      <td>0</td>\n      <td>0</td>\n      <td>1</td>\n      <td>0</td>\n      <td>0</td>\n    </tr>\n    <tr>\n      <th>13044</th>\n      <td>32124</td>\n      <td>10483</td>\n      <td>-1</td>\n      <td>0.99</td>\n      <td>0</td>\n      <td>0</td>\n      <td>0</td>\n      <td>0</td>\n      <td>0</td>\n      <td>0</td>\n      <td>...</td>\n      <td>0</td>\n      <td>0</td>\n      <td>1</td>\n      <td>0</td>\n      <td>0</td>\n      <td>0</td>\n      <td>0</td>\n      <td>0</td>\n      <td>0</td>\n      <td>0</td>\n    </tr>\n    <tr>\n      <th>13045</th>\n      <td>32129</td>\n      <td>9334</td>\n      <td>-1</td>\n      <td>1.99</td>\n      <td>0</td>\n      <td>0</td>\n      <td>0</td>\n      <td>0</td>\n      <td>0</td>\n      <td>0</td>\n      <td>...</td>\n      <td>0</td>\n      <td>0</td>\n      <td>1</td>\n      <td>1</td>\n      <td>0</td>\n      <td>0</td>\n      <td>0</td>\n      <td>0</td>\n      <td>0</td>\n      <td>0</td>\n    </tr>\n    <tr>\n      <th>13046</th>\n      <td>32133</td>\n      <td>2839</td>\n      <td>-1</td>\n      <td>4.99</td>\n      <td>0</td>\n      <td>0</td>\n      <td>0</td>\n      <td>0</td>\n      <td>0</td>\n      <td>0</td>\n      <td>...</td>\n      <td>0</td>\n      <td>0</td>\n      <td>1</td>\n      <td>1</td>\n      <td>0</td>\n      <td>0</td>\n      <td>0</td>\n      <td>0</td>\n      <td>0</td>\n      <td>0</td>\n    </tr>\n  </tbody>\n</table>\n<p>13047 rows × 67 columns</p>\n</div>"
     },
     "metadata": {},
     "execution_count": 104
    }
   ],
   "source": [
    "df"
   ]
  },
  {
   "cell_type": "code",
   "execution_count": 105,
   "metadata": {},
   "outputs": [],
   "source": [
    "from sklearn.decomposition import PCA\n",
    "\n",
    "pca_df = df.drop(columns=['id'])\n",
    "pca = PCA(n_components=10)\n",
    "pca_np = pca.fit_transform(pca_df)\n",
    "pca_df = pd.DataFrame(pca_np)\n",
    "pca_df['id'] = df['id']\n",
    "pca_df = pca_df[['id' ,0, 1, 2, 3, 4, 5, 6, 7, 8, 9]]\n",
    "pca_df.to_csv(os.path.join(ROOT_DIR, \"items_info_pca_10.csv\"), index=False)"
   ]
  },
  {
   "cell_type": "code",
   "execution_count": 106,
   "metadata": {},
   "outputs": [
    {
     "output_type": "execute_result",
     "data": {
      "text/plain": [
       "          id             0         1         2         3         4         5  \\\n",
       "0       3061  16432.400353 -9.526871 -0.858684 -0.007223 -0.553376  1.080186   \n",
       "1       2019  16431.400354 -9.531730 -0.788061 -0.871618 -0.480422  0.774918   \n",
       "2      10834  16428.400375 -5.548444  0.238338 -0.288806 -0.002880 -0.570166   \n",
       "3       6827  16406.400382  0.490998 -2.654488 -0.206489 -0.636648 -0.265038   \n",
       "4       3583  16405.400374  0.512646 -3.641782 -1.005539 -0.903518 -0.416534   \n",
       "...      ...           ...       ...       ...       ...       ...       ...   \n",
       "13042   6392 -15682.599602  5.651712 -3.388086 -0.521265 -0.629375 -0.241820   \n",
       "13043   2950 -15683.599619  0.637768 -2.447050 -0.921916 -0.857039 -0.377570   \n",
       "13044  10483 -15690.599605 -8.489870  5.386244  0.072263  0.594153 -0.287338   \n",
       "13045   9334 -15695.599600 -7.493152  5.385161  0.739705  0.452658 -0.349946   \n",
       "13046   2839 -15699.599586 -4.491406  5.433959  0.343173  0.581865  0.597485   \n",
       "\n",
       "              6         7         8         9  \n",
       "0      0.947382 -0.912903  0.088379  0.429949  \n",
       "1      0.532814  0.652818  0.067127  0.657292  \n",
       "2     -0.250191 -0.259052 -0.197300 -0.190218  \n",
       "3      0.216159  0.218816 -0.288742  0.198579  \n",
       "4     -0.405695  0.061184 -0.239605  0.187734  \n",
       "...         ...       ...       ...       ...  \n",
       "13042 -0.203292 -0.076231 -0.494414  0.471103  \n",
       "13043 -0.381291  0.072069 -0.207651  0.200201  \n",
       "13044  0.047027 -0.263163  0.198884 -0.204706  \n",
       "13045 -0.049873  0.224684 -0.059074  0.040273  \n",
       "13046 -0.344642  0.374950  0.077367 -0.167905  \n",
       "\n",
       "[13047 rows x 11 columns]"
      ],
      "text/html": "<div>\n<style scoped>\n    .dataframe tbody tr th:only-of-type {\n        vertical-align: middle;\n    }\n\n    .dataframe tbody tr th {\n        vertical-align: top;\n    }\n\n    .dataframe thead th {\n        text-align: right;\n    }\n</style>\n<table border=\"1\" class=\"dataframe\">\n  <thead>\n    <tr style=\"text-align: right;\">\n      <th></th>\n      <th>id</th>\n      <th>0</th>\n      <th>1</th>\n      <th>2</th>\n      <th>3</th>\n      <th>4</th>\n      <th>5</th>\n      <th>6</th>\n      <th>7</th>\n      <th>8</th>\n      <th>9</th>\n    </tr>\n  </thead>\n  <tbody>\n    <tr>\n      <th>0</th>\n      <td>3061</td>\n      <td>16432.400353</td>\n      <td>-9.526871</td>\n      <td>-0.858684</td>\n      <td>-0.007223</td>\n      <td>-0.553376</td>\n      <td>1.080186</td>\n      <td>0.947382</td>\n      <td>-0.912903</td>\n      <td>0.088379</td>\n      <td>0.429949</td>\n    </tr>\n    <tr>\n      <th>1</th>\n      <td>2019</td>\n      <td>16431.400354</td>\n      <td>-9.531730</td>\n      <td>-0.788061</td>\n      <td>-0.871618</td>\n      <td>-0.480422</td>\n      <td>0.774918</td>\n      <td>0.532814</td>\n      <td>0.652818</td>\n      <td>0.067127</td>\n      <td>0.657292</td>\n    </tr>\n    <tr>\n      <th>2</th>\n      <td>10834</td>\n      <td>16428.400375</td>\n      <td>-5.548444</td>\n      <td>0.238338</td>\n      <td>-0.288806</td>\n      <td>-0.002880</td>\n      <td>-0.570166</td>\n      <td>-0.250191</td>\n      <td>-0.259052</td>\n      <td>-0.197300</td>\n      <td>-0.190218</td>\n    </tr>\n    <tr>\n      <th>3</th>\n      <td>6827</td>\n      <td>16406.400382</td>\n      <td>0.490998</td>\n      <td>-2.654488</td>\n      <td>-0.206489</td>\n      <td>-0.636648</td>\n      <td>-0.265038</td>\n      <td>0.216159</td>\n      <td>0.218816</td>\n      <td>-0.288742</td>\n      <td>0.198579</td>\n    </tr>\n    <tr>\n      <th>4</th>\n      <td>3583</td>\n      <td>16405.400374</td>\n      <td>0.512646</td>\n      <td>-3.641782</td>\n      <td>-1.005539</td>\n      <td>-0.903518</td>\n      <td>-0.416534</td>\n      <td>-0.405695</td>\n      <td>0.061184</td>\n      <td>-0.239605</td>\n      <td>0.187734</td>\n    </tr>\n    <tr>\n      <th>...</th>\n      <td>...</td>\n      <td>...</td>\n      <td>...</td>\n      <td>...</td>\n      <td>...</td>\n      <td>...</td>\n      <td>...</td>\n      <td>...</td>\n      <td>...</td>\n      <td>...</td>\n      <td>...</td>\n    </tr>\n    <tr>\n      <th>13042</th>\n      <td>6392</td>\n      <td>-15682.599602</td>\n      <td>5.651712</td>\n      <td>-3.388086</td>\n      <td>-0.521265</td>\n      <td>-0.629375</td>\n      <td>-0.241820</td>\n      <td>-0.203292</td>\n      <td>-0.076231</td>\n      <td>-0.494414</td>\n      <td>0.471103</td>\n    </tr>\n    <tr>\n      <th>13043</th>\n      <td>2950</td>\n      <td>-15683.599619</td>\n      <td>0.637768</td>\n      <td>-2.447050</td>\n      <td>-0.921916</td>\n      <td>-0.857039</td>\n      <td>-0.377570</td>\n      <td>-0.381291</td>\n      <td>0.072069</td>\n      <td>-0.207651</td>\n      <td>0.200201</td>\n    </tr>\n    <tr>\n      <th>13044</th>\n      <td>10483</td>\n      <td>-15690.599605</td>\n      <td>-8.489870</td>\n      <td>5.386244</td>\n      <td>0.072263</td>\n      <td>0.594153</td>\n      <td>-0.287338</td>\n      <td>0.047027</td>\n      <td>-0.263163</td>\n      <td>0.198884</td>\n      <td>-0.204706</td>\n    </tr>\n    <tr>\n      <th>13045</th>\n      <td>9334</td>\n      <td>-15695.599600</td>\n      <td>-7.493152</td>\n      <td>5.385161</td>\n      <td>0.739705</td>\n      <td>0.452658</td>\n      <td>-0.349946</td>\n      <td>-0.049873</td>\n      <td>0.224684</td>\n      <td>-0.059074</td>\n      <td>0.040273</td>\n    </tr>\n    <tr>\n      <th>13046</th>\n      <td>2839</td>\n      <td>-15699.599586</td>\n      <td>-4.491406</td>\n      <td>5.433959</td>\n      <td>0.343173</td>\n      <td>0.581865</td>\n      <td>0.597485</td>\n      <td>-0.344642</td>\n      <td>0.374950</td>\n      <td>0.077367</td>\n      <td>-0.167905</td>\n    </tr>\n  </tbody>\n</table>\n<p>13047 rows × 11 columns</p>\n</div>"
     },
     "metadata": {},
     "execution_count": 106
    }
   ],
   "source": [
    "pca_df"
   ]
  },
  {
   "cell_type": "code",
   "execution_count": 107,
   "metadata": {},
   "outputs": [],
   "source": [
    "from sklearn.cluster import FeatureAgglomeration\n",
    "\n",
    "fagg_df = df.drop(columns=['id'])\n",
    "fagg = FeatureAgglomeration(n_clusters=10)\n",
    "fagg_np = fagg.fit_transform(fagg_df)\n",
    "fagg_df = pd.DataFrame(fagg_np)\n",
    "fagg_df['id'] = df['id']\n",
    "fagg_df = fagg_df[['id' ,0, 1, 2, 3, 4, 5, 6, 7, 8, 9]]\n",
    "fagg_df.to_csv(os.path.join(ROOT_DIR, \"items_info_fagg_10.csv\"), index=False)"
   ]
  },
  {
   "cell_type": "code",
   "execution_count": 108,
   "metadata": {},
   "outputs": [
    {
     "output_type": "execute_result",
     "data": {
      "text/plain": [
       "          id    0    1         2    3    4      5         6        7  \\\n",
       "0       3061  0.0  1.0  0.428571  1.0  0.0   0.00  0.000000      1.0   \n",
       "1       2019  0.5  1.0  0.285714  0.0  0.0   0.00  0.000000      2.0   \n",
       "2      10834  0.5  0.5  0.142857  0.5  1.0   3.99  0.000000      5.0   \n",
       "3       6827  0.0  1.0  0.142857  0.5  1.0   9.99  0.000000     27.0   \n",
       "4       3583  0.0  0.5  0.142857  0.0  1.0   9.99  0.000000     28.0   \n",
       "...      ...  ...  ...       ...  ...  ...    ...       ...      ...   \n",
       "13042   6392  0.0  0.5  0.142857  0.5  1.0  14.99  0.000000  32116.0   \n",
       "13043   2950  0.0  0.5  0.142857  0.0  1.0   9.99  0.000000  32117.0   \n",
       "13044  10483  0.5  1.0  0.000000  0.5  0.0   0.99  0.000000  32124.0   \n",
       "13045   9334  1.0  1.0  0.000000  0.5  1.0   1.99  0.333333  32129.0   \n",
       "13046   2839  0.5  1.0  0.000000  0.5  0.0   4.99  0.333333  32133.0   \n",
       "\n",
       "              8    9  \n",
       "0      0.086957  5.0  \n",
       "1      0.108696  5.0  \n",
       "2      0.000000  4.0  \n",
       "3      0.021739  7.0  \n",
       "4      0.021739  8.0  \n",
       "...         ...  ...  \n",
       "13042  0.000000  8.0  \n",
       "13043  0.021739  7.0  \n",
       "13044  0.000000 -1.0  \n",
       "13045  0.000000 -1.0  \n",
       "13046  0.000000 -1.0  \n",
       "\n",
       "[13047 rows x 11 columns]"
      ],
      "text/html": "<div>\n<style scoped>\n    .dataframe tbody tr th:only-of-type {\n        vertical-align: middle;\n    }\n\n    .dataframe tbody tr th {\n        vertical-align: top;\n    }\n\n    .dataframe thead th {\n        text-align: right;\n    }\n</style>\n<table border=\"1\" class=\"dataframe\">\n  <thead>\n    <tr style=\"text-align: right;\">\n      <th></th>\n      <th>id</th>\n      <th>0</th>\n      <th>1</th>\n      <th>2</th>\n      <th>3</th>\n      <th>4</th>\n      <th>5</th>\n      <th>6</th>\n      <th>7</th>\n      <th>8</th>\n      <th>9</th>\n    </tr>\n  </thead>\n  <tbody>\n    <tr>\n      <th>0</th>\n      <td>3061</td>\n      <td>0.0</td>\n      <td>1.0</td>\n      <td>0.428571</td>\n      <td>1.0</td>\n      <td>0.0</td>\n      <td>0.00</td>\n      <td>0.000000</td>\n      <td>1.0</td>\n      <td>0.086957</td>\n      <td>5.0</td>\n    </tr>\n    <tr>\n      <th>1</th>\n      <td>2019</td>\n      <td>0.5</td>\n      <td>1.0</td>\n      <td>0.285714</td>\n      <td>0.0</td>\n      <td>0.0</td>\n      <td>0.00</td>\n      <td>0.000000</td>\n      <td>2.0</td>\n      <td>0.108696</td>\n      <td>5.0</td>\n    </tr>\n    <tr>\n      <th>2</th>\n      <td>10834</td>\n      <td>0.5</td>\n      <td>0.5</td>\n      <td>0.142857</td>\n      <td>0.5</td>\n      <td>1.0</td>\n      <td>3.99</td>\n      <td>0.000000</td>\n      <td>5.0</td>\n      <td>0.000000</td>\n      <td>4.0</td>\n    </tr>\n    <tr>\n      <th>3</th>\n      <td>6827</td>\n      <td>0.0</td>\n      <td>1.0</td>\n      <td>0.142857</td>\n      <td>0.5</td>\n      <td>1.0</td>\n      <td>9.99</td>\n      <td>0.000000</td>\n      <td>27.0</td>\n      <td>0.021739</td>\n      <td>7.0</td>\n    </tr>\n    <tr>\n      <th>4</th>\n      <td>3583</td>\n      <td>0.0</td>\n      <td>0.5</td>\n      <td>0.142857</td>\n      <td>0.0</td>\n      <td>1.0</td>\n      <td>9.99</td>\n      <td>0.000000</td>\n      <td>28.0</td>\n      <td>0.021739</td>\n      <td>8.0</td>\n    </tr>\n    <tr>\n      <th>...</th>\n      <td>...</td>\n      <td>...</td>\n      <td>...</td>\n      <td>...</td>\n      <td>...</td>\n      <td>...</td>\n      <td>...</td>\n      <td>...</td>\n      <td>...</td>\n      <td>...</td>\n      <td>...</td>\n    </tr>\n    <tr>\n      <th>13042</th>\n      <td>6392</td>\n      <td>0.0</td>\n      <td>0.5</td>\n      <td>0.142857</td>\n      <td>0.5</td>\n      <td>1.0</td>\n      <td>14.99</td>\n      <td>0.000000</td>\n      <td>32116.0</td>\n      <td>0.000000</td>\n      <td>8.0</td>\n    </tr>\n    <tr>\n      <th>13043</th>\n      <td>2950</td>\n      <td>0.0</td>\n      <td>0.5</td>\n      <td>0.142857</td>\n      <td>0.0</td>\n      <td>1.0</td>\n      <td>9.99</td>\n      <td>0.000000</td>\n      <td>32117.0</td>\n      <td>0.021739</td>\n      <td>7.0</td>\n    </tr>\n    <tr>\n      <th>13044</th>\n      <td>10483</td>\n      <td>0.5</td>\n      <td>1.0</td>\n      <td>0.000000</td>\n      <td>0.5</td>\n      <td>0.0</td>\n      <td>0.99</td>\n      <td>0.000000</td>\n      <td>32124.0</td>\n      <td>0.000000</td>\n      <td>-1.0</td>\n    </tr>\n    <tr>\n      <th>13045</th>\n      <td>9334</td>\n      <td>1.0</td>\n      <td>1.0</td>\n      <td>0.000000</td>\n      <td>0.5</td>\n      <td>1.0</td>\n      <td>1.99</td>\n      <td>0.333333</td>\n      <td>32129.0</td>\n      <td>0.000000</td>\n      <td>-1.0</td>\n    </tr>\n    <tr>\n      <th>13046</th>\n      <td>2839</td>\n      <td>0.5</td>\n      <td>1.0</td>\n      <td>0.000000</td>\n      <td>0.5</td>\n      <td>0.0</td>\n      <td>4.99</td>\n      <td>0.333333</td>\n      <td>32133.0</td>\n      <td>0.000000</td>\n      <td>-1.0</td>\n    </tr>\n  </tbody>\n</table>\n<p>13047 rows × 11 columns</p>\n</div>"
     },
     "metadata": {},
     "execution_count": 108
    }
   ],
   "source": [
    "fagg_df"
   ]
  },
  {
   "cell_type": "code",
   "execution_count": null,
   "metadata": {},
   "outputs": [],
   "source": []
  }
 ]
}